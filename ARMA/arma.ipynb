{
 "cells": [
  {
   "cell_type": "markdown",
   "metadata": {},
   "source": [
    "# Volume 3: ARMA Models\n",
    "    <Name>\n",
    "    <Class>\n",
    "    <Date>"
   ]
  },
  {
   "cell_type": "code",
   "execution_count": 1,
   "metadata": {},
   "outputs": [],
   "source": [
    "from scipy.stats.distributions import norm\n",
    "from scipy.optimize import fmin, minimize\n",
    "import numpy as np\n",
    "import matplotlib.pyplot as plt\n",
    "from statsmodels.tsa.arima.model import ARIMA\n",
    "from statsmodels.tsa.base.datetools import dates_from_str\n",
    "from statsmodels.tsa.api import VARMAX\n",
    "import statsmodels.api as sm\n",
    "from pydataset import data as pydata\n",
    "from statsmodels.tsa.stattools import arma_order_select_ic as order_select\n",
    "import pandas as pd"
   ]
  },
  {
   "cell_type": "markdown",
   "metadata": {},
   "source": [
    "## Helper Functions"
   ]
  },
  {
   "cell_type": "code",
   "execution_count": 2,
   "metadata": {},
   "outputs": [],
   "source": [
    "def kalman(F, Q, H, time_series):\n",
    "    # Get dimensions\n",
    "    dim_states = F.shape[0]\n",
    "\n",
    "    # Initialize variables\n",
    "    # covs[i] = P_{i | i-1}\n",
    "    covs = np.zeros((len(time_series), dim_states, dim_states))\n",
    "    mus = np.zeros((len(time_series), dim_states))\n",
    "\n",
    "    # Solve of for first mu and cov\n",
    "    covs[0] = np.linalg.solve(np.eye(dim_states**2) - np.kron(F,F), \n",
    "                              np.eye(dim_states**2).dot(Q.flatten())).reshape(\n",
    "                            (dim_states,dim_states))\n",
    "    mus[0] = np.zeros((dim_states,))\n",
    "\n",
    "    # Update Kalman Filter\n",
    "    for i in range(1, len(time_series)):\n",
    "        #FIXME\n",
    "        t1 = np.linalg.solve(H.dot(covs[i-1]).dot(H.T),np.eye(H.shape[0]))\n",
    "        t2 = covs[i-1].dot(H.T.dot(t1.dot(H.dot(covs[i-1]))))\n",
    "        covs[i] = F.dot((covs[i-1] - t2).dot(F.T)) + Q\n",
    "        mus[i] = F.dot(mus[i-1]) + F.dot(covs[i-1].dot(H.T.dot(t1))).dot(\n",
    "                time_series[i-1] - H.dot(mus[i-1]))\n",
    "    return mus, covs\n",
    "\n",
    "def state_space_rep(phis, thetas, mu, sigma):\n",
    "    # Initialize variables\n",
    "    dim_states = max(len(phis), len(thetas)+1)\n",
    "    dim_time_series = 1 #hardcoded for 1d time_series\n",
    "\n",
    "    F = np.zeros((dim_states,dim_states))\n",
    "    Q = np.zeros((dim_states, dim_states))\n",
    "    H = np.zeros((dim_time_series, dim_states))\n",
    "\n",
    "    # Create F\n",
    "    F[0][:len(phis)] = phis\n",
    "    F[1:,:-1] = np.eye(dim_states - 1)\n",
    "    # Create Q\n",
    "    Q[0][0] = sigma**2\n",
    "    # Create H\n",
    "    H[0][0] = 1.\n",
    "    H[0][1:len(thetas)+1] = thetas\n",
    "\n",
    "    return F, Q, H, dim_states, dim_time_series"
   ]
  },
  {
   "cell_type": "markdown",
   "metadata": {},
   "source": [
    "## Problem 1"
   ]
  },
  {
   "cell_type": "code",
   "execution_count": 3,
   "metadata": {},
   "outputs": [],
   "source": [
    "def arma_forecast_naive(file='weather.npy',p=2,q=1,n=20):\n",
    "    \"\"\"\n",
    "    Perform ARMA(2,1) on data. Let error terms be drawn from\n",
    "    a standard normal and let all constants be 1.\n",
    "    Predict n values and plot original data with predictions.\n",
    "\n",
    "    Parameters:\n",
    "        file (str): data file\n",
    "        p (int): order of autoregressive model\n",
    "        q (int): order of moving average model\n",
    "        n (int): number of future predictions\n",
    "    \"\"\"\n",
    "    raise NotImplementedError('Problem 1 Incomplete') "
   ]
  },
  {
   "cell_type": "markdown",
   "metadata": {},
   "source": [
    "## Problem 2"
   ]
  },
  {
   "cell_type": "code",
   "execution_count": null,
   "metadata": {},
   "outputs": [],
   "source": [
    "def arma_likelihood(filename='weather.npy', phis=np.array([0.9]), thetas=np.array([0]), mu=17., std=0.4):\n",
    "    \"\"\"\n",
    "    Transfer the ARMA model into state space.\n",
    "    Return the log-likelihood of the ARMA model.\n",
    "\n",
    "    Parameters:\n",
    "        file (str): data file\n",
    "        phis (ndarray): coefficients of autoregressive model\n",
    "        thetas (ndarray): coefficients of moving average model\n",
    "        mu (float): mean of errorm\n",
    "        std (float): standard deviation of error\n",
    "\n",
    "    Return:\n",
    "        log_likelihood (float)\n",
    "    \"\"\"\n",
    "    raise NotImplementedError('Problem 2 Incomplete') "
   ]
  },
  {
   "cell_type": "markdown",
   "metadata": {},
   "source": [
    "## Problem 3"
   ]
  },
  {
   "cell_type": "code",
   "execution_count": null,
   "metadata": {},
   "outputs": [],
   "source": [
    "def model_identification(filename='weather.npy',p_max=4,q_max=4):\n",
    "    \"\"\"\n",
    "    Identify parameters to minimize AIC of ARMA(p,q) model\n",
    "\n",
    "    Parameters:\n",
    "        file (str): data file\n",
    "        p (int): maximum order of autoregressive model\n",
    "        q (int): maximum order of moving average model\n",
    "\n",
    "    Returns:\n",
    "        phis (ndarray (p,)): coefficients for AR(p)\n",
    "        thetas (ndarray (q,)): coefficients for MA(q)\n",
    "        mu (float): mean of error\n",
    "        std (float): std of error\n",
    "    \"\"\"\n",
    "    raise NotImplementedError('Problem 3 Incomplete') "
   ]
  },
  {
   "cell_type": "markdown",
   "metadata": {},
   "source": [
    "## Problem 4"
   ]
  },
  {
   "cell_type": "code",
   "execution_count": null,
   "metadata": {},
   "outputs": [],
   "source": [
    "def arma_forecast(filename='weather.npy', phis=np.array([0]), thetas=np.array([0]), mu=0, std=0, n=30):\n",
    "    \"\"\"\n",
    "    Forecast future observations of data.\n",
    "\n",
    "    Parameters:\n",
    "        file (str): data file\n",
    "        phis (ndarray (p,)): coefficients of AR(p)\n",
    "        thetas (ndarray (q,)): coefficients of MA(q)\n",
    "        mu (float): mean of ARMA model\n",
    "        std (float): standard deviation of ARMA model\n",
    "        n (int): number of forecast observations\n",
    "    \"\"\"\n",
    "    raise NotImplementedError('Problem 4 Incomplete') "
   ]
  },
  {
   "cell_type": "markdown",
   "metadata": {},
   "source": [
    "## Problem 5"
   ]
  },
  {
   "cell_type": "code",
   "execution_count": null,
   "metadata": {},
   "outputs": [],
   "source": [
    "def sm_arma(filename='weather.npy', p_max=3, q_max=3, n=30):\n",
    "    \"\"\"\n",
    "    Build an ARMA model with statsmodel and\n",
    "    predict future n values.\n",
    "\n",
    "    Parameters:\n",
    "        filename (str): data filename\n",
    "        i (int): maximum order of autoregressive model\n",
    "        j (int): maximum order of moving average model\n",
    "        n (int): number of values to predict\n",
    "\n",
    "    Return:\n",
    "        aic (float): aic of optimal model\n",
    "    \"\"\"\n",
    "    raise NotImplementedError('Problem 5 Incomplete') "
   ]
  },
  {
   "cell_type": "markdown",
   "metadata": {},
   "source": [
    "## Problem 6"
   ]
  },
  {
   "cell_type": "code",
   "execution_count": null,
   "metadata": {},
   "outputs": [],
   "source": [
    "def sm_varma(start='1959-09-30', end='2012-09-30'):\n",
    "    \"\"\"\n",
    "    Build an VARMAX model with statsmodel and\n",
    "    predict future n values.\n",
    "\n",
    "    Parameters:\n",
    "        start (str): the data at which to begin forecasting\n",
    "        end (str): the date at which to stop forecasting\n",
    "\n",
    "    Return:\n",
    "        aic (float): aic of optimal model\n",
    "    \"\"\"\n",
    "    raise NotImplementedError('Problem 6 Incomplete') "
   ]
  }
 ],
 "metadata": {
  "kernelspec": {
   "display_name": "Python 3 (ipykernel)",
   "language": "python",
   "name": "python3"
  },
  "language_info": {
   "codemirror_mode": {
    "name": "ipython",
    "version": 3
   },
   "file_extension": ".py",
   "mimetype": "text/x-python",
   "name": "python",
   "nbconvert_exporter": "python",
   "pygments_lexer": "ipython3",
   "version": "3.7.4"
  }
 },
 "nbformat": 4,
 "nbformat_minor": 2
}
