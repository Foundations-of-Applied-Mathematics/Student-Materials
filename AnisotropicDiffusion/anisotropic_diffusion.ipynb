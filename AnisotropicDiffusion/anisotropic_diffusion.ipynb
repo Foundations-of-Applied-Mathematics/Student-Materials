{
 "cells": [
  {
   "cell_type": "code",
   "execution_count": null,
   "metadata": {},
   "outputs": [],
   "source": [
    "import numpy as np\n",
    "from numpy.random import randint\n",
    "from matplotlib import cm, pyplot as plt\n",
    "from scipy.misc import imread, imsave\n",
    "from numpy.random import randint\n",
    "plt.rcParams['figure.figsize'] = (16,10)"
   ]
  },
  {
   "cell_type": "markdown",
   "metadata": {},
   "source": [
    "# Problem 1\n",
    "\n",
    "Complete the following function, by implementing the anisotropic di\u001busion algorithm found in 10.1 for black and white images.\n",
    "Run the function on balloon.jpg. Show the original image and the di\u001bused image for σ = .1,\n",
    "λ = .25, N = 5, 20, 100."
   ]
  },
  {
   "cell_type": "code",
   "execution_count": null,
   "metadata": {},
   "outputs": [],
   "source": [
    "def anisdiff_bw(U, N, lambda_, g):\n",
    "    \"\"\" Run the Anisotropic Diffusion differencing scheme\n",
    "    on the array U of grayscale values for an image.\n",
    "    Perform N iterations, use the function g\n",
    "    to limit diffusion across boundaries in the image.\n",
    "    Operate on U inplace to optimize performance. \"\"\""
   ]
  },
  {
   "cell_type": "markdown",
   "metadata": {},
   "source": [
    "# Problem 2\n",
    "\n",
    "Complete the following function to process a colored image.\n",
    "Run the function on balloons_color.jpg. Show the original image and the di\u001bused image for\n",
    "σ = .1, λ = .25, N = 5, 20, 100."
   ]
  },
  {
   "cell_type": "code",
   "execution_count": null,
   "metadata": {},
   "outputs": [],
   "source": [
    "def anisdiff_color(U, N, lambda_, g):\n",
    "    \"\"\" Run the Anisotropic Diffusion differencing scheme\n",
    "    on the array U of grayscale values for an image.\n",
    "    Perform N iterations, use the function g = e^{-x^2/sigma^2}\n",
    "    to limit diffusion across boundaries in the image.\n",
    "    Operate on U inplace to optimize performance. \"\"\""
   ]
  },
  {
   "cell_type": "markdown",
   "metadata": {},
   "source": [
    "# Problem 3\n",
    "\n",
    "Run anisdiff_bw() on the noisy image with σ = .1, λ = .25, N = 20. Display the\n",
    "original image and the noisy image. Explain why anisotropic di\u001busion does not smooth out the\n",
    "noise.\n",
    "\n",
    "Use the following code to add noise to your grayscale image."
   ]
  },
  {
   "cell_type": "code",
   "execution_count": null,
   "metadata": {},
   "outputs": [],
   "source": [
    "image = imread('balloon.jpg', as_gray=True)\n",
    "x, y = image.shape\n",
    "for i in range(x*y//100):\n",
    "    image[randint(x),randint(y)] = 127 + randint(127)"
   ]
  },
  {
   "cell_type": "markdown",
   "metadata": {},
   "source": [
    "# Problem 4\n",
    "\n",
    "Implement the minimum-biased finite diverence scheme described above. Add noise to\n",
    "balloons_color.jpg using the provided code below, and clean it using your implementation.\n",
    "Show the original image, the noised image, and the cleaned image."
   ]
  },
  {
   "cell_type": "code",
   "execution_count": null,
   "metadata": {},
   "outputs": [],
   "source": [
    "image = imread('balloons_color.jpg')\n",
    "x,y,z = image.shape\n",
    "for dim in range(z):\n",
    "    for i in range(x*y//100):\n",
    "        # Assign a random value to a random place\n",
    "        image[randint(x),randint(y),dim] = 127 + randint(127)\n"
   ]
  }
 ],
 "metadata": {
  "kernelspec": {
   "display_name": "Python 3",
   "language": "python",
   "name": "python3"
  },
  "language_info": {
   "codemirror_mode": {
    "name": "ipython",
    "version": 3
   },
   "file_extension": ".py",
   "mimetype": "text/x-python",
   "name": "python",
   "nbconvert_exporter": "python",
   "pygments_lexer": "ipython3",
   "version": "3.7.9"
  }
 },
 "nbformat": 4,
 "nbformat_minor": 2
}
