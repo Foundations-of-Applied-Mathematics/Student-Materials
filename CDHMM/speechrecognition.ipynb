{
 "cells": [
  {
   "attachments": {},
   "cell_type": "markdown",
   "metadata": {},
   "source": [
    "# Volume 3: Speech Recognition using CDHMMs\n",
    "    <Name>\n",
    "    <Class>\n",
    "    <Date>"
   ]
  },
  {
   "cell_type": "code",
   "execution_count": null,
   "metadata": {},
   "outputs": [],
   "source": [
    "import os\n",
    "import MFCC\n",
    "import re\n",
    "\n",
    "import numpy as np\n",
    "from hmmlearn import hmm\n",
    "from scipy.io import wavfile\n",
    "from matplotlib import pyplot as plt\n",
    "from sklearn.decomposition import PCA"
   ]
  },
  {
   "cell_type": "markdown",
   "metadata": {},
   "source": [
    "## Problem 1\n",
    "\n",
    "Write a function `sample_gmmhmm` which accepts an integer $T$, and draws $T$ samples from the GMMHMM given in the lab pdf.\n",
    "\n",
    "Use your function to draw $T=900$ samples from the GMMHMM.\n",
    "Use `sklearn.decomposition.PCA` with 2 components to plot the observations in two-dimensional space. \n",
    "Color the observations by state.\n",
    "How many distinct clusters do you see?\n",
    "\n",
    "Hint: the function `np.random.choice` will be useful for drawing the hidden states and the GMM components, and `np.random.multivariate_normal` for the observation sequence. \n",
    "When plotting the samples, using the keyword argument `c` in `plt.scatter` allows you to specify the colors of the individual points."
   ]
  },
  {
   "cell_type": "code",
   "execution_count": null,
   "metadata": {},
   "outputs": [],
   "source": [
    "def sample_gmmhmm(T):\n",
    "    \"\"\"\n",
    "    Simulate from the GMMHMM given in the problem, returning T samples.\n",
    "    \n",
    "    Returns\n",
    "    -------\n",
    "    states : ndarray of shape (n_sim,)\n",
    "        The sequence of states\n",
    "    obs : ndarray of shape (n_sim, M)\n",
    "        The generated observations (vectors of length M)\n",
    "    \"\"\"\n",
    "    N = 3\n",
    "    K = 5\n",
    "    M = 4\n",
    "    \n",
    "    ## Define the GMMHMM parameters\n",
    "    # NxN transition matrix \n",
    "    A = np.array([[.3, .3, .4], [.2, .3, .5], [.3, .2, .5]])\n",
    "    # NxK collection of component weights\n",
    "    weights = np.array([[.3, .2, .1, .2, .2], [.1, .3, .3, .2, .1], \n",
    "                        [.1, .3, .2, .1, .3]])\n",
    "    # NxKxM collection of component means\n",
    "    means = np.array([np.floor(np.random.uniform(-100, 100, size=(5, 4))) \n",
    "                            for i in range(3)])\n",
    "    # NxKx(MxM) collection of component covariance matrices       \n",
    "    covars = np.array([[np.floor(np.random.uniform(1, 20))*np.eye(4) \n",
    "                            for i in range(5)] for j in range(3)])\n",
    "    # (N,) ndarray initial state distribution \n",
    "    pi = np.array([.15, .15, .7])\n",
    "    \n",
    "    raise NotImplementedError(\"Problem 1 incomplete\")"
   ]
  },
  {
   "cell_type": "code",
   "execution_count": null,
   "metadata": {},
   "outputs": [],
   "source": []
  },
  {
   "cell_type": "markdown",
   "metadata": {},
   "source": [
    "## Problem 2\n",
    "\n",
    "In the remainder of this lab, we will create a speech recognition system for the vocabulary of the following five words/phrases: \"biology\", \"mathematics\", \"political science\", \"psychology\", and \"statistics\".\n",
    "\n",
    "The `Samples` folder contains 30 recordings for each of the words/phrases in the vocabulary.\n",
    "These audio samples are 2 seconds in duration, recorded at a rate of 44100 samples per second, with samples stored as 16-bit signed integers in WAV format. \n",
    "For each of the words, create a list holding the MFCC coefficients of the recordings of that word.\n",
    "\n",
    "The function `scipy.io.wavfile.read` can be used to load the sound files, and the function `extract` in `MFCC.py` implements the MFCC coefficient algorithm."
   ]
  },
  {
   "cell_type": "code",
   "execution_count": null,
   "metadata": {},
   "outputs": [],
   "source": []
  },
  {
   "cell_type": "markdown",
   "metadata": {},
   "source": [
    "## Problem 3\n",
    "\n",
    "For each word, randomly split the list of MFCCs into a training set of 20 samples and a test set of the remaining 10 samples.\n",
    "\n",
    "Use the training sets to train GMMHMMs on each word in the vocabulary.\n",
    "For each word in the vocabulary, train 10 GMMHMMs on the training set, using `n_components=5`.\n",
    "Keep the model with the highest log-likelihood for each word."
   ]
  },
  {
   "cell_type": "code",
   "execution_count": null,
   "metadata": {},
   "outputs": [],
   "source": []
  },
  {
   "cell_type": "markdown",
   "metadata": {},
   "source": [
    "## Problem 4\n",
    "\n",
    "Write a `predict` function for your speech recognition model.\n",
    "In this function:\n",
    " - Accept the MFCC coefficients of the speech sample to be predicted.\n",
    " - Find the log probability density of the coefficients for each word's GMMHMM.\n",
    " - Return the word with the highest probability as the speech recognition model's prediction."
   ]
  },
  {
   "cell_type": "code",
   "execution_count": null,
   "metadata": {},
   "outputs": [],
   "source": []
  },
  {
   "cell_type": "markdown",
   "metadata": {},
   "source": [
    "## Problem 5\n",
    "\n",
    "For each of the five test sets, call your `predict` function on each sample, and find the proportion of each test set that your model predicts correctly.\n",
    "Display your results.\n",
    "How well does your model perform on this dataset?"
   ]
  },
  {
   "cell_type": "code",
   "execution_count": null,
   "metadata": {},
   "outputs": [],
   "source": []
  }
 ],
 "metadata": {
  "kernelspec": {
   "display_name": "Python 3 (ipykernel)",
   "language": "python",
   "name": "python3"
  },
  "language_info": {
   "codemirror_mode": {
    "name": "ipython",
    "version": 3
   },
   "file_extension": ".py",
   "mimetype": "text/x-python",
   "name": "python",
   "nbconvert_exporter": "python",
   "pygments_lexer": "ipython3",
   "version": "3.10.11"
  }
 },
 "nbformat": 4,
 "nbformat_minor": 4
}
