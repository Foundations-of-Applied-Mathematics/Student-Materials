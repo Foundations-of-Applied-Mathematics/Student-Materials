{
 "cells": [
  {
   "cell_type": "markdown",
   "metadata": {},
   "source": [
    "<h1 align=\"center\">Volume 1: Visualizing Complex-valued Functions.</h1>\n",
    "\n",
    "    <Name>\n",
    "    <Class>\n",
    "    <Date>"
   ]
  },
  {
   "cell_type": "code",
   "execution_count": null,
   "metadata": {},
   "outputs": [],
   "source": [
    "import numpy as np\n",
    "from matplotlib import pyplot as plt\n",
    "from matplotlib.colors import LogNorm"
   ]
  },
  {
   "cell_type": "code",
   "execution_count": null,
   "metadata": {
    "collapsed": true
   },
   "outputs": [],
   "source": [
    "plt.rcParams[\"figure.dpi\"] = 300     # Raise figure quality."
   ]
  },
  {
   "cell_type": "markdown",
   "metadata": {},
   "source": [
    "### Problem 1\n",
    "- Implement `plot_complex()`.\n",
    "- Plot $f(z) = z$ on $\\{x + yi \\mid x,y \\in [-1,1]\\}$.\n",
    "- Plot $f(z) = \\sqrt{z^2 + 1}$ on $\\{x + iy \\mid x,y \\in [-3,3]\\}$."
   ]
  },
  {
   "cell_type": "code",
   "execution_count": null,
   "metadata": {
    "collapsed": true
   },
   "outputs": [],
   "source": [
    "# Problem 1\n",
    "def plot_complex(f, window=[-1, 1, -1, 1], res=400, title=\"\"):\n",
    "    \"\"\"Visualize the complex-valued function f:C->C on the (res x res) domain\n",
    "    {a + bi | a in [r_min, r_max], b in [i_min, i_max]} by plotting the\n",
    "    argument of f(z) and the magnitude of f(z) in separate subplots.\n",
    "    \n",
    "    Parameters:\n",
    "        f (func): A function that accepts and returns arrays with complex entries.\n",
    "        window ([r_min, r_max, i_min, i_max]): The real and imaginary domain bounds.\n",
    "        res (int): The plot resolution. The domain should be res x res.\n",
    "        title (str): A label for the function to set as the figure title.\n",
    "            Use r\"$<latex code>$\" for pretty printing. For example, for the function\n",
    "            f = lambda z: z**2 - np.sqrt(z), use title=r\"$f(z) = z^2 - \\sqrt{z}$\".\n",
    "    \"\"\"\n",
    "    raise NotImplementedError(\"Problem 1 Incomplete\")"
   ]
  },
  {
   "cell_type": "code",
   "execution_count": null,
   "metadata": {
    "collapsed": true
   },
   "outputs": [],
   "source": []
  },
  {
   "cell_type": "markdown",
   "metadata": {},
   "source": [
    "### Problem 2\n",
    "\n",
    "Plot the following functions on $\\{x+iy \\mid x \\in [-1,1],\\; y \\in [-1,1]\\}$.\n",
    "\n",
    "- $f(z) = z^n$ for $n=2,3,4$.\n",
    "- $f(z) = z^3 - iz^4 - 3z^6$.\n",
    "\n",
    "What does a zero of $f(z)$ look like in these plots?"
   ]
  },
  {
   "cell_type": "code",
   "execution_count": null,
   "metadata": {
    "collapsed": true,
    "scrolled": false
   },
   "outputs": [],
   "source": []
  },
  {
   "cell_type": "markdown",
   "metadata": {
    "collapsed": true
   },
   "source": [
    "Answer:"
   ]
  },
  {
   "cell_type": "markdown",
   "metadata": {},
   "source": [
    "### Problem 3\n",
    "\n",
    "Plot the following functions on domains that show all of the zeros and poles.\n",
    "\n",
    "- $f(z) = z^{-n}$ for $n=1,2,3$.\n",
    "- $f(z) = z^2 + iz^{-1} + z^{-3}$.\n",
    "\n",
    "What does a pole of $f(z)$ look like in these plots?"
   ]
  },
  {
   "cell_type": "code",
   "execution_count": null,
   "metadata": {
    "collapsed": true,
    "scrolled": false
   },
   "outputs": [],
   "source": []
  },
  {
   "cell_type": "markdown",
   "metadata": {},
   "source": [
    "Answer:"
   ]
  },
  {
   "cell_type": "markdown",
   "metadata": {},
   "source": [
    "### Problem 4\n",
    "\n",
    "Plot the following functions and estimate the number and order of their zeros and poles.\n",
    "Adjust the bounds of the plots until you have found all zeros and poles.\n",
    "\n",
    "- $f(z) = -4z^5 + 2z^4 - 2z^3 - 4z^2 + 4z - 4$\n",
    "- $f(z) = z^7 +6z^6 −131z^5 −419z^4 +4906z^3 −131z^2 −420z+4900$\n",
    "- $f(z) = \\frac{16z^4 + 32z^3 + 32z^2 + 16z + 4}{16z^4 - 16z^3 + 5z^2}$"
   ]
  },
  {
   "cell_type": "code",
   "execution_count": null,
   "metadata": {
    "collapsed": true
   },
   "outputs": [],
   "source": []
  },
  {
   "cell_type": "markdown",
   "metadata": {},
   "source": [
    "Answers:"
   ]
  },
  {
   "cell_type": "markdown",
   "metadata": {},
   "source": [
    "### Problem 5\n",
    "\n",
    "Plot the following functions on the domain $\\{x+iy\\mid x,y\\in[-8,8]\\}$.\n",
    "Explain carefully what each graph reveals about the function and why the function behaves that way.\n",
    "\n",
    "- $f(z) = e^z$.\n",
    "- $f(z) = \\tan(z)$.\n",
    "\n",
    "(Hint: use the polar coordinate representation to mathematically examine the magnitude and angle of each function.)"
   ]
  },
  {
   "cell_type": "code",
   "execution_count": null,
   "metadata": {
    "collapsed": true
   },
   "outputs": [],
   "source": []
  },
  {
   "cell_type": "markdown",
   "metadata": {},
   "source": [
    "Answers:"
   ]
  },
  {
   "cell_type": "markdown",
   "metadata": {},
   "source": [
    "### Problem 6\n",
    "\n",
    "For each of the following functions, plot the function on the domain $\\{x+iy\\mid x,y\\in[-1,1]\\}$ and describe what this view of the plot seems to imply about the function.\n",
    "Then plot the function on a domain that allows you to see the true nature of the roots and poles and describe how it is different from what the original plot implied.\n",
    "\n",
    "- $f(z) = 100z^2 + z$\n",
    "- $f(z) = \\sin\\left(\\frac{1}{100z}\\right)$.\n",
    "\n",
    "(Hint: zoom way in.)"
   ]
  },
  {
   "cell_type": "code",
   "execution_count": null,
   "metadata": {
    "collapsed": true,
    "scrolled": false
   },
   "outputs": [],
   "source": []
  },
  {
   "cell_type": "markdown",
   "metadata": {},
   "source": [
    "Answers:"
   ]
  }
 ],
 "metadata": {
  "kernelspec": {
   "display_name": "Python 3",
   "language": "python",
   "name": "python3"
  },
  "language_info": {
   "codemirror_mode": {
    "name": "ipython",
    "version": 3
   },
   "file_extension": ".py",
   "mimetype": "text/x-python",
   "name": "python",
   "nbconvert_exporter": "python",
   "pygments_lexer": "ipython3",
   "version": "3.6.6"
  }
 },
 "nbformat": 4,
 "nbformat_minor": 1
}
