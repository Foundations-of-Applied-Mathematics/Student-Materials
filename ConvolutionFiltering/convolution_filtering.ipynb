{
 "cells": [
  {
   "attachments": {},
   "cell_type": "markdown",
   "metadata": {},
   "source": [
    "# Volume 2: Convolution and Filtering\n",
    "    <Name>\n",
    "    <Class>\n",
    "    <Date>"
   ]
  },
  {
   "cell_type": "code",
   "execution_count": null,
   "metadata": {},
   "outputs": [],
   "source": [
    "from imageio.v3 import imread\n",
    "import IPython\n",
    "import numpy as np\n",
    "from scipy.io import wavfile\n",
    "from scipy.signal import fftconvolve\n",
    "from scipy.fftpack import fft, ifft, fft2, ifft2\n",
    "from matplotlib import pyplot as plt"
   ]
  },
  {
   "cell_type": "code",
   "execution_count": null,
   "metadata": {
    "scrolled": true
   },
   "outputs": [],
   "source": [
    "plt.rcParams[\"figure.dpi\"] = 300             # Fix plot quality.\n",
    "plt.rcParams[\"figure.figsize\"] = (12,3)      # Change plot size / aspect (you may adjust this)."
   ]
  },
  {
   "cell_type": "code",
   "execution_count": null,
   "metadata": {
    "scrolled": true
   },
   "outputs": [],
   "source": [
    "class SoundWave(object):\n",
    "    \"\"\"A class for working with digital audio signals.\"\"\"\n",
    "\n",
    "    def __init__(self, rate, samples):\n",
    "        \"\"\"Set the SoundWave class attributes.\n",
    "\n",
    "        Parameters:\n",
    "            rate (int): The sample rate of the sound.\n",
    "            samples ((n,) ndarray): NumPy array of samples.\n",
    "        \"\"\"\n",
    "        # Copy your code from The Discrete Fourier Transform lab here\n",
    "        raise NotImplementedError(\"Did not transfer code from DFT lab\")\n",
    "\n",
    "    def plot(self):\n",
    "        \"\"\"Plot the graph of the sound wave (time versus amplitude).\"\"\"\n",
    "        # Copy your code from The Discrete Fourier Transform lab here\n",
    "        raise NotImplementedError(\"Did not transfer code from DFT lab\")\n",
    "\n",
    "    def export(self, filename, force=False):\n",
    "        \"\"\"Generate a wav file from the sample rate and samples. \n",
    "        If the array of samples is not of type np.int16, scale it before exporting.\n",
    "\n",
    "        Parameters:\n",
    "            filename (str): The name of the wav file to export the sound to.\n",
    "        \"\"\"\n",
    "        # Copy your code from The Discrete Fourier Transform lab here\n",
    "        raise NotImplementedError(\"Did not transfer code from DFT lab\")\n",
    "    \n",
    "    def __add__(self, other):\n",
    "        \"\"\"Combine the samples from two SoundWave objects.\n",
    "\n",
    "        Parameters:\n",
    "            other (SoundWave): An object containing the samples to add\n",
    "                to the samples contained in this object.\n",
    "        \n",
    "        Returns:\n",
    "            (SoundWave): A new SoundWave instance with the combined samples.\n",
    "\n",
    "        Raises:\n",
    "            ValueError: if the two sample arrays are not the same length.\n",
    "        \"\"\"\n",
    "        # Copy your code from The Discrete Fourier Transform lab here\n",
    "        raise NotImplementedError(\"Did not transfer code from DFT lab\")\n",
    "\n",
    "    def __rshift__(self, other):\n",
    "        \"\"\"Concatentate the samples from two SoundWave objects.\n",
    "\n",
    "        Parameters:\n",
    "            other (SoundWave): An object containing the samples to concatenate\n",
    "                to the samples contained in this object.\n",
    "\n",
    "        Raises:\n",
    "            ValueError: if the two sample rates are not equal.\n",
    "        \"\"\"\n",
    "        # Copy your code from The Discrete Fourier Transform lab here\n",
    "        raise NotImplementedError(\"Did not transfer code from DFT lab\")\n",
    "    \n",
    "    # Problem 1\n",
    "    def __mul__(self, other):\n",
    "        \"\"\"Convolve the samples from two SoundWave objects using circular convolution.\n",
    "        \n",
    "        Parameters:\n",
    "            other (SoundWave): An object containing the samples to convolve\n",
    "                with the samples contained in this object.\n",
    "        \n",
    "        Returns:\n",
    "            (SoundWave): A new SoundWave instance with the convolved samples.\n",
    "\n",
    "        Raises:\n",
    "            ValueError: if the two sample rates are not equal.\n",
    "        \"\"\"\n",
    "        raise NotImplementedError(\"Problem 1 Incomplete\")\n",
    "\n",
    "    # Problem 2\n",
    "    def __pow__(self, other):\n",
    "        \"\"\"Convolve the samples from two SoundWave objects using linear convolution.\n",
    "        \n",
    "        Parameters:\n",
    "            other (SoundWave): An object containing the samples to convolve\n",
    "                with the samples contained in this object.\n",
    "        \n",
    "        Returns:\n",
    "            (SoundWave): A new SoundWave instance with the convolved samples.\n",
    "\n",
    "        Raises:\n",
    "            ValueError: if the two sample rates are not equal.\n",
    "        \"\"\"\n",
    "        raise NotImplementedError(\"Problem 2 Incomplete\")\n",
    "\n",
    "    # Problem 4\n",
    "    def clean(self, low_freq, high_freq):\n",
    "        \"\"\"Remove a range of frequencies from the samples using the DFT. \n",
    "\n",
    "        Parameters:\n",
    "            low_freq (float): Lower bound of the frequency range to zero out.\n",
    "            high_freq (float): Higher boound of the frequency range to zero out.\n",
    "        \"\"\"\n",
    "        raise NotImplementedError(\"Problem 4 Incomplete\")"
   ]
  },
  {
   "attachments": {},
   "cell_type": "markdown",
   "metadata": {},
   "source": [
    "## Problem 1\n",
    "\n",
    "- Implement `SoundWave.__mul__()` for circular convolution.\n",
    "- Generate 2 seconds of white noise at the same sample rate as `tada.wav`.\n",
    "- Compute the circular convolution of `tada.wav` and the white noise. Embed the result in the first cell.\n",
    "- Append the circular convolution to itself and embed the result in the second cell."
   ]
  },
  {
   "cell_type": "code",
   "execution_count": null,
   "metadata": {},
   "outputs": [],
   "source": []
  },
  {
   "cell_type": "code",
   "execution_count": null,
   "metadata": {},
   "outputs": [],
   "source": []
  },
  {
   "attachments": {},
   "cell_type": "markdown",
   "metadata": {},
   "source": [
    "## Problem 2\n",
    "\n",
    "- Implement `SoundWave.__pow__()` for linear convolution.\n",
    "- In the first cell, time the linear convolution of `CGC.wav` and `GCG.wav` using `SoundWave.__pow__()` and `scipy.signal.fftconvolve()`.\n",
    "- Use the next four cells to embed the two original sounds and their convolutions in the notebook. Check that the convolutions with `SoundWave.__pow__()` and `scipy.signal.fftconvolve()` sound the same."
   ]
  },
  {
   "cell_type": "code",
   "execution_count": null,
   "metadata": {},
   "outputs": [],
   "source": []
  },
  {
   "cell_type": "code",
   "execution_count": null,
   "metadata": {},
   "outputs": [],
   "source": []
  },
  {
   "cell_type": "code",
   "execution_count": null,
   "metadata": {},
   "outputs": [],
   "source": []
  },
  {
   "cell_type": "code",
   "execution_count": null,
   "metadata": {},
   "outputs": [],
   "source": []
  },
  {
   "cell_type": "code",
   "execution_count": null,
   "metadata": {},
   "outputs": [],
   "source": []
  },
  {
   "attachments": {},
   "cell_type": "markdown",
   "metadata": {},
   "source": [
    "## Problem 3\n",
    "\n",
    "Use `SoundWave.__pow__()` or `scipy.signal.fftconvolve()` to compute the linear convolution of `chopin.wav` and `balloon.wav`.\n",
    "Embed the two original sounds and their convolution in the provided cells."
   ]
  },
  {
   "cell_type": "code",
   "execution_count": null,
   "metadata": {},
   "outputs": [],
   "source": []
  },
  {
   "cell_type": "code",
   "execution_count": null,
   "metadata": {},
   "outputs": [],
   "source": []
  },
  {
   "cell_type": "code",
   "execution_count": null,
   "metadata": {},
   "outputs": [],
   "source": []
  },
  {
   "attachments": {},
   "cell_type": "markdown",
   "metadata": {},
   "source": [
    "## Problem 4\n",
    "\n",
    "- Implement `SoundWave.clean()`.\n",
    "- Clean `noisy1.wav` by filtering out frequencies from $1250$-$2600$ Hz. Embed the original and the cleaned versions in the first two cells.\n",
    "- Clean `noisy2.wav`. Embed the original and the cleaned versions in the last two cells."
   ]
  },
  {
   "cell_type": "code",
   "execution_count": null,
   "metadata": {},
   "outputs": [],
   "source": []
  },
  {
   "cell_type": "code",
   "execution_count": null,
   "metadata": {},
   "outputs": [],
   "source": []
  },
  {
   "cell_type": "code",
   "execution_count": null,
   "metadata": {},
   "outputs": [],
   "source": []
  },
  {
   "cell_type": "code",
   "execution_count": null,
   "metadata": {},
   "outputs": [],
   "source": []
  },
  {
   "attachments": {},
   "cell_type": "markdown",
   "metadata": {},
   "source": [
    "## Problem 5\n",
    "\n",
    "- Embed the orignal file in the first cell.\n",
    "- Clean `vuvuzela.wav` by filtering bad frequencies out of the left and right channels individually.\n",
    "- Recombine the left and right channels and embed the result in the last cell."
   ]
  },
  {
   "cell_type": "code",
   "execution_count": null,
   "metadata": {},
   "outputs": [],
   "source": []
  },
  {
   "cell_type": "code",
   "execution_count": null,
   "metadata": {},
   "outputs": [],
   "source": []
  },
  {
   "attachments": {},
   "cell_type": "markdown",
   "metadata": {},
   "source": [
    "## Problem 6\n",
    "\n",
    "- Clean up `license_plate.png` so that the year printed on the sticker in the bottom right corner of the plate is legible.\n",
    "- Display the original and cleaned images side by side in subplots.\n",
    "- In the markdown cell, indicate the year on the sticker."
   ]
  },
  {
   "cell_type": "code",
   "execution_count": null,
   "metadata": {},
   "outputs": [],
   "source": []
  },
  {
   "cell_type": "code",
   "execution_count": null,
   "metadata": {},
   "outputs": [],
   "source": []
  },
  {
   "cell_type": "markdown",
   "metadata": {},
   "source": [
    "The year on the sticker is..."
   ]
  }
 ],
 "metadata": {
  "anaconda-cloud": {},
  "kernelspec": {
   "display_name": "Python 3",
   "language": "python",
   "name": "python3"
  },
  "language_info": {
   "codemirror_mode": {
    "name": "ipython",
    "version": 3
   },
   "file_extension": ".py",
   "mimetype": "text/x-python",
   "name": "python",
   "nbconvert_exporter": "python",
   "pygments_lexer": "ipython3",
   "version": "3.10.13"
  }
 },
 "nbformat": 4,
 "nbformat_minor": 1
}
