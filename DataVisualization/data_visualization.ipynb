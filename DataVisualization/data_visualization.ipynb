{
 "cells": [
  {
   "cell_type": "markdown",
   "metadata": {},
   "source": [
    "<h1 align=\"center\"> Python Essentials: Data Visualization.</h1>\n",
    "\n",
    "    <Name>\n",
    "    <Class>\n",
    "    <Date>"
   ]
  },
  {
   "cell_type": "code",
   "execution_count": null,
   "metadata": {},
   "outputs": [],
   "source": [
    "import numpy as np\n",
    "from matplotlib import pyplot as plt"
   ]
  },
  {
   "cell_type": "code",
   "execution_count": null,
   "metadata": {},
   "outputs": [],
   "source": [
    "plt.rcParams[\"figure.dpi\"] = 300     # Raise figure quality."
   ]
  },
  {
   "cell_type": "markdown",
   "metadata": {},
   "source": [
    "### Problem 1\n",
    "\n",
    "The file `anscombe.npy` contains Anscombe’s quartet.\n",
    "For each section of the quartet,\n",
    "- Plot the data as a scatter plot on the box [0, 20] × [0, 13].\n",
    "- Use `scipy.stats.linregress()` to calculate the slope and intercept of the least squares regression line for the data and its correlation coefficient (the first three return values).\n",
    "- Plot the least squares regression line over the scatter plot on the domain $x\\in[0,20]$.\n",
    "- Report (print) the mean and variance in $x$ and $y$, the slope and intercept of the regression line, and the correlation coefficient. Compare these statistics to those of the other sections.\n",
    "- Describe how the section is similar to the others and how it is different."
   ]
  },
  {
   "cell_type": "code",
   "execution_count": null,
   "metadata": {
    "scrolled": false
   },
   "outputs": [],
   "source": [
    "A = np.load(\"anscombe.npy\")\n",
    "\n"
   ]
  },
  {
   "cell_type": "markdown",
   "metadata": {},
   "source": [
    "### Problem 2\n",
    "The $n + 1$ Bernstein basis polynomials of degree $n$ are defined as follows.\n",
    "\n",
    "$$b_{n,v}(x) = \\binom{n}{v}x^v(1-x)^{n-v},\\quad v=0,\\ 1,\\ \\ldots,\\ n$$\n",
    "\n",
    "Plot the first $10$ Bernstein basis polynomials ($n = 0,\\ 1,\\ 2,\\ 3$) as small multiples on the domain $[0, 1] \\times [0, 1]$.\n",
    "Label the subplots for clarity, adjust tick marks and labels for simplicity, and set the window limits of\n",
    "each plot to be the same.\n",
    "Consider arranging the subplots so that the rows correspond with $n$ and the columns with $v$.\n",
    "\n",
    "(Hint: The constant $\\binom{n}{v} = \\frac{n!}{v!(n-v)!}$ is called the binomial coefficient and can be efficiently computed with `scipy.special.binom()` or `scipy.special.comb()`.)"
   ]
  },
  {
   "cell_type": "code",
   "execution_count": null,
   "metadata": {},
   "outputs": [],
   "source": [
    "\n",
    "\n"
   ]
  },
  {
   "cell_type": "markdown",
   "metadata": {},
   "source": [
    "### Problem 3\n",
    "\n",
    "The file `MLB.npy` contains measurements from over 1,000 recent Major League Baseball players, compiled by UCLA.\n",
    "Each row in the array represents a different player; the columns are the player’s height (in inches), weight (in pounds), and age (in years), in that order.\n",
    "\n",
    "Create several visualizations to show the correlations between height, weight, and age in the MLB data set.\n",
    "Use at least one scatter plot.\n",
    "Adjust the marker size, plot a regression line, change the window limits, and use small multiples where appropriate."
   ]
  },
  {
   "cell_type": "code",
   "execution_count": null,
   "metadata": {
    "slideshow": {
     "slide_type": "slide"
    }
   },
   "outputs": [],
   "source": [
    "height, weight, age = np.load(\"MLB.npy\").T\n",
    "\n"
   ]
  },
  {
   "cell_type": "markdown",
   "metadata": {},
   "source": [
    "### Problem 4\n",
    "\n",
    "The file `earthquakes.npy` contains data from over 17,000 earthquakes between 2000 and 2010 that were at least a 5 on the Richter scale.\n",
    "Each row in the array represents a different earthquake; the columns are the earthquake’s date (as a fraction of the year), magnitude (on the Richter scale), longitude, and latitude, in that order.\n",
    "\n",
    "Describe the data with at least two better visualizations. Include line plots, scatter plots, and histograms as appropriate.\n",
    "Your plots should answer the following questions:\n",
    "1. How many earthquakes happened every year?\n",
    "2. How often do stronger earthquakes happen compared to weaker ones?\n",
    "3. Where do earthquakes happen? Where do the strongest earthquakes happen?\n",
    "\n",
    "Hint: Use `plt.axis(\"equal\")` or `ax.set_aspect(\"equal\")` to fix the aspect ratio, which may improve comparisons between longitude and latitude."
   ]
  },
  {
   "cell_type": "code",
   "execution_count": null,
   "metadata": {
    "scrolled": false
   },
   "outputs": [],
   "source": [
    "years, magnitudes, longitude, latitude = np.load(\"earthquakes.npy\").T\n",
    "\n"
   ]
  },
  {
   "cell_type": "markdown",
   "metadata": {},
   "source": [
    "### Problem 5\n",
    "\n",
    "The _Rosenbrock function_ is defined as $$f(x,y)=(1−x)^2 +100(y−x^2)^2$$\n",
    "The minimum value of $f$ is $0$, which occurs at the point $(1, 1)$ at the bottom of a steep, banana-shaped valley of the function.\n",
    "\n",
    "Use a heat map and a contour plot to visualize the Rosenbrock function.\n",
    "Also plot the minimizer $(1, 1)$.\n",
    "Use a different sequential colormap for each visualization."
   ]
  },
  {
   "cell_type": "code",
   "execution_count": null,
   "metadata": {},
   "outputs": [],
   "source": []
  },
  {
   "cell_type": "markdown",
   "metadata": {},
   "source": [
    "### Problem 6\n",
    "\n",
    "The file `countries.npy` contains information from 20 different countries.\n",
    "Each row in the array represents a different country; the columns are the 2015 population (in millions of people), the 2015 GDP (in billions of US dollars), the average male height (in centimeters), and the average female height (in centimeters), in that order.\n",
    "\n",
    "Visualize this data set with at least four plots, using at least one scatter plot, one histogram, and one bar chart.\n",
    "List the major insights that your visualizations reveal.\n",
    "\n",
    "(Hint: consider using `np.argsort()` and fancy indexing to sort the data for the bar chart.)"
   ]
  },
  {
   "cell_type": "code",
   "execution_count": null,
   "metadata": {},
   "outputs": [],
   "source": [
    "countries = np.array(\n",
    "            [\"Austria\", \"Bolivia\", \"Brazil\", \"China\", \"Finland\",\n",
    "             \"Germany\", \"Hungary\", \"India\", \"Japan\", \"North Korea\",\n",
    "             \"Montenegro\", \"Norway\", \"Peru\", \"South Korea\", \"Sri Lanka\",\n",
    "             \"Switzerland\", \"Turkey\", \"United Kingdom\", \"United States\", \"Vietnam\"])\n",
    "population, gdp, male, female = np.load(\"countries.npy\").T\n",
    "\n"
   ]
  }
 ],
 "metadata": {
  "anaconda-cloud": {},
  "kernelspec": {
   "display_name": "Python 3 (ipykernel)",
   "language": "python",
   "name": "python3"
  },
  "language_info": {
   "codemirror_mode": {
    "name": "ipython",
    "version": 3
   },
   "file_extension": ".py",
   "mimetype": "text/x-python",
   "name": "python",
   "nbconvert_exporter": "python",
   "pygments_lexer": "ipython3",
   "version": "3.7.4"
  }
 },
 "nbformat": 4,
 "nbformat_minor": 1
}
