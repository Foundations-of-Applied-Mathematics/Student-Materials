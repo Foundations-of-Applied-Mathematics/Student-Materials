{
 "cells": [
  {
   "cell_type": "code",
   "execution_count": null,
   "metadata": {},
   "outputs": [],
   "source": [
    "import numpy as np\n",
    "import matplotlib.pyplot as plt\n",
    "import scipy.linalg as la"
   ]
  },
  {
   "cell_type": "code",
   "execution_count": null,
   "metadata": {},
   "outputs": [],
   "source": [
    "%matplotlib inline"
   ]
  },
  {
   "cell_type": "markdown",
   "metadata": {},
   "source": [
    "# Problem 1\n",
    "\n",
    "Let $u(x) = sin((x + \\pi)^2 - 1)$. Use (1.3) - (1.6) to approximate $\\frac{1}{2}\n",
    "u'' − u'$ at the grid points where $a = 0$, $b = 1$, and $n = 10$. Graph the result."
   ]
  },
  {
   "cell_type": "code",
   "execution_count": null,
   "metadata": {},
   "outputs": [],
   "source": []
  },
  {
   "cell_type": "markdown",
   "metadata": {},
   "source": [
    "# Problem 2\n",
    "\n",
    "Equation (1.7) is the singularly perturbed boundary value problem\n",
    "\\begin{align*}\n",
    "\t&{ } \\varepsilon u''(x)-u(x)'= f(x), \\quad x \\in (0,1), \\\\\n",
    "\t&{ } u(0) = \\alpha, \\quad u(1) = \\beta.\n",
    "\\end{align*}\n",
    "\n",
    "Use equation (1.9) to solve the singularly perturbed BVP (1.7) on $[0,1]$ with $\\varepsilon = 1/10, f(x) = -1, \\alpha=1,$ and $\\beta=3$ on a grid with $n=30$ subintervals. Graph the solution. This BVP is called singularly perturbed because of the location of the parameter $\\varepsilon$. For $\\varepsilon=0$ the ODE has a drastically different character - it then becomes first order, and can no longer support two boundary conditions."
   ]
  },
  {
   "cell_type": "code",
   "execution_count": null,
   "metadata": {},
   "outputs": [],
   "source": []
  },
  {
   "cell_type": "markdown",
   "metadata": {},
   "source": [
    "# Problem 3\n",
    "\n",
    "Implement a function `singular_bvp` to compute the finite difference solution to (1.7).\n",
    "Using $n = 5 \\times 2^0,5 \\times 2^1, \\dots ,5 \\times 2^9$ subintervals, compute 10 approximate solutions.\n",
    "Use these to visualize the $\\mathcal{O}(h^2)$ convergence of the finite difference method from Problem 2 by producing a loglog plot of error against subinterval count; this will be similar to Figure 2, except with $\\varepsilon=0.1$. \n",
    "\n",
    "To produce the plot, treat the approximation with $n = 5 \\times 2^9$ subintervals as the \"true solution\", and measure the error for the other approximations against it. ote that, since the ratios of numbers of subintervals between approximations are multiples of 2, we can compute the $L_{\\infty}$ error for the $n=5 \\times 2^j$ approximation by using the `step` argument in the array slicing syntax:\n",
    "\n",
    "    # best approximation; the vector has length 5*2^9+1\n",
    "    sol_best = singular_bvp(eps,alpha,beta,f,5*(2**9))\n",
    "\n",
    "    # approximation with 5*(2^j) intervals; the vector has length 5*2^j+1\n",
    "    sol_approx = singular_bvp(eps,alpha,beta,f,5*(2**j))\n",
    "\n",
    "    # approximation error; slicing results in a vector of length 5*2^j+1,\n",
    "    #    which allows it to be compared\n",
    "    error = np.max(np.abs(sol_approx - sol_best[::2**(9-j)]))\n"
   ]
  },
  {
   "cell_type": "code",
   "execution_count": null,
   "metadata": {},
   "outputs": [],
   "source": [
    "def singular_bvp(eps,alpha,beta,f,n):\n",
    "    \"\"\"\n",
    "    Solves the singularly perturbed BVP (1.7) on the interval [0,1] using finite differences.\n",
    "    \n",
    "    Parameters:\n",
    "        eps (float): the singular perturbation parameter of the BVP.\n",
    "        alpha (float): the boundary value of u at x=0.\n",
    "        beta (float): the boundary value of u at x=1.\n",
    "        f (callable): the right-hand function of the BVP.\n",
    "        n (int): the number of subintervals to use in the finite differences method.\n",
    "        \n",
    "    Returns:\n",
    "        ((n+1,) ndarray): the approximated solution to the BVP, including the boundary points.\n",
    "    \"\"\"\n",
    "    pass"
   ]
  },
  {
   "cell_type": "code",
   "execution_count": null,
   "metadata": {},
   "outputs": [],
   "source": []
  },
  {
   "cell_type": "markdown",
   "metadata": {},
   "source": [
    "# Problem 4\n",
    "\n",
    "Extend your finite difference code to the case of a general second order linear BVP with boundary conditions:\n",
    "\n",
    "\\begin{align*}\n",
    "\t&{ } a_1(x)y''(x) +a_2(x)y'(x)+ a_3(x) y(x) = f(x), \\quad x \\in (a,b),\\\\\n",
    "\t&{ } y(a) = \\alpha, \\quad y(b) = \\beta.\n",
    "\\end{align*}\n",
    "\n",
    "Use your code to solve the boundary value problem\n",
    "\n",
    "\\begin{align*}\n",
    "\t\\varepsilon y''(x) - 4(\\pi - x^2)y(x) = \\cos x, \\\\\n",
    "\ty(0) = 0, \\quad y(\\pi/2) = 1,\n",
    "\\end{align*}\n",
    "\n",
    "for $\\varepsilon = 0.1$ on a grid with $n=30$ subintervals. Plot your solution."
   ]
  },
  {
   "cell_type": "code",
   "execution_count": null,
   "metadata": {},
   "outputs": [],
   "source": [
    "def bvp(a,b,alpha,beta,a1,a2,a3,f,n):\n",
    "    \"\"\"\n",
    "    Computes the solution to the BVP:\n",
    "        \n",
    "        a1(x)y'' + a2(x)y' + a3(x)y = f\n",
    "        y(a) = α, y(b) = β\n",
    "        \n",
    "    using finite differences.\n",
    "    \n",
    "    Parameters:\n",
    "        a, b (float): the left and right boundary points.\n",
    "        alpha (float): the boundary value of y at x=a.\n",
    "        beta (float): the boundary value of y at x=b.\n",
    "        f (callable): the right-hand function of the BVP.\n",
    "        a1, a2, a3 (callable): the coefficient functions of the BVP.\n",
    "        n (int): the number of subintervals to use in the finite differences method.\n",
    "        \n",
    "    Returns:\n",
    "        ((n+1,) ndarray): the approximated solution to the BVP, including the boundary points.\n",
    "    \"\"\"\n",
    "    pass"
   ]
  },
  {
   "cell_type": "code",
   "execution_count": null,
   "metadata": {},
   "outputs": [],
   "source": []
  },
  {
   "cell_type": "markdown",
   "metadata": {},
   "source": [
    "# Problem 5\n",
    "\n",
    "Numerically solve the boundary value problem\n",
    "\n",
    "\\begin{align*}\n",
    "\t\\varepsilon y''(x) + xy'(x) = -\\varepsilon \\pi^2 \\cos(\\pi x) - \\pi x \\sin(\\pi x), \\\\\n",
    "\ty(-1) = -2, \\quad y(1) = 0,\n",
    "\\end{align*}\n",
    "\n",
    "for $\\varepsilon = 0.1, 0.01,$ and $0.001$. Use a grid with $n=150$ subintervals. Plot your solutions."
   ]
  },
  {
   "cell_type": "code",
   "execution_count": null,
   "metadata": {},
   "outputs": [],
   "source": []
  },
  {
   "cell_type": "markdown",
   "metadata": {},
   "source": [
    "# Problem 6\n",
    "\n",
    "Numerically solve the boundary value problem\n",
    "\n",
    "\\begin{align*}\n",
    "\t(\\varepsilon +x^2)y''(x) + 4xy'(x) + 2y(x) = 0, \\\\\n",
    "\ty(-1) = 1/(1+\\varepsilon), \\quad y(1) = 1/(1+\\varepsilon),\n",
    "\\end{align*}\n",
    "\n",
    "for $\\epsilon = 0.05$ and $0.02$. Use a grid with $n=150$ subintervals. Plot your solutions."
   ]
  },
  {
   "cell_type": "code",
   "execution_count": null,
   "metadata": {},
   "outputs": [],
   "source": []
  }
 ],
 "metadata": {
  "kernelspec": {
   "display_name": "Python 3",
   "language": "python",
   "name": "python3"
  },
  "language_info": {
   "codemirror_mode": {
    "name": "ipython",
    "version": 3
   },
   "file_extension": ".py",
   "mimetype": "text/x-python",
   "name": "python",
   "nbconvert_exporter": "python",
   "pygments_lexer": "ipython3",
   "version": "3.7.9"
  }
 },
 "nbformat": 4,
 "nbformat_minor": 2
}
