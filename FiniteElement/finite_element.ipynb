{
 "cells": [
  {
   "cell_type": "markdown",
   "metadata": {},
   "source": [
    "# Volume 4: Finite Element Method\n",
    "    <Name>\n",
    "    <Class>\n",
    "    <Date>"
   ]
  },
  {
   "cell_type": "code",
   "execution_count": 1,
   "metadata": {},
   "outputs": [],
   "source": [
    "from scipy.sparse import diags\n",
    "from scipy.sparse.linalg import spsolve\n",
    "import numpy as np\n",
    "import matplotlib.pyplot as plt\n",
    "\n",
    "%matplotlib inline"
   ]
  },
  {
   "cell_type": "markdown",
   "metadata": {},
   "source": [
    "# Problem 1\n",
    "\n",
    "Use the finite element method to solve\n",
    " \n",
    "εy\" − y' = −1,\n",
    "\n",
    "y(0) = α, y(1) = β,\n",
    "\n",
    "\n",
    "where α = 2, β = 4, and ε = 0.02. Use N = 100 finite elements (101 grid points). Compare\n",
    "your solution with the analytic solution\n",
    "\n",
    "y(x) = α + x + (β − α − 1)* (e^(x/ε) − 1)/(e^(1/ε) − 1) by graphing.\n",
    "\n",
    "Implement the function FEM(x, eps, alpha, beta) and use it to solve the differential equation."
   ]
  },
  {
   "cell_type": "code",
   "execution_count": null,
   "metadata": {},
   "outputs": [],
   "source": [
    "def analytic_solution(x):\n",
    "    \"\"\"Calculates the analytic solution\"\"\"\n",
    "    return alpha + x + (beta - alpha - 1)*(np.exp(x/epsilon)-1)/(np.exp(1/epsilon)-1)"
   ]
  },
  {
   "cell_type": "code",
   "execution_count": null,
   "metadata": {},
   "outputs": [],
   "source": [
    "def FEM(x, eps, alpha, beta):\n",
    "    \"\"\"\n",
    "    Creates the matrix A and vector Phi for the finite element method as\n",
    "    described in the pdf\n",
    "    \n",
    "    Params:\n",
    "        x (ndarray, (N+1)) - grid points to solve the ODE on (they might not be evenly-spaced)\n",
    "        eps (float) - parameter in the ODE\n",
    "        alpha (float) - left Dirichlet condition\n",
    "        beta (float) - right Dirichlet condition\n",
    "    Return:\n",
    "        A   : scipy sparse matrix\n",
    "        Phi : ndarray\n",
    "    \"\"\"\n",
    "    pass"
   ]
  },
  {
   "cell_type": "code",
   "execution_count": null,
   "metadata": {},
   "outputs": [],
   "source": []
  },
  {
   "cell_type": "markdown",
   "metadata": {},
   "source": [
    "# Problem 2\n",
    "\n",
    "Compare the numerical solution when the grid points are unevenly spaced versus when the grid points\n",
    "are clustered in the area of greatest change by plotting."
   ]
  },
  {
   "cell_type": "code",
   "execution_count": null,
   "metadata": {},
   "outputs": [],
   "source": [
    "even_grid = np.linspace(a, b, 15)\n",
    "clustered_grid = np.linspace(a, b, 15)**(1/8)\n"
   ]
  },
  {
   "cell_type": "markdown",
   "metadata": {},
   "source": [
    "# Problem 3\n",
    "\n",
    "Solve \n",
    "\n",
    "$\\epsilon y'' - y' = -1$\n",
    "\n",
    "$y(0)=\\alpha, y(1)=\\beta$\n",
    "\n",
    "with the finite element method using N = 2i finite elements, i = 4, 5, . . . , 21.\n",
    "Use a log-log plot to graph the error."
   ]
  },
  {
   "cell_type": "code",
   "execution_count": null,
   "metadata": {},
   "outputs": [],
   "source": []
  }
 ],
 "metadata": {
  "kernelspec": {
   "display_name": "Python 3 (ipykernel)",
   "language": "python",
   "name": "python3"
  },
  "language_info": {
   "codemirror_mode": {
    "name": "ipython",
    "version": 3
   },
   "file_extension": ".py",
   "mimetype": "text/x-python",
   "name": "python",
   "nbconvert_exporter": "python",
   "pygments_lexer": "ipython3",
   "version": "3.10.6"
  }
 },
 "nbformat": 4,
 "nbformat_minor": 1
}
