{
 "cells": [
  {
   "attachments": {},
   "cell_type": "markdown",
   "metadata": {},
   "source": [
    "# Volume 2: The Discrete Fourier Transform\n",
    "    <Name>\n",
    "    <Class>\n",
    "    <Date>"
   ]
  },
  {
   "cell_type": "code",
   "execution_count": null,
   "metadata": {},
   "outputs": [],
   "source": [
    "import IPython\n",
    "import numpy as np\n",
    "from scipy.io import wavfile\n",
    "from scipy.fftpack import fft\n",
    "from matplotlib import pyplot as plt"
   ]
  },
  {
   "cell_type": "code",
   "execution_count": null,
   "metadata": {
    "scrolled": true
   },
   "outputs": [],
   "source": [
    "plt.rcParams[\"figure.dpi\"] = 300             # Fix plot quality.\n",
    "plt.rcParams[\"figure.figsize\"] = (12, 3)      # Change plot size / aspect (you may adjust this)."
   ]
  },
  {
   "cell_type": "code",
   "execution_count": null,
   "metadata": {
    "scrolled": true
   },
   "outputs": [],
   "source": [
    "class SoundWave(object):\n",
    "    \"\"\"A class for working with digital audio signals.\"\"\"\n",
    "\n",
    "    # Problem 1\n",
    "    def __init__(self, rate, samples):\n",
    "        \"\"\"Set the SoundWave class attributes.\n",
    "\n",
    "        Parameters:\n",
    "            rate (int): The sample rate of the sound.\n",
    "            samples ((n,) ndarray): NumPy array of samples.\n",
    "        \"\"\"\n",
    "        raise NotImplementedError(\"Problem 1 Incomplete\")\n",
    "\n",
    "    # Problems 1 and 7\n",
    "    def plot(self):\n",
    "        \"\"\"Plot the graph of the sound wave (time versus amplitude).\"\"\"\n",
    "        raise NotImplementedError(\"Problem 1 Incomplete\")\n",
    "\n",
    "    # Problem 2\n",
    "    def export(self, filename, force=False):\n",
    "        \"\"\"Generate a wav file from the sample rate and samples. \n",
    "        If the array of samples is not of type np.int16, scale it before exporting.\n",
    "\n",
    "        Parameters:\n",
    "            filename (str): The name of the wav file to export the sound to.\n",
    "        \"\"\"\n",
    "        raise NotImplementedError(\"Problem 2 Incomplete\")\n",
    "    \n",
    "    # Problem 4\n",
    "    def __add__(self, other):\n",
    "        \"\"\"Combine the samples from two SoundWave objects.\n",
    "\n",
    "        Parameters:\n",
    "            other (SoundWave): An object containing the samples to add\n",
    "                to the samples contained in this object.\n",
    "        \n",
    "        Returns:\n",
    "            (SoundWave): A new SoundWave instance with the combined samples.\n",
    "\n",
    "        Raises:\n",
    "            ValueError: if the two sample arrays are not the same length.\n",
    "        \"\"\"\n",
    "        raise NotImplementedError(\"Problem 4 Incomplete\")\n",
    "\n",
    "    # Problem 4\n",
    "    def __rshift__(self, other):\n",
    "        \"\"\"Concatentate the samples from two SoundWave objects.\n",
    "\n",
    "        Parameters:\n",
    "            other (SoundWave): An object containing the samples to concatenate\n",
    "                to the samples contained in this object.\n",
    "\n",
    "        Raises:\n",
    "            ValueError: if the two sample rates are not equal.\n",
    "        \"\"\"\n",
    "        raise NotImplementedError(\"Problem 4 Incomplete\")"
   ]
  },
  {
   "attachments": {},
   "cell_type": "markdown",
   "metadata": {},
   "source": [
    "## Problem 1\n",
    "\n",
    "- Implement `SoundWave.__init__()`.\n",
    "- Implement `SoundWave.plot()`.\n",
    "- Use SciPy's `wavfile.read()` and the `SoundWave` class to plot `tada.wav` in the cell below."
   ]
  },
  {
   "cell_type": "code",
   "execution_count": null,
   "metadata": {},
   "outputs": [],
   "source": []
  },
  {
   "attachments": {},
   "cell_type": "markdown",
   "metadata": {},
   "source": [
    "## Problem 2\n",
    "\n",
    "- Implement `SoundWave.export()`.\n",
    "- Use the `export()` method to create two new files containing the same sound as `tada.wav`: one without scaling, and one with scaling (use `force=True`).\n",
    "- Use `IPython.display.Audio()` to embed the original and two new versions of `tada.wav` in the cells below."
   ]
  },
  {
   "cell_type": "code",
   "execution_count": null,
   "metadata": {},
   "outputs": [],
   "source": []
  },
  {
   "cell_type": "code",
   "execution_count": null,
   "metadata": {},
   "outputs": [],
   "source": []
  },
  {
   "cell_type": "code",
   "execution_count": null,
   "metadata": {},
   "outputs": [],
   "source": []
  },
  {
   "attachments": {},
   "cell_type": "markdown",
   "metadata": {},
   "source": [
    "## Problem 3\n",
    "\n",
    "- Implement `generate_note()`.\n",
    "- Use `generate_note()` to create an A tone that lasts for two seconds. Embed it in the cell below."
   ]
  },
  {
   "cell_type": "code",
   "execution_count": null,
   "metadata": {},
   "outputs": [],
   "source": [
    "def generate_note(frequency, duration):\n",
    "    \"\"\"Generate an instance of the SoundWave class corresponding to \n",
    "    the desired soundwave. Uses sample rate of 44100 Hz.\n",
    "    \n",
    "    Parameters:\n",
    "        frequency (float): The frequency of the desired sound.\n",
    "        duration (float): The length of the desired sound in seconds.\n",
    "    \n",
    "    Returns:\n",
    "        sound (SoundWave): An instance of the SoundWave class.\n",
    "    \"\"\"\n",
    "    raise NotImplementedError(\"Problem 3 Incomplete\")"
   ]
  },
  {
   "cell_type": "code",
   "execution_count": null,
   "metadata": {},
   "outputs": [],
   "source": []
  },
  {
   "attachments": {},
   "cell_type": "markdown",
   "metadata": {},
   "source": [
    "## Problem 4\n",
    "\n",
    "- Implement `SoundWave.__add__()`.\n",
    "- Generate a three-second A minor chord (A, C, and E) and embed it in the first cell below.\n",
    "- Implement `SoundWave.__rshift__()`.\n",
    "- Generate the arpeggio A &rarr; C &rarr; E, where each tone lasts one second, and embed it in the second cell below."
   ]
  },
  {
   "cell_type": "code",
   "execution_count": null,
   "metadata": {},
   "outputs": [],
   "source": []
  },
  {
   "cell_type": "code",
   "execution_count": null,
   "metadata": {},
   "outputs": [],
   "source": []
  },
  {
   "attachments": {},
   "cell_type": "markdown",
   "metadata": {},
   "source": [
    "## Problem 5\n",
    "\n",
    "- Implement `simple_dft()` with the formula $c=F_nf$, where $F_n$ is the n-dimensional DFT matrix.\n",
    "- In the cell below, use `np.allclose()` to check that `simple_dft()` and `scipy.fftpack.fft()` give the same result (after scaling)."
   ]
  },
  {
   "cell_type": "code",
   "execution_count": null,
   "metadata": {},
   "outputs": [],
   "source": [
    "def simple_dft(samples):\n",
    "    \"\"\"Compute the DFT of an array of samples.\n",
    "\n",
    "    Parameters:\n",
    "        samples ((n,) ndarray): an array of samples.\n",
    "    \n",
    "    Returns:\n",
    "        ((n,) ndarray): The DFT of the given array.\n",
    "    \"\"\"\n",
    "    raise NotImplementedError(\"Problem 5 Incomplete\")"
   ]
  },
  {
   "cell_type": "code",
   "execution_count": null,
   "metadata": {},
   "outputs": [],
   "source": []
  },
  {
   "attachments": {},
   "cell_type": "markdown",
   "metadata": {},
   "source": [
    "## Problem 6\n",
    "\n",
    "- Implement `simple_fft()`.\n",
    "- In the cell below:\n",
    "    - Generate an array of $8192$ random samples and take its DFT using `simple_dft()`, `simple_fft()`, and `scipy.fftpack.fft()`.\n",
    "    - Print the runtimes of each computation.\n",
    "    - Use `np.allclose()` to check that `simple_fft()` and `scipy.fftpack.fft()` give the same result (after scaling)."
   ]
  },
  {
   "cell_type": "code",
   "execution_count": null,
   "metadata": {},
   "outputs": [],
   "source": [
    "def simple_fft(samples, threshold=1):\n",
    "    \"\"\"Compute the DFT using the FFT algorithm.\n",
    "    \n",
    "    Parameters:\n",
    "        samples ((n,) ndarray): an array of samples.\n",
    "        threshold (int): when a subarray of samples has fewer\n",
    "            elements than this integer, use simple_dft() to\n",
    "            compute the DFT of that subarray.\n",
    "    \n",
    "    Returns:\n",
    "        ((n,) ndarray): The DFT of the given array.\n",
    "    \"\"\"\n",
    "    raise NotImplementedError(\"Problem 6 Incomplete\")"
   ]
  },
  {
   "cell_type": "code",
   "execution_count": null,
   "metadata": {},
   "outputs": [],
   "source": []
  },
  {
   "attachments": {},
   "cell_type": "markdown",
   "metadata": {},
   "source": [
    "## Problem 7\n",
    "\n",
    "- Modify `SoundWave.plot()` so that it accepts a boolean. When the boolean is `True`, take the DFT of the stored samples and plot (in a new subplot) the frequencies present on the $x$-axis and the magnituds of those frequences on the $y$-axis. Only the display the first half of the plot, and adjust the $x$-axis so that it correctly shows the frequencies in Hertz.\n",
    "- Display the plot of the DFT of the A tone from Problem 4 the first cell below.\n",
    "- Display the plot of the DFT of the A minor chord from Problem 4 in the second cell below."
   ]
  },
  {
   "cell_type": "code",
   "execution_count": null,
   "metadata": {},
   "outputs": [],
   "source": []
  },
  {
   "cell_type": "code",
   "execution_count": null,
   "metadata": {},
   "outputs": [],
   "source": []
  },
  {
   "attachments": {},
   "cell_type": "markdown",
   "metadata": {},
   "source": [
    "## Problem 8\n",
    "\n",
    "Use the DFT to determine the individual notes that are present in `mystery_chord.wav`."
   ]
  },
  {
   "cell_type": "code",
   "execution_count": null,
   "metadata": {},
   "outputs": [],
   "source": []
  },
  {
   "cell_type": "markdown",
   "metadata": {
    "collapsed": true
   },
   "source": [
    "The notes are..."
   ]
  }
 ],
 "metadata": {
  "anaconda-cloud": {},
  "kernelspec": {
   "display_name": "Python 3",
   "language": "python",
   "name": "python3"
  },
  "language_info": {
   "codemirror_mode": {
    "name": "ipython",
    "version": 3
   },
   "file_extension": ".py",
   "mimetype": "text/x-python",
   "name": "python",
   "nbconvert_exporter": "python",
   "pygments_lexer": "ipython3",
   "version": "3.6.7"
  }
 },
 "nbformat": 4,
 "nbformat_minor": 1
}
