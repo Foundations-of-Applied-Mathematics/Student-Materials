{
 "cells": [
  {
   "cell_type": "markdown",
   "metadata": {
    "id": "xQ1tKnrK4TcN"
   },
   "source": [
    "\n",
    "# Volume 2: Reinforcement Learning 1 - Gymnasium\n",
    "\n"
   ]
  },
  {
   "cell_type": "markdown",
   "metadata": {
    "id": "3qbA8CjB3_IL"
   },
   "source": [
    "<Name\\>\n",
    "<Class\\>\n",
    "<Date\\>\n",
    "\n",
    "\n",
    "\n"
   ]
  },
  {
   "cell_type": "code",
   "execution_count": null,
   "metadata": {
    "id": "ZlMKi7Fx35TI"
   },
   "outputs": [],
   "source": [
    "import gymnasium as gym\n",
    "import numpy as np\n",
    "import random\n",
    "from matplotlib import pyplot as plt\n",
    "from IPython import display"
   ]
  },
  {
   "cell_type": "markdown",
   "metadata": {
    "id": "W-rNQLwd429z"
   },
   "source": [
    "# Problem 1\n",
    "\n",
    "*   Implement `random_blackjack()`.\n",
    "*   Run the game 50,000 times and print the percentage of games won.\n",
    "\n"
   ]
  },
  {
   "cell_type": "code",
   "execution_count": null,
   "metadata": {
    "id": "lrhUolvq45vh"
   },
   "outputs": [],
   "source": [
    "# Problem 1\n",
    "def random_blackjack(n):\n",
    "    \"\"\" Play a random game of Blackjack. Determine the percentage \n",
    "        the player wins out of n times.\n",
    "    Parameters:\n",
    "        n (int): number of episodes\n",
    "    Returns:\n",
    "        percent (float): percentage that the player wins\n",
    "    \"\"\"\n",
    "    raise NotImplementedError('Problem 1 Incomplete')"
   ]
  },
  {
   "cell_type": "code",
   "execution_count": null,
   "metadata": {
    "id": "JF-bS3gyIx4k"
   },
   "outputs": [],
   "source": [
    "# Run the game here"
   ]
  },
  {
   "cell_type": "markdown",
   "metadata": {
    "id": "xfZPCIMC5JmB"
   },
   "source": [
    "# Problem 2\n",
    "\n",
    "* Implement `blackjack()`.\n",
    "* For `n` = 1, 2, ..., 21, plot the win percentage after 10,000 games of Blackjack.\n",
    "* Identify which value(s) of `n` gives the highest win rate."
   ]
  },
  {
   "cell_type": "code",
   "execution_count": null,
   "metadata": {
    "id": "6Uv7AD8I5LWk"
   },
   "outputs": [],
   "source": [
    "# Problem 2\n",
    "def blackjack(n=11):\n",
    "    \"\"\" Play blackjack with naive algorithm.\n",
    "    Parameters:\n",
    "        n (int): maximum accepted player hand\n",
    "    Return:\n",
    "        percent (float): percentage wins over 10_000 episodes\n",
    "    \"\"\"\n",
    "    raise NotImplementedError(\"Problem 2 Incomplete\")"
   ]
  },
  {
   "cell_type": "code",
   "execution_count": null,
   "metadata": {
    "id": "miBtqMaVIjFJ"
   },
   "outputs": [],
   "source": [
    "# Plot here"
   ]
  },
  {
   "cell_type": "markdown",
   "metadata": {
    "id": "lY8vR6Ygxxk-"
   },
   "source": [
    "*Identify which value(s) give the highest win-rate here*"
   ]
  },
  {
   "cell_type": "markdown",
   "metadata": {
    "id": "i9xB1KaZ5OJ3"
   },
   "source": [
    "# Problem 3\n",
    "\n",
    "* Implement `cartpole()`.\n",
    "* Render the game and run your function once.\n",
    "* Run Cartpole 100 times (without rendering) and print out the average number of steps before it terminates."
   ]
  },
  {
   "cell_type": "code",
   "execution_count": null,
   "metadata": {
    "id": "AGEUkBOx5Qbk"
   },
   "outputs": [],
   "source": [
    "# Problem 3\n",
    "def cartpole(render=False):\n",
    "    \"\"\" Solve CartPole-v1 by checking the velocity of the tip \n",
    "        of the pole.\n",
    "    Parameters: \n",
    "        render (bool): If True, render environment at each step\n",
    "    Return:\n",
    "        iterations (integer): number of timesteps to solve the environment\n",
    "    \"\"\"\n",
    "    raise NotImplementedError(\"Problem 3 Incomplete\")"
   ]
  },
  {
   "cell_type": "code",
   "execution_count": null,
   "metadata": {
    "id": "78iSdRs6wZKb"
   },
   "outputs": [],
   "source": [
    "# Render the game and run once here"
   ]
  },
  {
   "cell_type": "code",
   "execution_count": null,
   "metadata": {
    "id": "EaNbYfsuIhxN"
   },
   "outputs": [],
   "source": "# Run the game here for 100 episodes and print average steps to termination"
  },
  {
   "cell_type": "markdown",
   "metadata": {
    "id": "TPFFk0nX5U_b"
   },
   "source": [
    "# Problem 4\n",
    "\n",
    "* Implement `car()`.\n",
    "* Render the game and run your function once.\n",
    "* Run MountainCar 100 times (without rendering) and print out the average number of steps before it terminates."
   ]
  },
  {
   "cell_type": "code",
   "execution_count": null,
   "metadata": {
    "id": "Lqq3Q6EO5Wgq"
   },
   "outputs": [],
   "source": [
    "# Problem 4\n",
    "def car(render=False):\n",
    "    \"\"\" Solve MountainCar-v0 by checking the position of the car.\n",
    "    Parameters: \n",
    "        render (bool): If True, render environment at each step\n",
    "    Return:\n",
    "        iterations (integer): number of timesteps or time-periods to solve the environment\n",
    "    \"\"\"\n",
    "    raise NotImplementedError(\"Problem 4 Incomplete\")"
   ]
  },
  {
   "cell_type": "code",
   "execution_count": null,
   "metadata": {
    "id": "4_kSEBYdwgnc"
   },
   "outputs": [],
   "source": [
    "# Render the game here"
   ]
  },
  {
   "cell_type": "code",
   "execution_count": null,
   "metadata": {
    "id": "fUsBDn6KIgw5"
   },
   "outputs": [],
   "source": "# Run the game here for 100 episodes and print average steps to termination"
  },
  {
   "metadata": {},
   "cell_type": "markdown",
   "source": [
    "# Problem 5\n",
    "\n",
    "* Create the function epsilon_decay according to the linear decay model."
   ]
  },
  {
   "metadata": {},
   "cell_type": "code",
   "outputs": [],
   "execution_count": null,
   "source": [
    "def epsilon_decay(episode, N, epsilon_start=1.0, epsilon_end=1e-6):\n",
    "    \"\"\" Decay epsilon value over time according to a linear decay.\n",
    "    Parameters:\n",
    "        episode (int): current episode number\n",
    "        N (int): total number of episodes\n",
    "        epsilon_start (float): starting epsilon value\n",
    "        epsilon_end (float): ending epsilon value\n",
    "    Returns:\n",
    "        epsilon (float): decayed epsilon value\n",
    "    \"\"\"\n",
    "    \n",
    "    raise NotImplementedError(\"Problem 5 Incomplete\")"
   ]
  },
  {
   "cell_type": "markdown",
   "metadata": {
    "id": "U5tSd-zE4sHZ"
   },
   "source": "## Helper Function for Problem 6 (Q-learning algorithm)"
  },
  {
   "cell_type": "code",
   "execution_count": null,
   "metadata": {
    "id": "zNNc3x9x09Zr"
   },
   "outputs": [],
   "source": [
    "def qlearn(env, alpha=.1, gamma=.6, epsilon=.1, N=70_000, decay=False):\n",
    "    \"\"\" Use the Q-learning algorithm to find qvalues.\n",
    "    Parameters:\n",
    "        env (str): environment name (i.e. gym environment name)\n",
    "        alpha (float): learning rate\n",
    "        gamma (float): discount factor\n",
    "        epsilon (float): epsilon value for epsilon-greedy algo\n",
    "        N (int): number of episodes to train for\n",
    "        decay (bool): whether to decay epsilon according to epsilon_decay\n",
    "    Returns:\n",
    "        q_table (ndarray nxm): the Q(s,a) approximation values generated by Q-learning`\n",
    "    \"\"\"\n",
    "    \n",
    "    # Make environment\n",
    "    env = gym.make(env)  \n",
    "    # Make Q-table\n",
    "    q_table = np.zeros((env.observation_space.n, env.action_space.n))\n",
    "\n",

    "    # Train for N episodes\n",
    "    for i in range(1,N+1):\n",
    "    \n",
    "        # Reset state and get initial state; Initialize penalties, reward, and done\n",
    "        curr_state, info = env.reset() \n",
    "        penalties, reward, = 0,0\n",

    "        done = False\n",
    "        \n",
    "        # Get epsilon value\n",
    "        if not decay:\n",
    "            curr_epsilon = epsilon\n",
    "        else:\n",
    "            curr_epsilon = epsilon_decay(i, N)\n",
    "            \n",
    "        # Keep going until the terminal state is reached\n",
    "        while not done:\n",

    "            \n",
    "            # Employ the epsilon=greedy algorithm\n",
    "            if random.uniform(0,1) < curr_epsilon: # Explore\n",
    "                curr_action = env.action_space.sample()\n",
    "            else:                                  # Exploit\n",
    "                curr_action = np.argmax(q_table[curr_state])\n",

    "\n",
    "            # Take action and get new state and reward\n",
    "            next_state, reward, done, truncated, info = env.step(curr_action)\n",
    "\n",
    "            # Calculate new qvalue\n",

    "            old_value = q_table[curr_state,curr_action]\n",
    "            next_max = (q_table[next_state]).max()\n",

    "            new_value = (1-alpha) * old_value + alpha * (reward + gamma * next_max)\n",
    "            q_table[curr_state, curr_action] = new_value\n",
    "\n",
    "            # Check if penalty is made; specific to Taxi env\n",
    "            if reward == -10:\n",
    "                penalties += 1\n",
    "\n",
    "            # Get next observation\n",
    "            curr_state = next_state\n",
    "\n",
    "        # Print episode number\n",
    "        if i % 100 == 0:\n",
    "            display.clear_output(wait=True)\n",
    "            print(\"Training model...\")\n",
    "            print(f\"Episode: {i}\")\n",
    "\n",
    "    env.close()\n",
    "    print(\"Training finished.\")\n",
    "    return q_table, penalties"
   ]
  },
  {
   "cell_type": "markdown",
   "metadata": {
    "id": "ZODhO4AS5YQq"
   },
   "source": [
    "# Problem 6\n",
    "\n",
    "* Initialize the \"`Taxi-v3`\" environment (without rendering), act randomly until it terminates, and print the total reward\n",
    "* Render the \"`Taxi-v3`\" environment, use the Q-table to act optimally until it terminates, and print the total reward. Use a constant epsilon value, and do not decay.\n",
    "* Render the \"`Taxi-v3`\" environment, use the Q-table, using a decaying epsilon value, to act optimally until it terminates, and print the total reward.\n",
    "* Implement `taxi()`, then use it to compare the constant epsilon and decaying epsilon Q-tables and write a brief analysis of the results. Note the given return values in the function are not necessary but can help you compare the two methods.\n"
   ]
  },
  {
   "cell_type": "code",
   "execution_count": null,
   "metadata": {
    "id": "e3i-LEnYKHyz"
   },
   "outputs": [],
   "source": [
    "# Random actions Taxi game"
   ]
  },
  {
   "cell_type": "code",
   "execution_count": null,
   "metadata": {
    "id": "0ejXeML7KJSJ"
   },
   "outputs": [],
   "source": "# Create Q-table for constant epsilon"
  },
  {
   "metadata": {},
   "cell_type": "code",
   "outputs": [],
   "execution_count": null,
   "source": "# Run the Taxi game here for Q-table with constant epsilon"
  },
  {
   "metadata": {},
   "cell_type": "code",
   "outputs": [],
   "execution_count": null,
   "source": "# Create Q-table for decaying epsilon"
  },
  {
   "metadata": {},
   "cell_type": "code",
   "outputs": [],
   "execution_count": null,
   "source": "# Run the Taxi game here for Q-table with decaying epsilon"
  },
  {
   "cell_type": "code",
   "execution_count": null,
   "metadata": {
    "id": "APK2iYQV5aR4"
   },
   "outputs": [],
   "source": [
    "def taxi(q_table, q_table_decay):\n",
    "    \"\"\"  Compare the Q-learning algorithm with a constant epsilon value to the one trained using a \n",
    "    decaying epsilon value.\n",
    "    \n",
    "    Parameters:\n",
    "        q_table (ndarray nxm): table of qvalues that used constant epsilon\n",
    "        q_table_decay (ndarray nxm): table of qvalues that used a decaying epsilon\n",
    "    Returns:\n",
    "        constant_reward (float): mean reward of 1000 episodes of Q-learning algorithm using constant epsilon\n",
    "        decay_reward (float): mean reward of 1000 episodes of Q-learning algorithm using decayed epsilon\n",
    "    \"\"\"\n",
    "    raise NotImplementedError(\"Problem 6 Incomplete\")"
   ]
  },
  {
   "metadata": {},
   "cell_type": "markdown",
   "source": [
    "### Analysis of constant epsilon and decaying epsilon Q-tables here\n",
    "\n",
    "A long time ago in ..."
   ]
  },
  {
   "metadata": {},
   "cell_type": "markdown",
   "source": [
    "# Problem 7\n",
    "* Implement the `sarsa0()` algorithm\n",
    "* Render the \"`Taxi-v3`\" environment, use the Q-table generated by SARSA, using a decaying epsilon value, to act optimally until it terminates, and print the total reward.\n",
    "* Implement `compare()` to compare the average total rewards generated by SARSA and Q-learning tables (that use a decaying epsilon) for 1000 episodes."
   ]
  },
  {
   "metadata": {},
   "cell_type": "code",
   "outputs": [],
   "execution_count": null,
   "source": [
    "def sarsa0(env, alpha=0.1, gamma=0.6, epsilon=0.1, N=70_000, decay=False):\n",
    "    \"\"\" Use the SARSA(0) algorithm to find qvalues.\n",
    "    Parameters:\n",
    "        env (str): environment name (i.e. gym environment name)\n",
    "        alpha (float): learning rate\n",
    "        gamma (float): discount factor\n",
    "        epsilon (float): epsilon value for epsilon-greedy algorithm\n",
    "        N (int): number of episodes to train for\n",
    "        decay (bool): whether to decay epsilon according to epsilon_decay\n",
    "    Returns:\n",
    "        q_table (ndarray nxm): the Q(s,a) approximation values generated by SARSA\n",
    "    \"\"\"\n",
    "    raise NotImplementedError(\"Problem 7 Incomplete\")"
   ]
  },
  {
   "metadata": {},
   "cell_type": "code",
   "outputs": [],
   "execution_count": null,
   "source": "# Create Q-table for SARSA using decaying epsilon"
  },
  {
   "metadata": {},
   "cell_type": "code",
   "outputs": [],
   "execution_count": null,
   "source": "# Run the Taxi game here for Q-table with SARSA "
  },
  {
   "metadata": {},
   "cell_type": "code",
   "outputs": [],
   "execution_count": null,
   "source": [
    "def compare():\n",
    "    \"\"\" Compare the Q-learning table (that uses a decaying epsilon) to the table generated by the SARSA(0) algorithm (that also uses a decaying epsilon).\n",
    "    Returns:\n",
    "        q_reward (float): mean reward of 1000 episodes of Q-learning algorithm\n",
    "        sarsa_reward (float): mean reward of 1000 episodes of SARSA algorithm\n",
    "    \"\"\"\n",
    "    raise NotImplementedError(\"Problem 7 Incomplete\")"
   ]
  }
 ],
 "metadata": {
  "colab": {
   "collapsed_sections": [],
   "name": "opengym.ipynb",
   "provenance": []
  },
  "kernelspec": {
   "display_name": "Python 3 (ipykernel)",
   "language": "python",
   "name": "python3"
  },
  "language_info": {
   "codemirror_mode": {
    "name": "ipython",
    "version": 3
   },
   "file_extension": ".py",
   "mimetype": "text/x-python",
   "name": "python",
   "nbconvert_exporter": "python",
   "pygments_lexer": "ipython3",
   "version": "3.7.4"
  }
 },
 "nbformat": 4,
 "nbformat_minor": 1
}
