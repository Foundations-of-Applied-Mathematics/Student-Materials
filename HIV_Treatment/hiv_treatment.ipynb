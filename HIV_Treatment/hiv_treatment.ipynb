{
 "cells": [
  {
   "cell_type": "markdown",
   "metadata": {},
   "source": [
    "# Volume 4: HIV Treatment\n",
    "    <Name>\n",
    "    <Class>\n",
    "    <Date>"
   ]
  },
  {
   "cell_type": "code",
   "execution_count": null,
   "metadata": {},
   "outputs": [],
   "source": [
    "import numpy as np\n",
    "from matplotlib import pyplot as plt\n",
    "\n",
    "from scipy.integrate import solve_ivp\n",
    "from scipy.interpolate import CubicSpline"
   ]
  },
  {
   "cell_type": "code",
   "execution_count": null,
   "metadata": {},
   "outputs": [],
   "source": [
    "# Define constants used in equations.\n",
    "a_1, a_2 = 0, 0\n",
    "b_1, b_2 = 0.02, 0.9\n",
    "s_1, s_2 = 2, 1.5\n",
    "mu = 0.002\n",
    "k = 0.000025    # The paper uses 0.00025, but it's hard to determine which solution actually makes sense.\n",
    "g = 30\n",
    "c = 0.007\n",
    "B_1, B_2 = 14, 1\n",
    "A_1, A_2 = 250000, 75\n",
    "\n",
    "constants = a_1, a_2, b_1, b_2, s_1, s_2, mu, k, g, c, B_1, B_2, A_1, A_2\n",
    "\n",
    "# Define other constants.\n",
    "T0, V0 = 400, 3\n",
    "n = 2000\n",
    "t_f = 50"
   ]
  },
  {
   "cell_type": "markdown",
   "metadata": {},
   "source": [
    "# Problem 1\n",
    "\n",
    "Create a function that defines the state equations and returns both equations in\n",
    "a single array. The function should be able to be passed into `solve_ivp`."
   ]
  },
  {
   "cell_type": "code",
   "execution_count": null,
   "metadata": {},
   "outputs": [],
   "source": [
    "def state_equations(t, y, u_interpolation, constants):\n",
    "    '''\n",
    "    Parameters\n",
    "    ---------------\n",
    "    t : float\n",
    "        the time\n",
    "    y : ndarray (2,)\n",
    "        the T cell concentration and the virus concentration at time t\n",
    "    u_interpolation : CubicSpline\n",
    "                      the values of the control u_interpolation(t) = [u1(t), u2(t)]\n",
    "    constants : a_1, a_2, b_1, b_2, s_1, s_2, mu, k, g, c, B_1, B_2, A_1, A_2\n",
    "    \n",
    "    Returns\n",
    "    --------------\n",
    "    y_dot : ndarray (2,)\n",
    "            the derivative of the T cell concentration and the virus\n",
    "            concentration at time t\n",
    "    '''\n",
    "\n",
    "    a_1, a_2, b_1, b_2, s_1, s_2, mu, k, g, c, B_1, B_2, A_1, A_2 = constants"
   ]
  },
  {
   "cell_type": "code",
   "execution_count": null,
   "metadata": {},
   "outputs": [],
   "source": [
    "# You may use the following code to check that your state equations are implemented correctly.\n",
    "u = lambda _: np.full(2, 1/2)\n",
    "state = np.ones(2)\n",
    "\n",
    "state_equations(0, state, u, constants)"
   ]
  },
  {
   "cell_type": "markdown",
   "metadata": {},
   "source": [
    "# Problem 2\n",
    "\n",
    "Create a function that defines the costate equations and returns both equations\n",
    "in a single array. The function should be able to be passed into `solve_ivp`."
   ]
  },
  {
   "cell_type": "code",
   "execution_count": null,
   "metadata": {},
   "outputs": [],
   "source": [
    "def costate_equations(t, y, u_interpolation, state_solution, constants):\n",
    "    '''\n",
    "    Parameters\n",
    "    ---------------\n",
    "    t : float\n",
    "        the time\n",
    "    y : ndarray (2,)\n",
    "        the lambda values at time t \n",
    "    u_interpolation : CubicSpline\n",
    "                      the values of the control u_interpolation(t) = [u1(t), u2(t)]\n",
    "    state_solution : result of solve_ivp on state_equations with\n",
    "        dense_output=True, i.e., state_solution.sol(t) = [T(t), V(t)]\n",
    "    constants : a_1, a_2, b_1, b_2, s_1, s_2, mu, k, g, c, B_1, B_2, A_1, A_2\n",
    "    \n",
    "    Returns\n",
    "    --------------\n",
    "    y_dot : ndarray (2,)\n",
    "            the derivative of lambda at time t\n",
    "    '''\n",
    "\n",
    "    a_1, a_2, b_1, b_2, s_1, s_2, mu, k, g, c, B_1, B_2, A_1, A_2 = constants"
   ]
  },
  {
   "cell_type": "code",
   "execution_count": null,
   "metadata": {},
   "outputs": [],
   "source": [
    "# You may use the following code to check that your costate equations are implemented correctly.\n",
    "u = lambda _: np.full(2, 1/2)\n",
    "costate = np.ones(2)\n",
    "class test_state_solution(): sol = lambda self, _: np.ones(2)\n",
    "\n",
    "costate_equations(0, costate, u, test_state_solution(), constants)"
   ]
  },
  {
   "cell_type": "markdown",
   "metadata": {},
   "source": [
    "# Problem 3\n",
    "\n",
    "Create and run a numerical solver for the HIV two drug model. Plot the solution."
   ]
  },
  {
   "cell_type": "code",
   "execution_count": null,
   "metadata": {},
   "outputs": [],
   "source": [
    "# Initialize state, costate, and u.\n",
    "state0 = np.array([T0, V0])\n",
    "costate0 = np.zeros(2)\n",
    "\n",
    "u = np.zeros((2, n))\n",
    "u[0], u[1] = b_1, b_2\n",
    "\n",
    "max_step = 0.5\n",
    "\n",
    "epsilon = 0.001\n",
    "test = epsilon + 1\n",
    "\n",
    "tls = np.linspace(0, t_f, n)\n",
    "while(test > epsilon):\n",
    "    oldu = u.copy()\n",
    "    # u_interpolation = CubicSpline(...)\n",
    "\n",
    "    # Solve the state equations forward in time.\n",
    "    # state_solution = solve_ivp(...)\n",
    "\n",
    "    # Solve the costate equations backward in time.\n",
    "    # costate_solution = solve_ivp(...)\n",
    "\n",
    "    # Solve for u1 and u2.\n",
    "    \n",
    "    # Update control u with u1 and u2.\n",
    "\n",
    "    # Test for convergence\n",
    "    test = abs(oldu - u).sum()"
   ]
  },
  {
   "cell_type": "code",
   "execution_count": null,
   "metadata": {},
   "outputs": [],
   "source": []
  }
 ],
 "metadata": {
  "kernelspec": {
   "display_name": "Python 3 (ipykernel)",
   "language": "python",
   "name": "python3"
  },
  "language_info": {
   "codemirror_mode": {
    "name": "ipython",
    "version": 3
   },
   "file_extension": ".py",
   "mimetype": "text/x-python",
   "name": "python",
   "nbconvert_exporter": "python",
   "pygments_lexer": "ipython3",
   "version": "3.10.6"
  }
 },
 "nbformat": 4,
 "nbformat_minor": 4
}
