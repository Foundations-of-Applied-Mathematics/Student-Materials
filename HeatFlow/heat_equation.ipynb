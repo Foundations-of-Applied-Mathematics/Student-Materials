{
 "cells": [
  {
   "cell_type": "code",
   "execution_count": null,
   "metadata": {},
   "outputs": [],
   "source": [
    "import numpy as np\n",
    "import matplotlib.pyplot as plt\n",
    "import scipy.linalg as la\n",
    "import matplotlib.animation as animation"
   ]
  },
  {
   "cell_type": "code",
   "execution_count": null,
   "metadata": {},
   "outputs": [],
   "source": [
    "%matplotlib inline"
   ]
  },
  {
   "cell_type": "markdown",
   "metadata": {},
   "source": [
    "# Problem 1\n",
    "\n",
    "Consider the initial/boundary value problem\n",
    "\n",
    "\\begin{align}\n",
    "\t\\begin{split}\n",
    "\t&{ } u_t = 0.05 u_{xx}, \\quad x \\in [0,1], \\quad t \\in [0,1]\\\\\n",
    "\t&{ } u(0,t) = 0,\\quad u(1,t) = 0,\\\\\n",
    "\t&{ } u(x,0) = 2\\max\\{0.2 - |x-0.5|,0\\}.\n",
    "\t\\end{split}\n",
    "\\end{align}\n",
    "\n",
    "Approximate the solution $u(x,t)$ by taking 6 subintervals in the $x$ dimension and 10 subintervals in time.\n",
    "Plot the approximation at $t=0, t=0.4$, and $t=1$."
   ]
  },
  {
   "cell_type": "code",
   "execution_count": null,
   "metadata": {},
   "outputs": [],
   "source": []
  },
  {
   "cell_type": "markdown",
   "metadata": {},
   "source": [
    "# Problem 2\n",
    "\n",
    "Solve the initial/boundary value problem\n",
    "\n",
    "\\begin{align}\n",
    "\t\\begin{split}\n",
    "\t&{ } u_t = u_{xx}, \\quad x \\in [-12,12],\\quad t \\in [0,1], \\\\\n",
    "\t&{ } u(-12,t) = 0,\\quad u(12,t) = 0,\\\\\n",
    "\t&{ } u(x,0) = \\max\\{1 - x^2,0\\}\n",
    "\t\\end{split}\n",
    "\\end{align}\n",
    "\n",
    "using the first order explicit method (1.1).\n",
    "Use 140 subintervals in the $x$ dimension and 70 subintervals in time.\n",
    "The initial and final states are shown in Figures 1 and 2.\n",
    "Animate your results.\n",
    "\n",
    "Explicit methods usually have a stability condition, called a CFL condition (for Courant-Friedrichs-Lewy).\n",
    "For method (1.1) the CFL condition that must be satisfied is that:\n",
    "\n",
    "$$\\lambda \\leq \\frac{1}{2}$$\n",
    "\n",
    "Repeat your computations using 140 subintervals in the $x$ dimension and 66 subintervals in time. Animate the results.\n",
    "For these values the CFL condition is broken; you should easily see the result of this instability in the approximation $U^{66}$.\n"
   ]
  },
  {
   "cell_type": "code",
   "execution_count": null,
   "metadata": {},
   "outputs": [],
   "source": []
  },
  {
   "cell_type": "markdown",
   "metadata": {},
   "source": [
    "`<video src=\"heat_equation1.mp4\" controls>`"
   ]
  },
  {
   "cell_type": "code",
   "execution_count": null,
   "metadata": {},
   "outputs": [],
   "source": [
    "\n"
   ]
  },
  {
   "cell_type": "markdown",
   "metadata": {},
   "source": [
    "`<video src=\"heat_equation2.mp4\" controls>`"
   ]
  },
  {
   "cell_type": "markdown",
   "metadata": {},
   "source": [
    "# Problem 3\n",
    "\n",
    "Using the Crank Nicolson method, numerically approximate the solution $u(x,t)$ of the problem\n",
    "\\begin{align}\n",
    "\t\\begin{split}\n",
    "\t&{ } u_t = u_{xx}, \\quad x \\in [-12,12],\\quad t \\in [0,1],\\\\\n",
    "\t&{ } u(-12,t) = 0,\\quad u(12,t) = 0,\\\\\n",
    "\t&{ } u(x,0) = \\max\\{1 - x^2,0\\}.\n",
    "\t\\end{split}\n",
    "\\end{align}\n",
    "Note that this is an implicit linear scheme; hence, the most efficient way to find $U^{j+1}$ is to create the matrix $B$ as a sparse matrix and then use \\li{scipy.sparse.linalg.solve}.\n",
    "\n",
    "Demonstrate that the numerical approximation at $t = 1$ converges.\n",
    "Do this by computing $U$ at $t=1$ using $20,40,80,160,320$, and $640$ steps.\n",
    "Use the same number of steps in both time and space.\n",
    "Reproduce the loglog plot shown in the lab.\n",
    "The slope of the line there shows the order of convergence.\n",
    "\n",
    "To measure the error, use the solution with the smallest $h$ (largest number of intervals) as if it were the exact solution, then sample each solution only at the x-values that are represented in the solution with the largest $h$ (smallest number of intervals).\n",
    "Use the $\\infty$-norm on the arrays of values at those points to measure the error.\n",
    "\n",
    "Notice that, since the Crank-Nicolson method is unconditionally stable, there is no CFL condition, and we can safely use the same number of intervals in time and space."
   ]
  },
  {
   "cell_type": "code",
   "execution_count": null,
   "metadata": {},
   "outputs": [],
   "source": [
    "def heat_cn(a, b, alpha, beta, f, nu, T, nx, nt):\n",
    "    \"\"\"Computes the Crank-Nicholson solution to the heat equation initial/boundary\n",
    "    value problem:\n",
    "    \n",
    "        u_t = νu_xx, x∈[x0,x1] t∈[t0,t1]\n",
    "        u(x0,t) = 0, u(x1,t) = 0\n",
    "        u(x,0) = f(x)\n",
    "        \n",
    "        Parameters:\n",
    "            a - left x boundary (float)\n",
    "            b - right x boundary (float)\n",
    "            alpha - left BC (float)\n",
    "            beta - right BC (float)\n",
    "            f - initial position (function)\n",
    "            nu - heat diffusion coefficient (float)\n",
    "            T - final time (float)\n",
    "            nx - number of x steps (int)\n",
    "            nt - number of time steps (int)\n",
    "            \n",
    "        Returns:\n",
    "            U - approximate solution (ndarray(nt,nx))\n",
    "            x - position array (ndarray(nx,))\n",
    "    \"\"\"\n",
    "    pass"
   ]
  },
  {
   "cell_type": "code",
   "execution_count": null,
   "metadata": {},
   "outputs": [],
   "source": []
  }
 ],
 "metadata": {
  "kernelspec": {
   "display_name": "Python 3 (ipykernel)",
   "language": "python",
   "name": "python3"
  },
  "language_info": {
   "codemirror_mode": {
    "name": "ipython",
    "version": 3
   },
   "file_extension": ".py",
   "mimetype": "text/x-python",
   "name": "python",
   "nbconvert_exporter": "python",
   "pygments_lexer": "ipython3",
   "version": "3.8.3"
  }
 },
 "nbformat": 4,
 "nbformat_minor": 2
}
