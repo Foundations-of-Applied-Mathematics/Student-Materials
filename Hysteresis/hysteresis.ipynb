{
 "cells": [
  {
   "cell_type": "markdown",
   "metadata": {},
   "source": [
    "# Volume 4: Hysteresis\n",
    "    <Name>\n",
    "    <Class>\n",
    "    <Date>"
   ]
  },
  {
   "cell_type": "code",
   "execution_count": null,
   "metadata": {},
   "outputs": [],
   "source": [
    "import numpy as np\n",
    "from matplotlib import pyplot as plt, animation\n",
    "from scipy.optimize import newton\n",
    "from scipy.integrate import solve_ivp"
   ]
  },
  {
   "cell_type": "code",
   "execution_count": null,
   "metadata": {},
   "outputs": [],
   "source": [
    "def embedding_alg(lams, guess, F):\n",
    "    xs = list()\n",
    "    for lam in lams:\n",
    "        try:\n",
    "            # Solve for x_value making F(x_value, lam) = 0.\n",
    "            x_value = newton(F, guess, args=(lam,), tol=1e-7)\n",
    "            # Record the solution and update guess for the next iteration.\n",
    "            xs.append(x_value)\n",
    "            guess = x_value\n",
    "        except RuntimeError:\n",
    "            # If Newton's method fails, return a truncated list of parameters\n",
    "            # with the corresponding x values.\n",
    "            return lams[: len(xs)], xs\n",
    "    # Return the list of parameters and the corresponding x values.\n",
    "    return lams, xs"
   ]
  },
  {
   "cell_type": "markdown",
   "metadata": {},
   "source": [
    "# Problem 1\n",
    "\n",
    "Use the natural embedding algorithm to create a bifurcation diagram for the differential equation\n",
    "\n",
    "$x = λx − x^3$\n",
    "\n",
    "This type of bifurcation is called a pitchfork bifurcation (you should see a pitchfork in your\n",
    "diagram)"
   ]
  },
  {
   "cell_type": "code",
   "execution_count": null,
   "metadata": {},
   "outputs": [],
   "source": []
  },
  {
   "cell_type": "markdown",
   "metadata": {},
   "source": [
    "# Problem 2\n",
    "Find the trajectory of $x' = \\lambda x-x^3,$\n",
    "using the points \n",
    "\n",
    "$(\\lambda, x_0)\\in \\left\\{\\left(\\frac{1}{2},\\frac{1}{2}\\right), \\left(\\frac{1}{2},\\frac{-1}{2}\\right), \\left(\\frac{-1}{2},\\frac{1}{2}\\right), \\left(\\frac{-1}{2},\\frac{-1}{2}\\right) \\right\\}. $\n",
    "\n",
    "and the initial condition $x(0)=x_0$ using solve_ivp.\n",
    "Be sure to include a legend."
   ]
  },
  {
   "cell_type": "code",
   "execution_count": null,
   "metadata": {},
   "outputs": [],
   "source": []
  },
  {
   "cell_type": "markdown",
   "metadata": {},
   "source": [
    "# Problem 3 - Hysteresis\n",
    "\n",
    "Reproduce the bifurcation diagram for the differential equation\n",
    "\n",
    "$\\frac{dx}{dτ} = rx(1 − x/k) −\\frac{x^2}{1 + x^2}$,\n",
    "\n",
    "where $r = 0.56$.\n",
    "Be sure to include a legend."
   ]
  },
  {
   "cell_type": "code",
   "execution_count": null,
   "metadata": {},
   "outputs": [],
   "source": []
  },
  {
   "cell_type": "markdown",
   "metadata": {},
   "source": [
    "# Problem 4\n",
    "Using the time-dependent carrying-capacity\n",
    "\n",
    "$k(t) = \\begin{cases}\n",
    "  8  & t \\in [0,60) \\\\\n",
    "  12  & t \\in [60,150) \\\\\n",
    "  8 & t \\in [150,220) \\\\\n",
    "  6 & t \\in [220,300) \\\\\n",
    "\\end{cases},$\n",
    "\n",
    "solve the IVP\n",
    "\n",
    "$\\frac{dx}{dτ} = rx(1 − x/k(t)) −\\frac{x^2}{1 + x^2}$,\n",
    "\n",
    "where $r = 0.56$ and $x(0)=x_0=0.3.$\n",
    "Be sure to include a legend."
   ]
  },
  {
   "cell_type": "code",
   "execution_count": null,
   "metadata": {},
   "outputs": [],
   "source": []
  },
  {
   "cell_type": "markdown",
   "metadata": {},
   "source": [
    "# Problem 5"
   ]
  },
  {
   "cell_type": "code",
   "execution_count": null,
   "metadata": {},
   "outputs": [],
   "source": [
    "# View limits for plot.\n",
    "xlim = -0.7, 0.7\n",
    "ylim = -0.7, 0.7"
   ]
  },
  {
   "cell_type": "markdown",
   "metadata": {},
   "source": [
    "<video src=\"hopf.mp4\" controls>"
   ]
  }
 ],
 "metadata": {
  "kernelspec": {
   "display_name": "Python 3 (ipykernel)",
   "language": "python",
   "name": "python3"
  },
  "language_info": {
   "codemirror_mode": {
    "name": "ipython",
    "version": 3
   },
   "file_extension": ".py",
   "mimetype": "text/x-python",
   "name": "python",
   "nbconvert_exporter": "python",
   "pygments_lexer": "ipython3"
  }
 },
 "nbformat": 4,
 "nbformat_minor": 1
}
