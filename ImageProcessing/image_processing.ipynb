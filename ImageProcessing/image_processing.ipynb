{
 "cells": [
  {
   "cell_type": "markdown",
   "metadata": {},
   "source": [
    "# Volume 4: Image Processing\n",
    "    <Name>\n",
    "    <Class>\n",
    "    <Date>"
   ]
  },
  {
   "cell_type": "code",
   "execution_count": 1,
   "metadata": {},
   "outputs": [],
   "source": [
    "import numpy as np\n",
    "from numpy.random import randint\n",
    "import matplotlib.pyplot as plt\n",
    "from imageio.v3 import imread"
   ]
  },
  {
   "cell_type": "markdown",
   "metadata": {},
   "source": [
    "# Load Images"
   ]
  },
  {
   "cell_type": "code",
   "execution_count": 2,
   "metadata": {},
   "outputs": [],
   "source": [
    "# Load in the image.\n",
    "image = imread('balloons_color.jpg', mode='F') * 1./255\n",
    "\n",
    "# Create the noisy image by altering pixels from the original image.\n",
    "noisy_image = image.copy()\n",
    "x, y = image.shape\n",
    "for i in range(x*y//50):\n",
    "\tnoisy_image[randint(x), randint(y)] = (127 + randint(127)) * 1./255"
   ]
  },
  {
   "cell_type": "markdown",
   "metadata": {},
   "source": [
    "# Problem 1\n",
    "\n",
    "Finish the following function that implements the anisotropic diffusion algorithm.\n",
    "Use the padded array technique to deal with the edges of the image.\n",
    "\n",
    "Run your function on the noisy image with $\\sigma=.1$, $\\lambda=.25$, $N=20$, and $g(x)=e^{-\\left(\\frac{x}{\\sigma}\\right)^2}$.\n",
    "Display the original image, the noisy image, and the cleaned image.\n",
    "Explain why anisotropic diffusion does not smooth out the noise."
   ]
  },
  {
   "cell_type": "code",
   "execution_count": 3,
   "metadata": {},
   "outputs": [],
   "source": [
    "def anis_diff(U, N, g, lambda_=0.25):\n",
    "    \"\"\"\n",
    "    Run the Anisotropic Diffusion differencing scheme on an image.\n",
    "    \n",
    "    Parameters:\n",
    "        U ((m,n) ndarray): grayscale image.\n",
    "        N (int): number of iterations.\n",
    "        g (callable): diffusion function.\n",
    "        lambda_ (float): scaling coefficient.\n",
    "        \n",
    "    Returns:\n",
    "        ((m,n) ndarray): the processed grayscale image.\n",
    "    \"\"\"\n",
    "    pass"
   ]
  },
  {
   "cell_type": "code",
   "execution_count": null,
   "metadata": {},
   "outputs": [],
   "source": []
  },
  {
   "cell_type": "markdown",
   "metadata": {},
   "source": [
    "# Problem 2\n",
    "\n",
    "Finish the following function that implements the mimimum-biased finite difference scheme.\n",
    "Run your function on the noisy image with $\\lambda=0.25$.\n",
    "Experiment with the number of iterations until the resulting image looks close to the original image.\n",
    "Display the original image, the noisy image, and the cleaned image."
   ]
  },
  {
   "cell_type": "code",
   "execution_count": 4,
   "metadata": {},
   "outputs": [],
   "source": [
    "def min_bias(U, N, lambda_=0.25):\n",
    "    \"\"\"\n",
    "    Run the Minimum Bias differencing scheme on an image.\n",
    "    \n",
    "    Parameters:\n",
    "        U ((m,n) ndarray): grayscale image.\n",
    "        N (int): number of iterations.\n",
    "        lambda_ (float): scaling coefficient.\n",
    "        \n",
    "    Returns:\n",
    "        ((m,n) ndarray): the processed grayscale image.\n",
    "    \"\"\"\n",
    "    pass"
   ]
  },
  {
   "cell_type": "code",
   "execution_count": null,
   "metadata": {},
   "outputs": [],
   "source": []
  },
  {
   "cell_type": "markdown",
   "metadata": {},
   "source": [
    "# Problem 3\n",
    "\n",
    "Finish the following function that implements the gradient descent finite diffrerence scheme.\n",
    "Run your function on the noisy image with $\\Delta t =$ 1e-3, $\\lambda = 40,$ $\\Delta x = 1,$ and $\\Delta y = 1$.\n",
    "Experiment with the number of iterations until the noise is hard to see.\n",
    "Display the original image, the noisy image, and the cleaned image."
   ]
  },
  {
   "cell_type": "code",
   "execution_count": 5,
   "metadata": {},
   "outputs": [],
   "source": [
    "def grad_desc(U, N, lambda_, delta_t, delta_x=1, delta_y=1):\n",
    "    \"\"\"\n",
    "    Run the Gradient Descent differencing scheme on an image.\n",
    "    \n",
    "    Parameters:\n",
    "        U ((m,n) ndarray): grayscale image.\n",
    "        N (int): number of iterations.\n",
    "        lambda_ (float): scaling coefficient.\n",
    "        delta_t (float): change in time.\n",
    "        delta_x (float): change in x.\n",
    "        delta_y (float): change in y.\n",
    "        \n",
    "    Returns:\n",
    "        ((m,n) ndarray): the processed grayscale image.\n",
    "    \"\"\"\n",
    "    pass\n"
   ]
  },
  {
   "cell_type": "code",
   "execution_count": null,
   "metadata": {},
   "outputs": [],
   "source": []
  },
  {
   "cell_type": "markdown",
   "metadata": {},
   "source": [
    "# Problem 4\n",
    "\n",
    "Derive the update scheme for the total variations method.\n",
    "Then, finish the following function that implements this method.\n",
    "Use a centered difference to approximate the values for $u_{x}$ and $u_{y}$.\n",
    "Run your function on the noisy image using $\\Delta t =$ 1e-3, $\\lambda = 1, \\epsilon =$ 1e-6, $\\Delta x = 1,$ and $ \\Delta y = 1$.\n",
    "Experiment with the number of iterations until the resulting image looks close to the original image.\n",
    "Display the original image, the noisy image, and the cleaned image."
   ]
  },
  {
   "cell_type": "code",
   "execution_count": 6,
   "metadata": {},
   "outputs": [],
   "source": [
    "def total_var(U, N, lambda_, epsilon, delta_t, delta_x=1, delta_y=1):\n",
    "    \"\"\"\n",
    "    Run the Total Variations differencing scheme on an image.\n",
    "    \n",
    "    Parameters:\n",
    "        U ((m,n) ndarray): grayscale image.\n",
    "        N (int): number of iterations.\n",
    "        lambda_ (float): scaling coefficient.\n",
    "        epsilon (float): adjustment for denominator.\n",
    "        delta_t (float): change in time.\n",
    "        delta_x (float): change in x.\n",
    "        delta_y (float): change in y.\n",
    "        \n",
    "    Returns:\n",
    "        ((m,n) ndarray): the processed grayscale image.\n",
    "    \"\"\"\n",
    "    pass"
   ]
  },
  {
   "cell_type": "code",
   "execution_count": null,
   "metadata": {},
   "outputs": [],
   "source": []
  }
 ],
 "metadata": {
  "kernelspec": {
   "display_name": "Python 3",
   "language": "python",
   "name": "python3"
  },
  "language_info": {
   "codemirror_mode": {
    "name": "ipython",
    "version": 3
   },
   "file_extension": ".py",
   "mimetype": "text/x-python",
   "name": "python",
   "nbconvert_exporter": "python",
   "pygments_lexer": "ipython3",
   "version": "3.10.12"
  }
 },
 "nbformat": 4,
 "nbformat_minor": 2
}
