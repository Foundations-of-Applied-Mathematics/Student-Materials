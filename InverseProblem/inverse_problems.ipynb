{
 "cells": [
  {
   "cell_type": "markdown",
   "metadata": {},
   "source": [
    "# Volume 4: Inverse Problems\n",
    "    <Name>\n",
    "    <Class>\n",
    "    <Date>"
   ]
  },
  {
   "cell_type": "code",
   "execution_count": null,
   "metadata": {},
   "outputs": [],
   "source": [
    "import numpy as np\n",
    "from scipy.optimize import minimize\n",
    "import matplotlib.pyplot as plt\n",
    "from scipy.integrate import quad"
   ]
  },
  {
   "cell_type": "markdown",
   "metadata": {},
   "source": [
    "# Problem 1\n",
    "\n",
    "Solve Equation (2) for $a(x)$.\n",
    "Produce the plot shown in Figure 2."
   ]
  },
  {
   "cell_type": "code",
   "execution_count": null,
   "metadata": {},
   "outputs": [],
   "source": []
  },
  {
   "cell_type": "markdown",
   "metadata": {},
   "source": [
    "# Problem 2\n",
    "\n",
    "Find the thermal conductivity function $a(x)$. Using several values of $\\epsilon > 0.66049142$, plot the corresponding conductivity $a(x)$ for $x$ in `np.linspace(0, 1, 11)` to demonstrate that the problem is ill-posed."
   ]
  },
  {
   "cell_type": "code",
   "execution_count": null,
   "metadata": {},
   "outputs": [],
   "source": []
  },
  {
   "cell_type": "markdown",
   "metadata": {},
   "source": [
    "# Problem 3\n",
    "\n",
    "The file `measured_heat.npy` contains measurements over time ($t \\in [0, 2]$) of the temperature along an insulated rod with a varying diffusion coefficient $\\nu(x)$.\n",
    "The first row corresponds to the initial state of the heat distribution in the rod.\n",
    "Use equations in the lab to find an estimate $\\vec \\nu$ of $\\nu(x)$ that minimizes the sum of squared errors.\n",
    "For $x \\in [-10, 10]$, plot $\\vec \\nu$ along with the true $\\nu(x)$, which is given by\n",
    "\\begin{align*}\n",
    "\\nu(x) = \\frac{5}{1+e^{-x}}+\\frac{1}{2}.\n",
    "\\end{align*}"
   ]
  },
  {
   "cell_type": "code",
   "execution_count": null,
   "metadata": {},
   "outputs": [],
   "source": [
    "# This is an MxJ matrix of measured, noisy data.\n",
    "U_hat = np.load('measured_heat.npy')\n",
    "M, J = U_hat.shape\n",
    "\n",
    "def sse(nu, U_hat):\n",
    "\n",
    "    # Initialize U with the the first row (time) of `U_hat`, then loop\n",
    "    # forward in time using `nu` and equation (8)\n",
    "\n",
    "    return # Result of equation (9)\n",
    "\n",
    "# This is a good guess. There are others that will work fine too.\n",
    "guess = np.full(J, 2)\n",
    "\n",
    "sol = minimize(sse, guess, args=U_hat, method='BFGS')\n",
    "nu = sol.x"
   ]
  }
 ],
 "metadata": {
  "kernelspec": {
   "display_name": "Python 3 (ipykernel)",
   "language": "python",
   "name": "python3"
  },
  "language_info": {
   "codemirror_mode": {
    "name": "ipython",
    "version": 3
   },
   "file_extension": ".py",
   "mimetype": "text/x-python",
   "name": "python",
   "nbconvert_exporter": "python",
   "pygments_lexer": "ipython3",
   "version": "3.10.6"
  }
 },
 "nbformat": 4,
 "nbformat_minor": 4
}
