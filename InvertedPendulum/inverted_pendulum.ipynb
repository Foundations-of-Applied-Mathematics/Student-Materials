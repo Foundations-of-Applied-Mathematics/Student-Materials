{
 "cells": [
  {
   "cell_type": "markdown",
   "metadata": {},
   "source": [
    "# Volume 4: Inverted Pendulum\n",
    "    <Name>\n",
    "    <Class>\n",
    "    <Date>"
   ]
  },
  {
   "cell_type": "code",
   "execution_count": null,
   "metadata": {},
   "outputs": [],
   "source": [
    "import numpy as np\n",
    "from scipy.optimize import root\n",
    "from scipy.integrate import solve_ivp\n",
    "from scipy.linalg import solve_continuous_are\n",
    "import matplotlib.pyplot as plt\n",
    "from scipy.interpolate import CubicSpline"
   ]
  },
  {
   "cell_type": "markdown",
   "metadata": {},
   "source": [
    "# Problem 1\n",
    "\n",
    "Write a function that returns the matrices A, B, Q, and R given above. Let\n",
    "g = 9.8 m/s\n",
    "2\n",
    "."
   ]
  },
  {
   "cell_type": "code",
   "execution_count": null,
   "metadata": {},
   "outputs": [],
   "source": [
    "def linearized_init(M, m, l, q1, q2, q3, q4, r):\n",
    "    '''\n",
    "    Parameters:\n",
    "    ----------\n",
    "    M, m: floats\n",
    "          masses of the rickshaw and the present\n",
    "    l   : float\n",
    "          length of the rod\n",
    "    q1, q2, q3, q4, r : floats\n",
    "        relative weights of the position and velocity of the rickshaw, the\n",
    "        angular displacement theta and the change in theta, and the control\n",
    "\n",
    "\n",
    "    Return\n",
    "    -------\n",
    "    A : ndarray of shape (4,4)\n",
    "    B : ndarray of shape (4,1)\n",
    "    Q : ndarray of shape (4,4)\n",
    "    R : ndarray of shape (1,1)\n",
    "    '''\n",
    "    pass"
   ]
  },
  {
   "cell_type": "markdown",
   "metadata": {},
   "source": [
    "# Problem 2\n",
    "\n",
    "Write the following function to find the matrix $P$ using `scipy.optimize.root`.\n",
    "Since root takes in a vector and not a matrix, you will have to reshape the matrix P before\n",
    "passing it in and after getting your result, using `np.reshape(16)` and `np.reshape((4,4))`."
   ]
  },
  {
   "cell_type": "code",
   "execution_count": null,
   "metadata": {},
   "outputs": [],
   "source": [
    "def find_P(A,B,Q,R):\n",
    "    '''\n",
    "    Parameters:\n",
    "    ----------\n",
    "    A, Q : ndarrays of shape (4,4)\n",
    "    B : ndarray of shape (4,1)\n",
    "    R : ndarray of shape (1,1)\n",
    "    \n",
    "    Returns\n",
    "    -------\n",
    "    P : the matrix solution of the Riccati equation\n",
    "    '''\n",
    "    pass"
   ]
  },
  {
   "cell_type": "code",
   "execution_count": null,
   "metadata": {},
   "outputs": [],
   "source": [
    "M, m = 23., 5.\n",
    "l = 4.\n",
    "q1, q2, q3, q4 = 1., 1., 1., 1.\n",
    "r = 10."
   ]
  },
  {
   "cell_type": "markdown",
   "metadata": {},
   "source": [
    "# Problem 3\n",
    " \n",
    "Write the following function that implements the LQR solution described earlier.\n",
    "Use `scipy.integrate.solve_ivp` to solve the IVP."
   ]
  },
  {
   "cell_type": "code",
   "execution_count": null,
   "metadata": {},
   "outputs": [],
   "source": [
    "def rickshaw(tv, X0, A, B, Q, R, P):\n",
    "    '''\n",
    "    Parameters:\n",
    "    ----------\n",
    "    tv : tuple containing start and stop times (t0,tf) that can be passed into solve_ivp\n",
    "    X0 : Initial conditions on state variables\n",
    "    A, Q: ndarrays of shape (4,4)\n",
    "    B : ndarray of shape (4,1)\n",
    "    R : ndarray of shape (1,1)\n",
    "    P : ndarray of shape (4,4)\n",
    "    Returns\n",
    "    -------\n",
    "    Z : ndarray of shape (n+1,4), the state vector at each time\n",
    "    U : ndarray of shape (n+1,), the control values\n",
    "    '''\n",
    "    pass"
   ]
  },
  {
   "cell_type": "markdown",
   "metadata": {},
   "source": [
    "# Problem 4\n",
    "\n",
    "Test the function made in Problem (3). Find the matrix $P$ using the `scipy.optimize.root` method and plot with `tf=6` as well as the `solve_continuous_are`\n",
    "method and plot with `tf=60`. Plot the solutions $\\tilde{z}$ and $\\tilde{u}$. Compare your results to Figure\n",
    "21.3."
   ]
  },
  {
   "cell_type": "code",
   "execution_count": null,
   "metadata": {},
   "outputs": [],
   "source": [
    "M, m = 23., 5.\n",
    "l = 4.\n",
    "q1, q2, q3, q4 = 1., 1., 1., 1.\n",
    "r = 10.\n",
    "tf = None\n",
    "X0 = np.array([-1, -1, .1, -.2])"
   ]
  },
  {
   "cell_type": "markdown",
   "metadata": {},
   "source": [
    "# Problem 5\n",
    "Use the control $\\tilde{u}$ that you found in problem 4 to solve the nonlinear equation\n",
    "\n",
    "$\\ddot x = \\frac{u+m\\sin\\theta(-l\\dot \\theta^2+g\\cos\\theta)}{M+m(1-\\cos^2\\theta)}$,\n",
    "\n",
    "\n",
    "$\\ddot{\\theta} = \\frac{g(m+M)\\sin\\theta+\\cos\\theta(u-lm\\dot\\theta^2\\sin\\theta)}{l(M+m(1-\\cos^2\\theta))}$."
   ]
  },
  {
   "cell_type": "code",
   "execution_count": null,
   "metadata": {},
   "outputs": [],
   "source": [
    "def nonlinear_ode(t, y, *params):\n",
    "    '''\n",
    "    Given y = (x, x', θ, θ'), return y' = (x', x'', θ', θ'').\n",
    "\n",
    "    Use args=(u, G, M, m, l) in your call to solve_ivp,\n",
    "    where u is your cubic spline interpolation of the control.\n",
    "\n",
    "    y[0] -- x\n",
    "    y[1] -- x prime\n",
    "    y[2] -- theta\n",
    "    y[3] -- theta prime\n",
    "    '''\n",
    "    x, xp, θ, θp = y\n",
    "\n",
    "    u, G, M, m, l = params\n",
    "\n",
    "    denom = M + m*(1 - np.cos(θ)**2)\n",
    "    return np.array([\n",
    "        xp,\n",
    "        (u(t) + m * np.sin(θ) * (- l * θp**2 + G * np.cos(θ))) / denom,\n",
    "        θp,\n",
    "        (G * (m + M) * np.sin(θ) + np.cos(θ) * (u(t) - l * m * θp**2 * np.sin(θ))) / (l * denom)\n",
    "    ])"
   ]
  },
  {
   "cell_type": "code",
   "execution_count": null,
   "metadata": {},
   "outputs": [],
   "source": []
  }
 ],
 "metadata": {
  "kernelspec": {
   "display_name": "Python 3 (ipykernel)",
   "language": "python",
   "name": "python3"
  },
  "language_info": {
   "codemirror_mode": {
    "name": "ipython",
    "version": 3
   },
   "file_extension": ".py",
   "mimetype": "text/x-python",
   "name": "python",
   "nbconvert_exporter": "python",
   "pygments_lexer": "ipython3",
   "version": "3.10.12"
  }
 },
 "nbformat": 4,
 "nbformat_minor": 4
}
