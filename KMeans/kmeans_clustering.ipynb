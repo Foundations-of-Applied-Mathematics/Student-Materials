{
 "cells": [
  {
   "cell_type": "markdown",
   "metadata": {},
   "source": [
    "# Volume 3: K-Means Clustering.\n",
    "    <Name>\n",
    "    <Class>\n",
    "    <Date>"
   ]
  },
  {
   "cell_type": "code",
   "execution_count": null,
   "metadata": {},
   "outputs": [],
   "source": [
    "from matplotlib import pyplot as plt\n",
    "%matplotlib inline"
   ]
  },
  {
   "cell_type": "code",
   "execution_count": null,
   "metadata": {},
   "outputs": [],
   "source": [
    "plt.rcParams[\"figure.dpi\"] = 200"
   ]
  },
  {
   "cell_type": "markdown",
   "metadata": {},
   "source": [
    "## Problem 1\n",
    "\n",
    "Write a `KMeans` class for doing basic $k$-means clustering.\n",
    "Implement the following methods, following `sklearn` class conventions.\n",
    "1. `__init__()`: Accept a number of clusters $k$, a maximum number of iterations, and a convergence tolerance.\n",
    "Store these as attributes.\n",
    "\n",
    "2. `fit()`: Accept an $m \\times n$ matrix $X$ of $m$ data points with $n$ features.\n",
    "Choose $k$ random rows of $X$ as the initial cluster centers.\n",
    "Run the $k$-means iteration until consecutive centers are within the convergence tolerance, or until iterating the maximum number of times.\n",
    "Save the cluster centers as attributes.\n",
    "If a cluster is empty, reassign the cluster center as a random row of $X$.\n",
    "\n",
    "3. `predict()`: Accept an $l \\times n$ matrix $X$ of data.\n",
    "Return an array of $l$ integers where the $i$th entry indicates which cluster center the $i$th row of $X$ is closest to.\n",
    "\n",
    "Test your class on the iris data set (`sklean.datasets.load_iris()`) after reducing the data to two principal components (with `sklearn.decomposition.PCA`).\n",
    "Plot the data, coloring by cluster."
   ]
  },
  {
   "cell_type": "code",
   "execution_count": null,
   "metadata": {},
   "outputs": [],
   "source": [
    "class KMeans(BaseEstimator, ClusterMixin):\n",
    "    \"\"\"Basic k-means clustering class.\"\"\"\n",
    "    def __init__(self, n_clusters=8, max_iter=100, tol=1e-5, normalize=False):\n",
    "        \"\"\"Store clustering algorithm parameters.\n",
    "        \n",
    "        Parameters:\n",
    "            n_clusters (int): How many clusters to compute.\n",
    "            max_iter (int): The maximum number of iterations to compute.\n",
    "            tol (float): The convergence tolerance.\n",
    "        \"\"\"\n",
    "        self.n_clusters = n_clusters\n",
    "        self.max_iter = max_iter\n",
    "        self.tol = tol\n",
    "        self.normalize = normalize        # This is for Problem 2.\n",
    "    \n",
    "    def fit(self, X, y=None):\n",
    "        \"\"\"Compute the cluster centers from random initial conditions.\n",
    "        \n",
    "        Parameters:\n",
    "            X ((n_samples, n_classes) ndarray): the data to be clustered.\n",
    "        \"\"\"\n",
    "        raise NotImplementedError(\"Problem 1 Incomplete\")\n",
    "        return self\n",
    "    \n",
    "    def predict(self, X):\n",
    "        \"\"\"Classify each entry of X based on which cluster center it belongs to.\n",
    "\n",
    "        Parameters:\n",
    "            X ((n_samples, n_classes) ndarray): the data to be clustered.\n",
    "        \n",
    "        Returns:\n",
    "            ((n_samples) ndarray): Integer labels from 0 to n_clusters for each entry of X.\n",
    "        \"\"\"\n",
    "        raise NotImplementedError(\"Problem 1 Incomplete\")\n",
    "    \n",
    "    def fit_predict(self, X, y=None):\n",
    "        \"\"\"Fit to the data and return the resulting labels.\n",
    "\n",
    "        Parameters:\n",
    "            X ((n_samples, n_classes) ndarray): the data to be clustered.\n",
    "        \"\"\"\n",
    "        return self.fit(X).predict(X)"
   ]
  },
  {
   "cell_type": "code",
   "execution_count": null,
   "metadata": {},
   "outputs": [],
   "source": []
  },
  {
   "cell_type": "markdown",
   "metadata": {},
   "source": [
    "## Problem 2\n",
    "\n",
    "Modify `KMeansfit()` so that if `normalize` is `True`, the cluster centers are normalized at each iteration.\n",
    "\n",
    "Cluster the earthquake data in three dimensions by converting the data from spherical coordinates to euclidean coordinates on the sphere.\n",
    "1. Convert longitude and latitude to radians, then to spherical coordinates.\n",
    "(Hint: `np.deg2rad()` may be helpful.)\n",
    "2. Convert the spherical coordinates to euclidean coordinates in $\\mathbb{R}^3$.\n",
    "3. Use your `KMeans` class with normalization to cluster the euclidean coordinates.\n",
    "4. Translate the cluster center coordinates back to spherical coordinates, then to degrees.\n",
    "5. Plot the data, coloring by cluster.\n",
    "Also mark the cluster centers."
   ]
  },
  {
   "cell_type": "code",
   "execution_count": null,
   "metadata": {},
   "outputs": [],
   "source": []
  },
  {
   "cell_type": "markdown",
   "metadata": {},
   "source": [
    "## Problem 3\n",
    "\n",
    "Write a function that accepts an image array (of shape $(m,n,3)$), an integer number of clusters $k$, and an integer number of samples $S$.\n",
    "Reshape the image so that each row represents a single pixel.\n",
    "Choose $S$ pixels to train a $k$-means model on with $k$ clusters.\n",
    "Make a copy of the original picture where each pixel has the same color as its cluster center.\n",
    "Return the new image.\n",
    "For this problem, you may use `sklearn.cluster.KMeans` instead of your `KMeans` class.\n",
    "\n",
    "Test your function on some of the provided NASA images."
   ]
  },
  {
   "cell_type": "code",
   "execution_count": null,
   "metadata": {},
   "outputs": [],
   "source": [
    "def quantize_image(im, n_clusters=4, n_samples=50):\n",
    "    \"\"\"Cluster the pixels of the image 'im' by color.\n",
    "    Return a copy of the image where each pixel is replaced by the value\n",
    "    of its cluster center.\n",
    "    \n",
    "    Parameters:\n",
    "        im ((m,n,3) ndarray): an image array.\n",
    "        n_clusters (int): the number of k-means clusters.\n",
    "        n_samples (int): the number of pixels to train the k-means model on.\n",
    "    \n",
    "    Returns:\n",
    "        ((m,n,3) ndarray): the quantized image.\n",
    "    \"\"\"\n",
    "    raise NotImplementedError(\"Problem 3 Incomplete\")"
   ]
  },
  {
   "cell_type": "code",
   "execution_count": null,
   "metadata": {},
   "outputs": [],
   "source": []
  }
 ],
 "metadata": {
  "kernelspec": {
   "display_name": "Python 3 (ipykernel)",
   "language": "python",
   "name": "python3"
  },
  "language_info": {
   "codemirror_mode": {
    "name": "ipython",
    "version": 3
   },
   "file_extension": ".py",
   "mimetype": "text/x-python",
   "name": "python",
   "nbconvert_exporter": "python",
   "pygments_lexer": "ipython3",
   "version": "3.7.4"
  }
 },
 "nbformat": 4,
 "nbformat_minor": 4
}
