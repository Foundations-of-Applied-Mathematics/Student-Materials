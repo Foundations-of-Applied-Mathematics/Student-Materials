{
 "cells": [
  {
   "cell_type": "markdown",
   "metadata": {},
   "source": [
    "# Volume 3: K-Means Clustering.\n",
    "    <Name>\n",
    "    <Class>\n",
    "    <Date>"
   ]
  },
  {
   "cell_type": "code",
   "execution_count": null,
   "metadata": {},
   "outputs": [],
   "source": [
    "import numpy as np\n",
    "from sklearn.datasets import load_iris\n",
    "from sklearn.decomposition import PCA\n",
    "from matplotlib import pyplot as plt\n",
    "%matplotlib inline"
   ]
  },
  {
   "cell_type": "code",
   "execution_count": null,
   "metadata": {},
   "outputs": [],
   "source": [
    "plt.rcParams[\"figure.dpi\"] = 200"
   ]
  },
  {
   "cell_type": "markdown",
   "metadata": {},
   "source": [
    "## Problem 1\n",
    "\n",
    "Write a `KMeans` class for doing basic $k$-means clustering.\n",
    "Implement the following methods.\n",
    "1. `__init__()`: Accept a number of clusters $k$, a maximum number of iterations, and a convergence tolerance.\n",
    "Store these as attributes.\n",
    "\n",
    "2. `fit()`: Accept an $m \\times n$ matrix $X$ of $m$ data points with $n$ features.\n",
    "Choose $k$ random rows of $X$ as the initial cluster centers.\n",
    "Run the $k$-means iteration until consecutive centers are within the convergence tolerance, or until iterating the maximum number of times.\n",
    "Save the cluster centers as attributes.\n",
    "If a cluster is empty, reassign the cluster center as a random row of $X$.\n",
    "\n",
    "3. `predict()`: Accept an $l \\times n$ matrix $X$ of data.\n",
    "Return an array of $l$ integers where the $i$-th entry indicates which cluster center the $i$-th row of $X$ is closest to.\n",
    "\n",
    "4. `plot()`: Accept an $l \\times n$ matrix $X$ of $l$ data points and an array $y$ of $l$ integers representing the labels.\n",
    "Plot each data point from the matrix, colored by cluster, along with the cluster centers.\n",
    "Note that in this case, $n = 2$.\n",
    "\n",
    "Test your class on the iris data set with $k=3$ (`sklean.datasets.load_iris()`) after reducing the data to two principal components (with `sklearn.decomposition.PCA`).\n",
    "Plot the data and cluster centers, coloring the data by cluster."
   ]
  },
  {
   "cell_type": "code",
   "execution_count": null,
   "metadata": {},
   "outputs": [],
   "source": [
    "class KMeans:\n",
    "    \"\"\"Basic k-means clustering class.\"\"\"\n",
    "    def __init__(self, n_clusters=8, max_iter=100, tol=1e-5, normalize=False):\n",
    "        \"\"\"Store clustering algorithm parameters.\n",
    "        \n",
    "        Parameters:\n",
    "            n_clusters (int): How many clusters to compute.\n",
    "            max_iter (int): The maximum number of iterations to compute.\n",
    "            tol (float): The convergence tolerance.\n",
    "        \"\"\"\n",
    "        self.n_clusters = n_clusters\n",
    "        self.max_iter = max_iter\n",
    "        self.tol = tol\n",
    "        self.normalize = normalize        # This is for Problem 3.\n",
    "    \n",
    "    def fit(self, X, y=None):\n",
    "        \"\"\"Compute the cluster centers from random initial conditions.\n",
    "        \n",
    "        Parameters:\n",
    "            X ((n_samples, n_classes) ndarray): the data to be clustered.\n",
    "        \"\"\"\n",
    "        raise NotImplementedError(\"Problem 1 Incomplete\")\n",
    "        return self\n",
    "    \n",
    "    def predict(self, X):\n",
    "        \"\"\"Classify each entry of X based on which cluster center it belongs to.\n",
    "\n",
    "        Parameters:\n",
    "            X ((n_samples, n_classes) ndarray): the data to be clustered.\n",
    "        \n",
    "        Returns:\n",
    "            ((n_samples) ndarray): Integer labels from 0 to n_clusters for each entry of X.\n",
    "        \"\"\"\n",
    "        raise NotImplementedError(\"Problem 1 Incomplete\")\n",
    "    \n",
    "    def fit_predict(self, X):\n",
    "        \"\"\"Fit to the data and return the resulting labels.\n",
    "\n",
    "        Parameters:\n",
    "            X ((n_samples, n_classes) ndarray): the data to be clustered.\n",
    "        \"\"\"\n",
    "        return self.fit(X).predict(X)\n",
    "    \n",
    "    def plot(self, X, y):\n",
    "        \"\"\"Plot each of the data points, colored by cluster.\n",
    "        Plot each of the cluster centers using a different marker.\n",
    "\n",
    "        Parameters:\n",
    "            X ((n_samples, n_classes) ndarray): the data being clustered.\n",
    "            y ((n_samples) ndarray): the labels for each of the samples.\n",
    "        \"\"\"\n",
    "        raise NotImplementedError(\"Problem 1 Incomplete\")"
   ]
  },
  {
   "cell_type": "code",
   "execution_count": null,
   "metadata": {},
   "outputs": [],
   "source": []
  },
  {
   "cell_type": "markdown",
   "metadata": {},
   "source": [
    "## Problem 2\n",
    "Using the Methods you wrote in Problem 1, add a parameter, $p$, to your class that denotes the norm and defaults to 2.\n",
    "Save $p$ as an attribute to be used in your `fit()` and `predict()` functions.\n",
    "\n",
    "Using the latitude and longitude data in $\\text{sacramento.npy}$ find the optimal placement for 12 fire stations. \n",
    "Plot the longitude and latitude data points colored by cluster as well as the cluster centers.\n",
    "Make plots for 3 different values for $p$ to find the optimal locations for the fire stations.\n",
    "In a Markdown cell, report which norm you found to be the best at keeping the maximum distance small."
   ]
  },
  {
   "cell_type": "code",
   "execution_count": null,
   "metadata": {},
   "outputs": [],
   "source": []
  },
  {
   "cell_type": "markdown",
   "metadata": {},
   "source": [
    "## Problem 3\n",
    "\n",
    "Add a keyword argument `normalize = False` to your `KMeans` constructor.\n",
    "Modify `fit()` so that if `normalize` is `True`, the cluster centers are normalized at each iteration.\n",
    "\n",
    "Cluster the earthquake data in three dimensions by converting the data from raw data to spherical coordinates to euclidean coordinates on the sphere.\n",
    "1. Convert longitude and latitude to radians, then to spherical coordinates.\n",
    "(Hint: `np.deg2rad()` may be helpful)\n",
    "2. Convert the spherical coordinates to euclidean coordinates in $\\mathbb{R}^3$.\n",
    "3. Use your `KMeans` class with normalization to cluster the euclidean coordinates with `k=15`.\n",
    "4. Translate the cluster center coordinates back to spherical coordinates, then to degrees.\n",
    "Transform the cluster means back to latitude and longitude coordinates.\n",
    "(Hint: use `np.arctan2()` for arctangent so that the correct quadrant is chosen)\n",
    "5. Plot the data, coloring by cluster.\n",
    "Also mark the cluster centers."
   ]
  },
  {
   "cell_type": "code",
   "execution_count": null,
   "metadata": {},
   "outputs": [],
   "source": []
  },
  {
   "cell_type": "markdown",
   "metadata": {},
   "source": [
    "## Problem 4\n",
    "\n",
    "Write a function that accepts an image array $\\left(\\text{of shape } (m,n,3)\\right)$, an integer number of clusters $k$, and an integer number of samples $S$.\n",
    "Reshape the image so that each row represents a single pixel.\n",
    "Choose $S$ pixels to train a $k$-means model on with $k$ clusters.\n",
    "Make a copy of the original picture where each pixel has the same color as its cluster center.\n",
    "Return the new image.\n",
    "For this problem, you may use `sklearn.cluster.KMeans` instead of your `KMeans` class from Problem 1.\n",
    "\n",
    "Test your function on the six provided NASA images."
   ]
  },
  {
   "cell_type": "code",
   "execution_count": null,
   "metadata": {},
   "outputs": [],
   "source": [
    "def quantize_image(im, n_clusters=4, n_samples=50):\n",
    "    \"\"\"Cluster the pixels of the image 'im' by color.\n",
    "    Return a copy of the image where each pixel is replaced by the value\n",
    "    of its cluster center.\n",
    "    \n",
    "    Parameters:\n",
    "        im ((m,n,3) ndarray): an image array.\n",
    "        n_clusters (int): the number of k-means clusters.\n",
    "        n_samples (int): the number of pixels to train the k-means model on.\n",
    "    \n",
    "    Returns:\n",
    "        ((m,n,3) ndarray): the quantized image.\n",
    "    \"\"\"\n",
    "    raise NotImplementedError(\"Problem 3 Incomplete\")"
   ]
  },
  {
   "cell_type": "code",
   "execution_count": null,
   "metadata": {},
   "outputs": [],
   "source": []
  }
 ],
 "metadata": {
  "kernelspec": {
   "display_name": "Python 3 (ipykernel)",
   "language": "python",
   "name": "python3"
  }
 },
 "nbformat": 4,
 "nbformat_minor": 4
}
