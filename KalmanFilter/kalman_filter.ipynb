{
 "cells": [
  {
   "cell_type": "markdown",
   "metadata": {},
   "source": [
    "# Volume 3: Kalman Filter\n",
    "    <Name>\n",
    "    <Class>\n",
    "    <Date>"
   ]
  },
  {
   "cell_type": "code",
   "execution_count": null,
   "metadata": {},
   "outputs": [],
   "source": [
    "import numpy as np\n",
    "import matplotlib.pyplot as plt\n",
    "from scipy.linalg import inv"
   ]
  },
  {
   "cell_type": "markdown",
   "metadata": {},
   "source": [
    "## Problem 1\n",
    "\n",
    "Begin implementing a `KalmanFilter` class by writing an initialization method that stores the transition and observation models, noise covariances, and control vector.\n",
    "\n",
    "## Problem 4\n",
    "Add a method to your `KalmanFilter` class to estimate a state sequence corresponding to a given observation sequence and initial state estimate by implementing the `estimate()` method.\n",
    "\n",
    "## Problem 6\n",
    "\n",
    "Add a method `predict()` to your class that predicts the next $k$ states given a current state estimate but in the absence of observations.\n",
    "\n",
    "## Problem 8\n",
    "Add a method `rewind()` to your class that rewinds the system from a given state estimate, returning predictions for the previous states. "
   ]
  },
  {
   "cell_type": "code",
   "execution_count": null,
   "metadata": {},
   "outputs": [],
   "source": [
    "\n",
    "class KalmanFilter(object):\n",
    "    def __init__(self, F, Q, H, R, u):\n",
    "        \"\"\"\n",
    "        Initialize the dynamical system models.\n",
    "\n",
    "        Parameters\n",
    "        ----------\n",
    "        F : ndarray of shape (n,n)\n",
    "            The state transition model.\n",
    "        Q : ndarray of shape (n,n)\n",
    "            The covariance matrix for the state noise.\n",
    "        H : ndarray of shape (m,n)\n",
    "            The observation model.\n",
    "        R : ndarray of shape (m,m)\n",
    "            The covariance matrix for observation noise.\n",
    "        u : ndarray of shape (n,)\n",
    "            The control vector.\n",
    "        \"\"\"\n",
    "        raise NotImplementedError('Problem 1 Incomplete')\n",
    "   \n",
    "\n",
    "    def estimate(self, x, P, z):\n",
    "        \"\"\"\n",
    "        Compute the state estimates using the Kalman filter.\n",
    "        If x and P correspond to time step k, then z is a sequence of\n",
    "        observations starting at time step k+1.\n",
    "\n",
    "        Parameters\n",
    "        ----------\n",
    "        x : ndarray of shape (n,)\n",
    "            The initial state estimate.\n",
    "        P : ndarray of shape (n,n)\n",
    "            The initial error covariance matrix.\n",
    "        z : ndarray of shape (m,N)\n",
    "            Sequence of N observations (each column is an observation).\n",
    "\n",
    "        Returns\n",
    "        -------\n",
    "        out : ndarray of shape (n,N)\n",
    "            Sequence of state estimates (each column is an estimate).\n",
    "        \"\"\"\n",
    "        raise NotImplementedError('Problem 4 Incomplete')  \n",
    "            \n",
    "    \n",
    "    def predict(self, x, k):\n",
    "        \"\"\"\n",
    "        Predict the next k states in the absence of observations.\n",
    "\n",
    "        Parameters\n",
    "        ----------\n",
    "        x : ndarray of shape (n,)\n",
    "            The current state estimate.\n",
    "        k : integer\n",
    "            The number of states to predict.\n",
    "\n",
    "        Returns\n",
    "        -------\n",
    "        out : ndarray of shape (n,k)\n",
    "            The next k predicted states.\n",
    "        \"\"\"\n",
    "        raise NotImplementedError('Problem 6 Incomplete')  \n",
    "    \n",
    "\n",
    "    def rewind(self, x, k):\n",
    "        \"\"\"\n",
    "        Predict the k states preceding the current state estimate x.\n",
    "\n",
    "        Parameters\n",
    "        ----------\n",
    "        x : ndarray of shape (n,)\n",
    "            The current state estimate.\n",
    "        k : integer\n",
    "            The number of preceding states to predict.\n",
    "\n",
    "        Returns\n",
    "        -------\n",
    "        out : ndarray of shape (n,k)\n",
    "            The k preceding predicted states.\n",
    "        \"\"\"\n",
    "        raise NotImplementedError('Problem 8 Incomplete')  \n"
   ]
  },
  {
   "cell_type": "markdown",
   "metadata": {},
   "source": [
    "## Problem 2 \n",
    "\n",
    "Work out the transition and observation models $F$ and $H$, along with the control vector $\\mathbf{u}$, corresponding to the projectile. \n",
    "Assume that the noise covariances are given by \n",
    "\n",
    "$Q = 0.1 \\cdot I_4 $\n",
    "\n",
    "$R = 5000 \\cdot I_2. $\n",
    "\n",
    "Instantiate a `KalmanFilter` object with these values."
   ]
  },
  {
   "cell_type": "code",
   "execution_count": null,
   "metadata": {},
   "outputs": [],
   "source": []
  },
  {
   "cell_type": "markdown",
   "metadata": {},
   "source": [
    "## Problem 3\n",
    "\n",
    "Write a function `evolve()` that generates a state and observation sequence by evolving the dynamical system from a given initial state.\n",
    "\n",
    "Simulate the true and observed trajectories of a projectile with initial state\n",
    "\n",
    "$x_0 = \\left( \\begin{array}{c} 0 \\\\ 0 \\\\ 300 \\\\ 600 \\end{array} \\right).$\n",
    "\n",
    "Plot both the true trajectory (as a blue line) and the observed trajectory (as red dots)."
   ]
  },
  {
   "cell_type": "code",
   "execution_count": null,
   "metadata": {},
   "outputs": [],
   "source": [
    "def evolve(x0, N, F, Q, H, R, u):\n",
    "    \"\"\"\n",
    "    Generate the first N states and observations from the dynamical system.\n",
    "\n",
    "    Parameters\n",
    "    ----------\n",
    "    x0 : ndarray of shape (n,)\n",
    "        The initial state.\n",
    "    N : integer\n",
    "        The number of time steps to evolve.\n",
    "    F : ndarray of shape (n,n)\n",
    "        The state transition model.\n",
    "    Q : ndarray of shape (n,n)\n",
    "        The covariance matrix for the state noise.\n",
    "    H : ndarray of shape (m,n)\n",
    "        The observation model.\n",
    "    R : ndarray of shape (m,m)\n",
    "        The covariance matrix for observation noise.\n",
    "    u : ndarray of shape (n,)\n",
    "        The control vector.\n",
    "\n",
    "    Returns\n",
    "    -------\n",
    "    states : ndarray of shape (n,N)\n",
    "        States 0 through N-1, given by each column.\n",
    "    obs : ndarray of shape (m,N)\n",
    "        Observations 0 through N-1, given by each column.\n",
    "    \"\"\"\n",
    "    raise NotImplementedError('Problem 3 Incomplete') "
   ]
  },
  {
   "cell_type": "code",
   "execution_count": null,
   "metadata": {},
   "outputs": [],
   "source": []
  },
  {
   "cell_type": "markdown",
   "metadata": {},
   "source": [
    "## Problem 5\n",
    "\n",
    "Calculate an initial state estimate $\\hat{\\mathbf{x}}_{200}$ as follows: For the horizontal and vertical positions, simply use the observed position at time 200. \n",
    "For the velocity, compute the average velocity between the observations $\\mathbf{z}_k$ and $\\mathbf{z}_{k+1}$ for $k = 200,\\dots, 208$, then average these 9 values and take this as the initial velocity estimate.\n",
    "\n",
    "Using the initial state estimate, $P_{200} = 10^6\\cdot Q$ and your Kalman filter, compute the next 600 state estimates, i.e. compute $\\hat{\\mathbf{x}}_{201},\\dots,\\hat{\\mathbf{x}}_{800}$. \n",
    "Plot these state estimates as a smooth green curve together with the radar observations (as red dots) and the entire true state sequence (as\n",
    "a blue curve). \n",
    "Zoom in to see how well it follows the true path. "
   ]
  },
  {
   "cell_type": "code",
   "execution_count": null,
   "metadata": {},
   "outputs": [],
   "source": []
  },
  {
   "cell_type": "markdown",
   "metadata": {},
   "source": [
    "## Problem 7\n",
    "\n",
    "Using the final state estimate $\\hat{\\mathbf{x}}_{800}$ that you obtained in Problem 5, predict the future states of the projectile until it hits the ground. \n",
    "Predicting approximately the next 450 states should be sufficient.\n",
    "\n",
    "Plot the actual state sequence together with the predicted state sequence (as a yellow curve), and observe how near the prediction is to the actual point of impact."
   ]
  },
  {
   "cell_type": "code",
   "execution_count": null,
   "metadata": {},
   "outputs": [],
   "source": []
  },
  {
   "cell_type": "markdown",
   "metadata": {},
   "source": [
    "## Problem 9\n",
    "\n",
    "Using your state estimate $\\hat{\\mathbf{x}}_{250}$, predict the point of origin of the projectile along with all states leading up to time step 250. \n",
    "Note that you may have to take a few extra time steps to predict the point of origin. \n",
    "Plot these predicted states (in green) together with the original state sequence. \n",
    "Zoom in to see how accurate your prediction is. \n",
    "\n",
    "Repeat the prediction starting with $\\hat{\\mathbf{x}}_{600}$. \n",
    "Compare to the previous results. \n",
    "Which is better? \n",
    "Why?"
   ]
  },
  {
   "cell_type": "code",
   "execution_count": null,
   "metadata": {},
   "outputs": [],
   "source": []
  }
 ],
 "metadata": {
  "kernelspec": {
   "display_name": "Python 3 (ipykernel)",
   "language": "python",
   "name": "python3"
  },
  "language_info": {
   "codemirror_mode": {
    "name": "ipython",
    "version": 3
   },
   "file_extension": ".py",
   "mimetype": "text/x-python",
   "name": "python",
   "nbconvert_exporter": "python",
   "pygments_lexer": "ipython3",
   "version": "3.7.4"
  }
 },
 "nbformat": 4,
 "nbformat_minor": 4
}
