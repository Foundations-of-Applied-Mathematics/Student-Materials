{
 "cells": [
  {
   "cell_type": "markdown",
   "metadata": {},
   "source": [
    "# Volume 4: Lorenz Equations\n",
    "    <Name>\n",
    "    <Class>\n",
    "    <Date>"
   ]
  },
  {
   "cell_type": "code",
   "execution_count": null,
   "metadata": {},
   "outputs": [],
   "source": [
    "import numpy as np\n",
    "from scipy.integrate import solve_ivp\n",
    "import matplotlib.pyplot as plt\n",
    "from matplotlib.animation import FuncAnimation as FuncAnimation\n",
    "from scipy.stats import linregress"
   ]
  },
  {
   "cell_type": "markdown",
   "metadata": {},
   "source": [
    "## Problem 1\n",
    "Write a function that implements the Lorenz equations. Let $\\sigma = 10$, $\\rho = 28$, $\\beta = 8/3$ . Make a 3D plot of a solution to the Lorenz equations for an initial condition where $(x, y, z)$ are drawn randomly from a uniform distribution from −15 to 15. As usual, use `scipy.integrate.solve_ivp` to compute the solution."
   ]
  },
  {
   "cell_type": "code",
   "execution_count": null,
   "metadata": {},
   "outputs": [],
   "source": [
    "def lorenz(t, x):\n",
    "    \"\"\"Implements Lorenz equations:\n",
    "    \n",
    "    dx/dt = σ(y − x)\n",
    "    dy/dt = ρx − y − xz\n",
    "    dz/dt = xy − βz\n",
    "        \n",
    "    Parameters:\n",
    "        t (float): The time value t\n",
    "        x ((3,) ndarray): The state values (x,y,z)\n",
    "    Returns:\n",
    "        ((3,) ndarray): The derivative values\n",
    "    \"\"\"\n",
    "    pass"
   ]
  },
  {
   "cell_type": "code",
   "execution_count": null,
   "metadata": {},
   "outputs": [],
   "source": []
  },
  {
   "cell_type": "markdown",
   "metadata": {},
   "source": [
    "## Problem 2\n",
    "To better visualize the Lorenz attractor, produce a single 3D plot displaying three solutions to the Lorenz equations, each with random initial conditions."
   ]
  },
  {
   "cell_type": "code",
   "execution_count": null,
   "metadata": {},
   "outputs": [],
   "source": []
  },
  {
   "cell_type": "markdown",
   "metadata": {},
   "source": [
    "## Problem 3\n",
    "Use `matplotlib.animation.FuncAnimation` to produce a 3D animation of two solutions to the Lorenz equations with similar initial conditions. To make similar initial conditions, draw $(x_1,y_1,z_1)$ randomly as before, and then produce $(x_2,y_2,z_2)$ by adding a small perturbation: `np.random.randn(3)*(1e-10)`. It will take several seconds before the separation between the two solutions will be noticeable.\n",
    "\n",
    "The animation should have a point marker and the past trajectory curve for each solution. Save your animation as `lorenz_animation1.mp4` and embed it into the notebook.\n",
    "\n",
    "(Recall that you can display the saved animation in a Jupyter notebook by running the follwing code in a markdown cell):\n",
    "\n",
    "`<video src='lorenz_animation1.mp4' controls>`"
   ]
  },
  {
   "cell_type": "code",
   "execution_count": null,
   "metadata": {},
   "outputs": [],
   "source": []
  },
  {
   "cell_type": "markdown",
   "metadata": {},
   "source": [
    "<video src=\"lorenz_animation1.mp4\" controls>"
   ]
  },
  {
   "cell_type": "markdown",
   "metadata": {},
   "source": [
    "## Problem 4\n",
    "The `solve_ivp` function allows users to specify error tolerances (similar to setting a value of $h$ for a Runge-Kutta method). Using a single random initial condition, produce two approximations by using the `solve_ivp` arguments `(atol=1e-15, rtol=1e-13)` for the first approximation and `(atol=1e-12, rtol=1e-10)` for the second.\n",
    "As in the previous problem, use `FuncAnimation` to animate both solutions. Save the animation as `lorenz_animation2.mp4` and embed it into the notebook."
   ]
  },
  {
   "cell_type": "code",
   "execution_count": null,
   "metadata": {},
   "outputs": [],
   "source": []
  },
  {
   "cell_type": "markdown",
   "metadata": {},
   "source": [
    "<video src=\"lorenz_animation2.mp4\" controls>"
   ]
  },
  {
   "cell_type": "markdown",
   "metadata": {},
   "source": [
    "## Problem 5\n",
    "Estimate the Lyapunov exponent of the Lorenz equations by doing the following:\n",
    "* Produce an initial condition that already lies on the attractor. This can be done by using a random \"dummy\" initial condition, approximating the resulting solution to the Lorenz system for a short time, and then using the endpoint of that solution (which is now on the attractor) as the desired intital condition.\n",
    "* Produce a second initial condition by adding a small perturbation to the first (as before).\n",
    "* For both initial conditions, use `solve_ivp` to produce approximate solutions for $0 \\leq t \\leq 10$.\n",
    "* Compute $||\\delta(t)||$ by taking the norm of the vector difference between the two solutions for each value of $t$.\n",
    "* Use `scipy.stats.linregress` to calculate a best-fit line for $\\log(||\\delta(t)||)$ against $t$.\n",
    "* The slope of the resulting best-fit line is an approximation of the Lyapunov exponent $\\lambda$.\n",
    "\n",
    "Print your approximation of $\\lambda$, and produce a plot similar to Figure 1.3 using `plt.semilogy`.\n",
    "\n",
    "Hint: Remember that the best-fit line you calculated corresponds to a best-fit exponential for $||\\delta(t)||$. If `a` and `b` are the slope and intercept of the best-fit line, the best-fit exponential can be plotted using `plt.semilogy(t,np.exp(a*t+b))`."
   ]
  },
  {
   "cell_type": "code",
   "execution_count": null,
   "metadata": {
    "scrolled": false
   },
   "outputs": [],
   "source": []
  }
 ],
 "metadata": {
  "kernelspec": {
   "display_name": "Python 3 (ipykernel)",
   "language": "python",
   "name": "python3"
  },
  "language_info": {
   "codemirror_mode": {
    "name": "ipython",
    "version": 3
   },
   "file_extension": ".py",
   "mimetype": "text/x-python",
   "name": "python",
   "nbconvert_exporter": "python",
   "pygments_lexer": "ipython3",
   "version": "3.7.4"
  }
 },
 "nbformat": 4,
 "nbformat_minor": 2
}
