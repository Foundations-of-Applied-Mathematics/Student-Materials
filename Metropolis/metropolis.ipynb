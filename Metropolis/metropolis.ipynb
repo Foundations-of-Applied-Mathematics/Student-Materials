{
 "cells": [
  {
   "cell_type": "markdown",
   "metadata": {},
   "source": [
    "# Volume 3: Metropolis Algorithm\n",
    "    <Name>\n",
    "    <Class>\n",
    "    <Date>"
   ]
  },
  {
   "cell_type": "code",
   "execution_count": null,
   "metadata": {},
   "outputs": [],
   "source": [
    "import numpy as np\n",
    "from scipy import stats\n",
    "from matplotlib import pyplot as plt\n",
    "from math import sqrt, exp, log\n",
    "import seaborn as sns"
   ]
  },
  {
   "cell_type": "markdown",
   "metadata": {},
   "source": [
    "## Problem 1\n",
    "\n",
    "Write a function that uses the Metropolis Hastings algorithm to draw from the posterior distribution over the mean $\\mu$ and variance $\\sigma^2$. Use the given functions and Algorithm 1 to complete the problem.\n",
    "\n",
    "Your function should return an array of draws, an array of the log probabilities, and an acceptance rate. \n",
    "Create plots resembling Figures 1 and 2:\n",
    " - Plot the log probabilities of the first 500 samples.\n",
    " - Plot the samples for $\\mu$ in the order they were drawn, and likewise for $\\sigma^2$.\n",
    " - Using `seaborn.kdeplot` plot the distribution of all samples for $\\mu$, and likewise for $\\sigma^2$.\n",
    "\n",
    "Use $u=20$ for the parameter of the proposal function.\n",
    "Use the initial state $\\mathbf{y}_0=(\\mu_0,\\sigma^2_0)=(40,10)$.\n",
    "Take 10,000 samples for both $\\mu$ and $\\sigma^2$. \n",
    "\n",
    "Compare your results with Figures 1 and 2."
   ]
  },
  {
   "cell_type": "code",
   "execution_count": null,
   "metadata": {},
   "outputs": [],
   "source": [
    "def proposal(y, u):\n",
    "    \"\"\"Returns the proposal, i.e. a draw from Q(x,y) = N(x|y,uI).\"\"\"\n",
    "    return stats.multivariate_normal.rvs(mean=y, cov=u*np.eye(len(y)))"
   ]
  },
  {
   "cell_type": "code",
   "execution_count": null,
   "metadata": {},
   "outputs": [],
   "source": [
    "def propLogDensity(x, muprior, sig2prior, scores):\n",
    "    \"\"\"Calculate the log of the proportional density funciton f.\"\"\"\n",
    "    if x[1] <= 0:\n",
    "        return -np.inf\n",
    "    logprob = muprior.logpdf(x[0]) + sig2prior.logpdf(x[1])\n",
    "    logprob += stats.norm.logpdf(scores, loc=x[0], scale=np.sqrt(x[1])).sum()\n",
    "    return logprob"
   ]
  },
  {
   "cell_type": "code",
   "execution_count": null,
   "metadata": {},
   "outputs": [],
   "source": [
    "def acceptance(x, y, muprior, sig2prior, scores):\n",
    "    \"\"\"\n",
    "    Returns the acceptance probability of moving from y to x.\n",
    "    \"\"\"\n",
    "    return np.exp(min(0, \n",
    "                  propLogDensity(x, muprior, sig2prior, scores) \n",
    "                - propLogDensity(y, muprior, sig2prior, scores)\n",
    "    ))"
   ]
  },
  {
   "cell_type": "code",
   "execution_count": null,
   "metadata": {},
   "outputs": [],
   "source": [
    "def metropolis(y0, u, n_samples, muprior, sig2prior, scores):\n",
    "    \"\"\"\n",
    "    Use the Metropolis algorithm to sample from posterior.\n",
    "    Parameters:\n",
    "        x0 ((2,) ndarray): The first entry is mu, the second entry is sigma^2.\n",
    "        u (float): The standard deviation parameter for the proposal function.\n",
    "        n_samples (int): The number of samples to generate.\n",
    "        muprior, sig2prior (scipy.stats distributions): The prior distributions for mu and sigma^2.\n",
    "        scores ((N,) ndarray): The array of exam scores\n",
    "    \n",
    "    Returns:\n",
    "        draws ((n_samples, 2) ndarray): The MCMC samples.\n",
    "        logprobs ((n_samples,) ndarray): The values of log f(y) of the samples.\n",
    "        accept_rate (float): The proportion of accepted proposed samples.\n",
    "    \"\"\"\n",
    "    raise ValueError(\"Problem 1 is incomplete\")"
   ]
  },
  {
   "cell_type": "code",
   "execution_count": null,
   "metadata": {},
   "outputs": [],
   "source": [
    "# Load in the data and initialize priors\n",
    "scores = np.load(\"examscores.npy\")\n",
    "\n",
    "# Prior sigma^2 ~ IG(alpha, beta)\n",
    "alpha = 3\n",
    "beta = 50\n",
    "sig2prior = stats.invgamma(alpha, scale=beta)\n",
    "\n",
    "# Prior mu ~ N(m, s)\n",
    "m = 80\n",
    "s = 4\n",
    "muprior = stats.norm(loc=m, scale=sqrt(s**2))"
   ]
  },
  {
   "cell_type": "markdown",
   "metadata": {},
   "source": [
    "## Problem 2\n",
    "\n",
    "Write a function that accepts a spin configuration $\\sigma$ for a lattice as a NumPy array.\n",
    "Compute the energy $H(\\sigma)$ of the spin configuration.\n",
    "Be careful to not double count site pair interactions!"
   ]
  },
  {
   "cell_type": "code",
   "execution_count": null,
   "metadata": {},
   "outputs": [],
   "source": [
    "def random_lattice(n):\n",
    "    \"\"\"Construct a random spin configuration for an nxn lattice.\"\"\"\n",
    "    random_spin = np.zeros((n,n))\n",
    "    for k in range(n):\n",
    "        random_spin[k,:] = 2*np.random.binomial(1,.5, n) -1\n",
    "    return random_spin"
   ]
  },
  {
   "cell_type": "code",
   "execution_count": null,
   "metadata": {},
   "outputs": [],
   "source": [
    "def lattice_energy(L):\n",
    "    \"\"\"Compute the energy of the spin configuration L.\n",
    "\n",
    "    Parameter:\n",
    "     L (ndarray): A spin configuration for a lattice.\n",
    "    \n",
    "    Returns:\n",
    "     (float): The energy of the spin configuration.\n",
    "    \"\"\"\n",
    "    raise ValueError(\"Problem 2 is incomplete\")"
   ]
  },
  {
   "cell_type": "markdown",
   "metadata": {},
   "source": [
    "## Problem 3\n",
    "\n",
    "Write a function that accepts an integer $n$ and chooses a pair of indices $(i,j)$ where $0 \\le i,j \\le n-1$.\n",
    "Each possible pair should have an equal probability $\\frac{1}{n^2}$ of being chosen."
   ]
  },
  {
   "cell_type": "code",
   "execution_count": null,
   "metadata": {},
   "outputs": [],
   "source": [
    "def flip_location(n):\n",
    "    \"\"\"Choose a random pair of indices 0 <= i,j <= n-1.\n",
    "    Parameter:\n",
    "     n (int): 1/(n^2) probability for each location\n",
    "     \n",
    "    Returns:\n",
    "     (index1, index2) (tuple): the tuple pair of the chosen indices. \n",
    "    \"\"\"\n",
    "    raise ValueError(\"Problem 3 is incomplete\")    "
   ]
  },
  {
   "cell_type": "markdown",
   "metadata": {},
   "source": [
    "## Problem 4\n",
    "\n",
    "Write a function that accepts a spin configuration $\\sigma$, its energy $H(\\sigma)$, and integer indices $i$ and $j$.\n",
    "Compute the energy of the new spin configuration $\\sigma^*$, which is $\\sigma$ but with the spin flipped at the $(i,j)$ th entry of the corresponding lattice.\n",
    "Do not explicitly construct the new lattice for $\\sigma^*$."
   ]
  },
  {
   "cell_type": "code",
   "execution_count": null,
   "metadata": {},
   "outputs": [],
   "source": [
    "def updated_energy(L, L_energy, i, j):\n",
    "    \"\"\"Compute the energy of the spin configuration that results\n",
    "    when the (i,j)th spin of L is flipped.\n",
    "    \n",
    "    Parameters:\n",
    "     L (ndarray): the spin configuration \n",
    "     L_energy (float): the energy of the spin configuration.\n",
    "     i (int): the first index.\n",
    "     j (int): the second index.\n",
    "    Returns:\n",
    "     (float): the energy of the new updated lattice\n",
    "    \"\"\"\n",
    "    raise ValueError(\"Problem 4 is incomplete\")"
   ]
  },
  {
   "cell_type": "markdown",
   "metadata": {},
   "source": [
    "## Problem 5\n",
    "\n",
    "Write a function that accepts a float $\\beta$ and spin configuration energies $H(\\sigma)$ and $H(\\sigma^*)$.\n",
    "Calculate whether or not the new spin configuration $\\sigma^*$ should be accepted (return `True` or `False`).\n",
    "\n",
    "(Hint: np.random.binomial() might be useful function)"
   ]
  },
  {
   "cell_type": "code",
   "execution_count": null,
   "metadata": {},
   "outputs": [],
   "source": [
    "def accept(beta, energy_old, energy_new):\n",
    "    \"\"\"Accept or reject the new spin configuration.\n",
    "    \n",
    "    Parameters:\n",
    "     beta (float): a quantity inversly proportional to the temperature.\n",
    "     energy_old (float): the energy of the old lattice.\n",
    "     energy_new (float): the energy of the updated lattice.\n",
    "     \n",
    "    Returns:\n",
    "     (boolean): whether the new energy should be accepted or not\n",
    "    \"\"\"\n",
    "    raise ValueError(\"Problem 5 is incomplete\") "
   ]
  },
  {
   "cell_type": "markdown",
   "metadata": {},
   "source": [
    "## Problem 6\n",
    "\n",
    "Write a function that accepts a float $\\beta>0$ and integers $n$, `n_samples`, and `burn_in`.\n",
    "Initialize an $n\\times n$ lattice for a spin configuration $\\sigma$ using `random_lattice()`.\n",
    "Use the Metropolis algorithm to (potentially) update the lattice `burn_in` times.\n",
    "1. Use `flip_location()` to choose a site for possibly flipping the spin, thus defining a potential new configuration $\\sigma^*$.\n",
    "2. Use `updated_energy()` to calculate the energy $H(\\sigma^*)$ of the proposed configuration.\n",
    "3. Use `accept()` to accept or reject the proposed configuration. If it is accepted, set $\\sigma = \\sigma^*$ by flipping the spin at the indicated site.\n",
    "4. Track $-\\beta H(\\sigma)$ at each iteration (independent of acceptance).\n",
    "\n",
    "After the burn-in period, continue the iteration `n_samples` times, also recording every $100$th sample (to prevent memory failure).\n",
    "Return the samples, the sequence of weighted energies $-\\beta H(\\sigma)$, and the acceptance rate.\n",
    "\n",
    "Test your sampler on a $100 \\times 100$ grid with $200000$ total iterations, with `n_samples` large enough so that you will keep $50$ samples, for $\\beta = 0.2, 0.4, 1$.\n",
    "Plot the proportional log probabilities, as well as a late sample from each test.\n"
   ]
  },
  {
   "cell_type": "code",
   "execution_count": null,
   "metadata": {},
   "outputs": [],
   "source": [
    "def ising_metropolis(beta, n=100, n_samples=5000, burn_in=195000):\n",
    "    \"\"\"Use the Metropolis algorithm to choose new spin configurations.\n",
    "\n",
    "    Parameters:\n",
    "        beta (float > 0): Constant inversely proportional to the temperature.\n",
    "        N (int > 0): The size of the lattice.\n",
    "        n_samples (int): The number of samples to generate.\n",
    "        burnin (int): The number of iterations to burn before sampling.\n",
    "\n",
    "    Returns:\n",
    "        ((n_samples//100, n,n) ndarray): The sampled spin configurations.\n",
    "        (n_samples + burn_in) ndarray: The weighted energies of each configuration.\n",
    "        (float): The proportion of proposed samples that were accepted.\n",
    "    \"\"\"\n",
    "    raise ValueError(\"Problem 6 is incomplete\")"
   ]
  }
 ],
 "metadata": {
  "kernelspec": {
   "display_name": "Python 3 (ipykernel)",
   "language": "python",
   "name": "python3"
  },
  "language_info": {
   "codemirror_mode": {
    "name": "ipython",
    "version": 3
   },
   "file_extension": ".py",
   "mimetype": "text/x-python",
   "name": "python",
   "nbconvert_exporter": "python",
   "pygments_lexer": "ipython3",
   "version": "3.10.11"
  }
 },
 "nbformat": 4,
 "nbformat_minor": 4
}
