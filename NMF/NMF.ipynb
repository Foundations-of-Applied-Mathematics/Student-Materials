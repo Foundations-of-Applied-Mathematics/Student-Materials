{
    "cells": [
        {
            "cell_type": "code",
            "execution_count": 1,
            "source": [
                "\"\"\"Volume 2: Non-negative Matrix Factorization.\"\"\"\n",
                "\n",
                "import numpy as np\n",
                "import cvxpy as cp\n",
                "from matplotlib import pyplot as plt\n",
                "import os\n",
                "from imageio import imread\n",
                "import warnings\n",
                "warnings.filterwarnings(\"ignore\")\n",
                "\n",
                "from sklearn.decomposition import NMF\n",
                "from sklearn.metrics import mean_squared_error as mse"
            ],
            "outputs": [],
            "metadata": {}
        },
        {
            "cell_type": "code",
            "execution_count": 2,
            "source": [
                "#Problems 1-2\n",
                "class NMFRecommender:\n",
                "\n",
                "    def __init__(self,random_state=15,rank=3,maxiter=200,tol=1e-3):\n",
                "        \"\"\"The parameter values for the algorithm\"\"\"\n",
                "\n",
                "        raise NotImplementedError('Problem 1 incomplete')\n",
                "        \n",
                "    \n",
                "    def initialize_matrices(self,m,n):\n",
                "        \"\"\"randomly initialize the W and H matrices,\"\"\"\n",
                "\n",
                "        raise NotImplementedError('Problem 1 incomplete')\n",
                "\n",
                "      \n",
                "    def fit(self,V):\n",
                "        \"\"\"Fits W and H weight matrices using CVXPY\"\"\"\n",
                "\n",
                "        raise NotImplementedError('Problem 2 incomplete')\n",
                "\n",
                "\n",
                "    def reconstruct(self):\n",
                "        \"\"\"Reconstruct V matrix for comparison against the original V\"\"\"\n",
                "\n",
                "        raise NotImplementedError('Problem 2 incomplete')\n"
            ],
            "outputs": [],
            "metadata": {}
        },
        {
            "cell_type": "code",
            "execution_count": null,
            "source": [
                "def prob3():\n",
                "    \"\"\"Run NMF recommender on the grocery store example\"\"\"\n",
                "    V = np.array(\n",
                "        [\n",
                "            [0, 1, 0, 1, 2, 2],\n",
                "            [2, 3, 1, 1 ,2, 2],\n",
                "            [1, 1, 1, 0, 1, 1],\n",
                "            [0, 2, 3, 4, 1, 1],\n",
                "            [0, 0, 0, 0, 1, 0]\n",
                "        ]\n",
                "    )\n",
                "\n",
                "    raise NotImplementedError(\"problem 3 not implemented\")"
            ],
            "outputs": [],
            "metadata": {}
        },
        {
            "cell_type": "code",
            "execution_count": 3,
            "source": [
                "\n",
                "#get data\n",
                "def get_faces(path=\"./faces94\"):\n",
                "    \"\"\"Traverse the specified directory to obtain one image per subdirectory.\n",
                "    Flatten and convert each image to grayscale.\n",
                "\n",
                "    Parameters:\n",
                "        path (str): The directory containing the dataset of images.\n",
                "\n",
                "    Returns:\n",
                "        ((mn,k) ndarray) An array containing one column vector per\n",
                "            subdirectory. k is the number of people, and each original\n",
                "            image is mxn.\n",
                "    \"\"\"\n",
                "    # Traverse the directory and get one image per subdirectory.\n",
                "    faces = []\n",
                "    for (dirpath, dirnames, filenames) in os.walk(path):\n",
                "        for fname in filenames:\n",
                "            if fname[-3:]==\"jpg\":       # Only get jpg images.\n",
                "                # Load the image, convert it to grayscale,\n",
                "                # and flatten it into a vector.\n",
                "                faces.append(np.ravel(imread(dirpath+\"/\"+fname, as_gray=True)))\n",
                "                break\n",
                "    # Put all the face vectors column-wise into a matrix.\n",
                "    return np.transpose(faces)\n",
                "\n",
                "def show(image, m=200, n=180, plt_show=False):\n",
                "    \"\"\"Plot the flattened grayscale 'image' of width 'w' and height 'h'.\n",
                "\n",
                "    Parameters:\n",
                "        image ((mn,) ndarray): A flattened image.\n",
                "        m (int): The original number of rows in the image.\n",
                "        n (int): The original number of columns in the image.\n",
                "        plt_show (bool): if True, call plt.show() at the end\n",
                "    \"\"\"\n",
                "    #scale image\n",
                "    image = image / 255\n",
                "    #reshape image\n",
                "    image = np.reshape(image,(m,n))\n",
                "    #show image\n",
                "    plt.imshow(image,cmap = \"gray\")\n",
                "    \n",
                "    if plt_show:\n",
                "        plt.show()\n"
            ],
            "outputs": [],
            "metadata": {}
        },
        {
            "cell_type": "code",
            "execution_count": 4,
            "source": [
                "def prob4():\n",
                "    \"\"\"\n",
                "        Gridsearch over rank, alpha and l1_ratio values to reconstruct \n",
                "        image using NMF. Plot all reconstructed images.\n",
                "    \"\"\"\n",
                "    raise NotImplementedError(\"Problem 3 incomplete\")\n"
            ],
            "outputs": [],
            "metadata": {}
        },
        {
            "cell_type": "code",
            "execution_count": null,
            "source": [
                "def prob5():\n",
                "    '''\n",
                "        find the 10 basis faces with the largest coefficients \n",
                "        corresponding to the the second and twelfth face in the dataset. \n",
                "        Plot these basis faces along with the original image using \n",
                "        subplots\n",
                "    '''\n",
                "    raise NotImplementedError(\"Problem 4 incomplete\")"
            ],
            "outputs": [],
            "metadata": {}
        }
    ],
    "metadata": {
        "orig_nbformat": 4,
        "language_info": {
            "name": "python",
            "version": "3.8.10",
            "mimetype": "text/x-python",
            "codemirror_mode": {
                "name": "ipython",
                "version": 3
            },
            "pygments_lexer": "ipython3",
            "nbconvert_exporter": "python",
            "file_extension": ".py"
        },
        "kernelspec": {
            "name": "python3",
            "display_name": "Python 3.8.10 64-bit"
        },
        "interpreter": {
            "hash": "916dbcbb3f70747c44a77c7bcd40155683ae19c65e1c03b4aa3499c5328201f1"
        }
    },
    "nbformat": 4,
    "nbformat_minor": 2
}