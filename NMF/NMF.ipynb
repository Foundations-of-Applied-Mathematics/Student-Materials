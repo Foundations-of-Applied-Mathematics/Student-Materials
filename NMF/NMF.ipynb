{
 "cells": [
  {
   "attachments": {},
   "cell_type": "markdown",
   "metadata": {},
   "source": [
    "# Volume 2: Non-negative Matrix Factorization\n",
    "    <Name>\n",
    "    <Class>\n",
    "    <Date>"
   ]
  },
  {
   "cell_type": "code",
   "execution_count": 1,
   "metadata": {},
   "outputs": [],
   "source": [
    "import numpy as np\n",
    "import cvxpy as cp\n",
    "from matplotlib import pyplot as plt\n",
    "import os\n",
    "from imageio.v3 import imread\n",
    "import warnings\n",
    "warnings.filterwarnings(\"ignore\")\n",
    "from sklearn.decomposition import NMF"
   ]
  },
  {
   "attachments": {},
   "cell_type": "markdown",
   "metadata": {},
   "source": [
    "## Problems 1-2"
   ]
  },
  {
   "cell_type": "code",
   "execution_count": 2,
   "metadata": {},
   "outputs": [],
   "source": [
    "class NMFRecommender:\n",
    "\n",
    "    def __init__(self, random_state=15, rank=3, maxiter=200, tol=1e-3):\n",
    "        \"\"\"The parameter values for the algorithm\"\"\"\n",
    "\n",
    "        raise NotImplementedError('Problem 1 incomplete')\n",
    "        \n",
    "    \n",
    "    def initialize_matrices(self, m, n):\n",
    "        \"\"\"randomly initialize the W and H matrices,\"\"\"\n",
    "\n",
    "        raise NotImplementedError('Problem 1 incomplete')\n",
    "\n",
    "      \n",
    "    def fit(self, V):\n",
    "        \"\"\"Fits W and H weight matrices using CVXPY\"\"\"\n",
    "\n",
    "        raise NotImplementedError('Problem 2 incomplete')\n",
    "\n",
    "\n",
    "    def reconstruct(self):\n",
    "        \"\"\"Reconstruct V matrix for comparison against the original V\"\"\"\n",
    "\n",
    "        raise NotImplementedError('Problem 2 incomplete')\n"
   ]
  },
  {
   "attachments": {},
   "cell_type": "markdown",
   "metadata": {},
   "source": [
    "## Problem 3"
   ]
  },
  {
   "cell_type": "code",
   "execution_count": null,
   "metadata": {},
   "outputs": [],
   "source": [
    "def prob3():\n",
    "    \"\"\"Run NMF recommender on the grocery store example\"\"\"\n",
    "    V = np.array(\n",
    "        [\n",
    "            [0, 1, 0, 1, 2, 2],\n",
    "            [2, 3, 1, 1, 2, 2],\n",
    "            [1, 1, 1, 0, 1, 1],\n",
    "            [0, 2, 3, 4, 1, 1],\n",
    "            [0, 0, 0, 0, 1, 0]\n",
    "        ]\n",
    "    )\n",
    "\n",
    "    raise NotImplementedError(\"Problem 3 incomplete\")"
   ]
  },
  {
   "cell_type": "code",
   "execution_count": null,
   "metadata": {},
   "outputs": [],
   "source": [
    "# Implement prob 3 here\n",
    "prob3()"
   ]
  },
  {
   "attachments": {},
   "cell_type": "markdown",
   "metadata": {},
   "source": [
    "## Problem 4"
   ]
  },
  {
   "cell_type": "code",
   "execution_count": 3,
   "metadata": {},
   "outputs": [],
   "source": [
    "# HELPER FUNCTION\n",
    "\n",
    "def get_faces(path=\"./faces94\"):\n",
    "    \"\"\"Traverse the specified directory to obtain one image per subdirectory.\n",
    "    Flatten and convert each image to grayscale.\n",
    "\n",
    "    Parameters:\n",
    "        path (str): The directory containing the dataset of images.\n",
    "\n",
    "    Returns:\n",
    "        ((mn,k) ndarray) An array containing one column vector per\n",
    "            subdirectory. k is the number of people, and each original\n",
    "            image is mxn.\n",
    "    \"\"\"\n",
    "    # Traverse the directory and get one image per subdirectory.\n",
    "    faces = []\n",
    "    for (dirpath, dirnames, filenames) in os.walk(path):\n",
    "        for fname in filenames:\n",
    "            if fname[-3:] == \"jpg\":       # Only get jpg images.\n",
    "                # Load the image, convert it to grayscale,\n",
    "                # and flatten it into a vector.\n",
    "                faces.append(np.ravel(imread(dirpath+\"/\"+fname, mode='F')))\n",
    "                break\n",
    "    # Put all the face vectors column-wise into a matrix.\n",
    "    return np.transpose(faces)\n",
    "\n",
    "def show(image, m=200, n=180, plt_show=False):\n",
    "    \"\"\"Plot the flattened grayscale 'image' of width 'w' and height 'h'.\n",
    "\n",
    "    Parameters:\n",
    "        image ((mn,) ndarray): A flattened image.\n",
    "        m (int): The original number of rows in the image.\n",
    "        n (int): The original number of columns in the image.\n",
    "        plt_show (bool): if True, call plt.show() at the end\n",
    "    \"\"\"\n",
    "    # Scale image\n",
    "    image = image / 255\n",
    "    # Reshape image\n",
    "    image = np.reshape(image, (m, n))\n",
    "    # Show image\n",
    "    plt.imshow(image, cmap=\"gray\")\n",
    "    \n",
    "    if plt_show:\n",
    "        plt.show()\n"
   ]
  },
  {
   "cell_type": "code",
   "execution_count": 4,
   "metadata": {},
   "outputs": [],
   "source": [
    "def prob4():\n",
    "    \"\"\"Gridsearch over rank, alpha and l1_ratio values to reconstruct \n",
    "    image using NMF. Plot all reconstructed images. Determine which set \n",
    "    of paramenters best reconstructs the face\n",
    "    \"\"\"\n",
    "    raise NotImplementedError(\"Problem 4 incomplete\")\n"
   ]
  },
  {
   "cell_type": "code",
   "execution_count": null,
   "metadata": {},
   "outputs": [],
   "source": [
    "# Implement prob 4 here\n",
    "prob4()"
   ]
  },
  {
   "attachments": {},
   "cell_type": "markdown",
   "metadata": {},
   "source": [
    "The parameters that reconstruct the face the best are:"
   ]
  },
  {
   "attachments": {},
   "cell_type": "markdown",
   "metadata": {},
   "source": [
    "## Problem 5"
   ]
  },
  {
   "cell_type": "code",
   "execution_count": null,
   "metadata": {},
   "outputs": [],
   "source": [
    "def prob5():\n",
    "    \"\"\"Find the 10 basis faces with the largest coefficients corresponding \n",
    "    to the the 2nd and 12th faces in the dataset. Plot these basis faces \n",
    "    along with the original image using subplots\n",
    "    \"\"\"\n",
    "    raise NotImplementedError(\"Problem 5 incomplete\")"
   ]
  },
  {
   "cell_type": "code",
   "execution_count": null,
   "metadata": {},
   "outputs": [],
   "source": [
    "# Implement prob 5 here\n",
    "prob5()"
   ]
  },
  {
   "attachments": {},
   "cell_type": "markdown",
   "metadata": {},
   "source": [
    "Write a sentence or two about the differences you notice in the features of the basis faces:\n"
   ]
  }
 ],
 "metadata": {
  "interpreter": {
   "hash": "916dbcbb3f70747c44a77c7bcd40155683ae19c65e1c03b4aa3499c5328201f1"
  },
  "kernelspec": {
   "display_name": "Python 3.8.10 64-bit",
   "name": "python3"
  },
  "language_info": {
   "codemirror_mode": {
    "name": "ipython",
    "version": 3
   },
   "file_extension": ".py",
   "mimetype": "text/x-python",
   "name": "python",
   "nbconvert_exporter": "python",
   "pygments_lexer": "ipython3",
   "version": "3.10.13"
  },
  "orig_nbformat": 4
 },
 "nbformat": 4,
 "nbformat_minor": 2
}
