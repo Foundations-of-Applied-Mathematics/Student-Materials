{
 "cells": [
  {
   "cell_type": "code",
   "execution_count": null,
   "metadata": {},
   "outputs": [],
   "source": [
    "import numpy as np\n",
    "import matplotlib.pyplot as plt"
   ]
  },
  {
   "cell_type": "code",
   "execution_count": null,
   "metadata": {},
   "outputs": [],
   "source": [
    "%matplotlib inline"
   ]
  },
  {
   "cell_type": "markdown",
   "metadata": {},
   "source": [
    "## Problem 1\n",
    "Write a function which implements Euler's method. Test your function on the IVP:\n",
    "$$\\begin{align}\n",
    "\t\\begin{split}\n",
    "\t\tx' (t)&= x(t) - 2t + 4,\\quad 0 \\leq t \\leq 2, \\\\\n",
    "\t\tx(0) &= 0,\n",
    "\t\\end{split}\n",
    "\\end{align}$$\n",
    "\n",
    "where the analytic solution is $x(t) = -2+2t + 2e^t$.\n",
    "\n",
    "Use the Euler method to numerically approximate the solution with step sizes $h = 0.2, 0.1$, and $0.05.$  Plot the true solution alongside the three approximations."
   ]
  },
  {
   "cell_type": "code",
   "execution_count": null,
   "metadata": {},
   "outputs": [],
   "source": [
    "def euler(f,x0,t):\n",
    "    \"\"\"Numerically approximates the solution to the IVP:\n",
    "    \n",
    "    x'(t) = f(x(t),t)\n",
    "    x(t0) = x0\n",
    "    \n",
    "    using the Euler method.\n",
    "    Parameters:\n",
    "        f (function): The right-hand side of the ODE\n",
    "        x0 ((m,) ndarray): The initial condition\n",
    "        t ((n,) ndarray): The array of time values\n",
    "    Returns:\n",
    "        ((n,m) ndarray): The approximate solution, where x[i] ≈ x(t_i)\n",
    "    \"\"\"\n",
    "    raise NotImplementedError(\"Problem 1 Incomplete\")"
   ]
  },
  {
   "cell_type": "code",
   "execution_count": null,
   "metadata": {},
   "outputs": [],
   "source": []
  },
  {
   "cell_type": "markdown",
   "metadata": {},
   "source": [
    "## Problem 2\n",
    "\n",
    "Write functions that implement the midpoint and fourth-order Runge-Kutta methods. Then, consider again the IVP from Problem 1. Use the Euler, Midpoint, and RK4 methods to approximate the value of the solution for step sizes of $h = 0.2,$ $ 0.1,$ $0.05 $, $0.025,$ and $0.0125.$ Plot the true solution alongside the approximation obtained from each method when $h=0.2$. Then, use `plt.loglog` to create a log-log plot of the relative error $|x(2)-x_n|/{|x(2)|}$ as a function of $h$ for each approximation."
   ]
  },
  {
   "cell_type": "code",
   "execution_count": null,
   "metadata": {},
   "outputs": [],
   "source": [
    "def midpoint(f,x0,t):\n",
    "    \"\"\"Numerically approximates the solution to the IVP:\n",
    "    \n",
    "    x'(t) = f(x(t),t)\n",
    "    x(t0) = x0\n",
    "    \n",
    "    using the midpoint method.\n",
    "    Parameters:\n",
    "        f (function): The right-hand side of the ODE\n",
    "        x0 ((m,) ndarray): The initial condition\n",
    "        t ((n,) ndarray): The array of time values\n",
    "    Returns:\n",
    "        ((n,m) ndarray): The approximate solution, where x[i] ≈ x(t_i)\n",
    "    \"\"\"\n",
    "    raise NotImplementedError(\"Problem 2 Incomplete\")\n",
    "\n",
    "def rk4(f,x0,t):\n",
    "    \"\"\"Numerically approximates the solution to the IVP:\n",
    "    \n",
    "    x'(t) = f(x(t),t)\n",
    "    x(t0) = x0\n",
    "    \n",
    "    using a fourth-order Runge-Kutta method.\n",
    "    Parameters:\n",
    "        f (function): The right-hand side of the ODE\n",
    "        x0 ((m,) ndarray): The initial condition\n",
    "        t ((n,) ndarray): The array of time values\n",
    "    Returns:\n",
    "        ((n,m) ndarray): The approximate solution, where x[i] ≈ x(t_i)\n",
    "    \"\"\"\n",
    "    raise NotImplementedError(\"Problem 2 Incomplete\")"
   ]
  },
  {
   "cell_type": "code",
   "execution_count": null,
   "metadata": {},
   "outputs": [],
   "source": []
  },
  {
   "cell_type": "code",
   "execution_count": null,
   "metadata": {},
   "outputs": [],
   "source": []
  },
  {
   "cell_type": "markdown",
   "metadata": {},
   "source": [
    "## Problem 3\n",
    "\n",
    "Use the RK4 method to solve for the simple harmonic oscillator satisfying:\n",
    "$$\\begin{align}\n",
    "\t\\begin{split}\n",
    "&{}my'' + ky = 0,\\quad 0 \\leq t \\leq 20, \\\\\n",
    "&{}y(0) = 2, \\quad\n",
    "y'(0) = -1,\n",
    "\t\\end{split}\n",
    "\\end{align}$$"
   ]
  },
  {
   "cell_type": "code",
   "execution_count": null,
   "metadata": {},
   "outputs": [],
   "source": []
  },
  {
   "cell_type": "markdown",
   "metadata": {},
   "source": [
    "## Problem 4\n",
    "\n",
    "Use the RK4 method to solve for the damped free harmonic oscillator satisfying \n",
    "$$\\begin{align*}\n",
    "&{}y'' +\\gamma y'+ y = 0, \\quad 0 \\leq t \\leq 20,\\\\\n",
    "&{}y(0) = 1, \\quad\n",
    "y'(0) = -1.\n",
    "\\end{align*}$$\n",
    "For $\\gamma = 1/2,$ and $\\gamma = 1$, simultaneously plot your numerical approximations of $y$."
   ]
  },
  {
   "cell_type": "code",
   "execution_count": null,
   "metadata": {},
   "outputs": [],
   "source": []
  },
  {
   "cell_type": "markdown",
   "metadata": {},
   "source": [
    "## Problem 5\n",
    "\n",
    "Use the RK4 method to solve for the damped and forced harmonic oscillator satisfying \n",
    "\\begin{align}\n",
    "\t\\begin{split}\n",
    "&{}2y'' + \\gamma y' + 2y = 2 \\cos (\\omega t), \\quad 0 \\leq t \\leq 40,\\\\\n",
    "&{}y(0) = 2, \\quad\n",
    "y'(0) = -1. \n",
    "\t\\end{split}\n",
    "\t\\label{ivp:damped_forced_oscillator}\n",
    "\\end{align}\n",
    "For the following values of $\\gamma$ and $\\omega,$ plot your numerical approximations of $y(t)$: $(\\gamma, \\omega) = (0.5, 1.5),$ $(0.1, 1.1),$ and $(0, 1)$."
   ]
  },
  {
   "cell_type": "code",
   "execution_count": null,
   "metadata": {},
   "outputs": [],
   "source": []
  }
 ],
 "metadata": {
  "kernelspec": {
   "display_name": "Python 3",
   "language": "python",
   "name": "python3"
  },
  "language_info": {
   "codemirror_mode": {
    "name": "ipython",
    "version": 3
   },
   "file_extension": ".py",
   "mimetype": "text/x-python",
   "name": "python",
   "nbconvert_exporter": "python",
   "pygments_lexer": "ipython3",
   "version": "3.8.3"
  }
 },
 "nbformat": 4,
 "nbformat_minor": 2
}
