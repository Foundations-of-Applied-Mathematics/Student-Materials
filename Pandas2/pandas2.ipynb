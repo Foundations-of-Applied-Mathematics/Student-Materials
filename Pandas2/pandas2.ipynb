{
 "cells": [
  {
   "cell_type": "markdown",
   "metadata": {
    "colab_type": "text",
    "id": "-2R2EklVnwxF"
   },
   "source": [
    "# Pandas 2\n",
    "\n",
    "## Name\n",
    "\n",
    "## Class\n",
    "\n",
    "## Date"
   ]
  },
  {
   "cell_type": "code",
   "execution_count": null,
   "metadata": {
    "colab": {},
    "colab_type": "code",
    "id": "B4EqVNKaPFma"
   },
   "outputs": [],
   "source": [
    "import numpy as np\n",
    "import pandas as pd\n",
    "import matplotlib.pyplot as plt"
   ]
  },
  {
   "cell_type": "markdown",
   "metadata": {},
   "source": [
    "# Problem 1"
   ]
  },
  {
   "cell_type": "code",
   "execution_count": null,
   "metadata": {
    "colab": {},
    "colab_type": "code",
    "id": "nmDeeo7kP9L8"
   },
   "outputs": [],
   "source": [
    "def prob1():\n",
    "    \"\"\"\n",
    "    Create 3 visualizations of the crime data set.\n",
    "    One of the visualizations should be a histogram.\n",
    "    The visualizations should be clearly labelled and easy to understand.\n",
    "    \"\"\"\n",
    "    raise NotImplementedError(\"Problem 1 Incomplete\")"
   ]
  },
  {
   "cell_type": "code",
   "execution_count": null,
   "metadata": {},
   "outputs": [],
   "source": [
    "prob1()"
   ]
  },
  {
   "cell_type": "markdown",
   "metadata": {
    "colab_type": "text",
    "id": "uyGF9cEjsyFi"
   },
   "source": [
    "# Problem 2"
   ]
  },
  {
   "cell_type": "code",
   "execution_count": null,
   "metadata": {
    "colab": {},
    "colab_type": "code",
    "id": "DJD2o3UxQbYQ"
   },
   "outputs": [],
   "source": [
    " def prob2():\n",
    "    \"\"\"\n",
    "    Use a visualization for each of the following to identify if trends exists \n",
    "    between Forcible Rape and\n",
    "        1. Violent\n",
    "        2. Burglary\n",
    "        3. Aggravated Assault\n",
    "    Plot each visualization.\n",
    "    Return a tuple of booleans. Each entry should identify whether that \n",
    "    element correlates or not.\n",
    "    \"\"\"\n",
    "    raise NotImplementedError(\"Problem 2 Incomplete\")"
   ]
  },
  {
   "cell_type": "code",
   "execution_count": null,
   "metadata": {},
   "outputs": [],
   "source": [
    "prob2()"
   ]
  },
  {
   "cell_type": "markdown",
   "metadata": {
    "colab_type": "text",
    "id": "UUuNrP5UszZ6"
   },
   "source": [
    "# Problem 3"
   ]
  },
  {
   "cell_type": "code",
   "execution_count": null,
   "metadata": {
    "colab": {},
    "colab_type": "code",
    "id": "lWPH4Ay2Ux3f"
   },
   "outputs": [],
   "source": [
    "def prob3():\n",
    "    \"\"\"\n",
    "    Use crime_data.csv to display the following distributions.\n",
    "        1. The distributions of Burglary, Violent, and Vehicle Theft\n",
    "        2. The distributions of Vehicle Theft against the values of Robbery\n",
    "    \"\"\"\n",
    "    raise NotImplementedError(\"Problem 3 Incomplete\")"
   ]
  },
  {
   "cell_type": "code",
   "execution_count": null,
   "metadata": {},
   "outputs": [],
   "source": [
    "prob3()"
   ]
  },
  {
   "cell_type": "markdown",
   "metadata": {
    "colab_type": "text",
    "id": "mhJbAS1ts0q5"
   },
   "source": [
    "# Problem 4"
   ]
  },
  {
   "cell_type": "code",
   "execution_count": null,
   "metadata": {
    "colab": {},
    "colab_type": "code",
    "id": "OVF_p0fyZkXy"
   },
   "outputs": [],
   "source": [
    "def prob4():\n",
    "    \"\"\"\n",
    "    Create 3 plots that compare variables or universities.\n",
    "    These plots should answer questions about the data, \n",
    "    e.g. what is the distribution of graduation rates or do schools \n",
    "    with lower student to faculty ratios have higher tuition costs.\n",
    "    \n",
    "    These plots should be easy to understand, \n",
    "    have clear variable names, and citations.\n",
    "    \"\"\"\n",
    "    raise NotImplementedError(\"Problem 4 Incomplete\")"
   ]
  },
  {
   "cell_type": "code",
   "execution_count": null,
   "metadata": {},
   "outputs": [],
   "source": [
    "prob4()"
   ]
  }
 ],
 "metadata": {
  "colab": {
   "name": "pandas2.ipynb",
   "provenance": [],
   "version": "0.3.2"
  },
  "kernelspec": {
   "display_name": "Python 3",
   "language": "python",
   "name": "python3"
  },
  "language_info": {
   "codemirror_mode": {
    "name": "ipython",
    "version": 3
   },
   "file_extension": ".py",
   "mimetype": "text/x-python",
   "name": "python",
   "nbconvert_exporter": "python",
   "pygments_lexer": "ipython3",
   "version": "3.7.9"
  }
 },
 "nbformat": 4,
 "nbformat_minor": 1
}
