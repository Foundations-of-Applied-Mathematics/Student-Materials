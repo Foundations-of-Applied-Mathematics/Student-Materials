{
 "cells": [
  {
   "cell_type": "markdown",
   "metadata": {
    "colab_type": "text",
    "id": "tGl44nusP9Cy"
   },
   "source": [
    "# Data Science Essentials: GeoPandas\n",
    "    <Name>\n",
    "    <Class>\n",
    "    <Date>"
   ]
  },
  {
   "cell_type": "code",
   "execution_count": null,
   "metadata": {},
   "outputs": [],
   "source": [
    "# Run this cell if using Google Colab\n",
    "! pip install geopandas\n",
    "from google.colab import files"
   ]
  },
  {
   "cell_type": "code",
   "execution_count": null,
   "metadata": {},
   "outputs": [],
   "source": [
    "import geopandas as gpd\n",
    "from matplotlib import pyplot as plt\n",
    "import numpy as np\n",
    "import pandas as pd\n",
    "from shapely.geometry import Point, Polygon\n",
    "from matplotlib.colors import LogNorm\n",
    "from matplotlib.cm import ScalarMappable\n",
    "import matplotlib.animation as animation\n",
    "from IPython.display import HTML"
   ]
  },
  {
   "cell_type": "markdown",
   "metadata": {
    "colab_type": "text",
    "id": "civIOQkeyMI2"
   },
   "source": [
    "## Problem 1\n",
    "\n",
    "Read in the file *airports.csv* as a pandas DataFrame.\n",
    "Create three convex hulls around the three sets of airports listed below.\n",
    "This can be done by passing in lists of the airports' coordinates (Longitude and Latitude zipped together) to a *shapely.geometry.Polygon* object.\n",
    "\n",
    "Then, create a new GeoDataFrame using a dictionary with key *'geometry'* and with a list of these three Polygons as the value.\n",
    "Plot this GeoDataFrame, and then plot the outlined world map on top of it.\n",
    "\n",
    "1. Maio Airport, Scatsta Airport, Stokmarknes Skagen Airport, Bekily Airport, K. D. Matanzima Airport, RAF Ascension Island\n",
    "2. Oiapoque Airport, Maio Airport, Zhezkazgan Airport, Walton Airport, RAF Ascension Island, Usiminas Airport, Piloto Osvaldo Marques Dias Airport\n",
    "3. Zhezkazgan Airport, Khanty Mansiysk Airport, Novy Urengoy Airport, Kalay Airport, Biju Patnaik Airport, Walton Airport"
   ]
  },
  {
   "cell_type": "code",
   "execution_count": null,
   "metadata": {
    "colab": {},
    "colab_type": "code",
    "id": "34RGRyXmxoPQ"
   },
   "outputs": [],
   "source": [
    "first_set = ['Maio Airport', 'Scatsta Airport', 'Stokmarknes Skagen Airport',\n",
    "                 'Bekily Airport','K. D. Matanzima Airport', 'RAF Ascension Island']\n",
    "second_set = ['Oiapoque Airport','Maio Airport', 'Zhezkazgan Airport',\n",
    "                'Walton Airport','RAF Ascension Island','Usiminas Airport',\n",
    "                 'Piloto Osvaldo Marques Dias Airport']\n",
    "third_set = ['Zhezkazgan Airport','Khanty Mansiysk Airport','Novy Urengoy Airport',\n",
    "                 'Kalay Airport','Biju Patnaik Airport','Walton Airport']"
   ]
  },
  {
   "cell_type": "markdown",
   "metadata": {
    "colab_type": "text",
    "id": "7aa-B6ZjPwNb"
   },
   "source": [
    "## Problem 2\n",
    "\n",
    "Use the command *geopandas.read_file('county_data.gpkg')* to create a GeoDataFrame of information about US counties.\n",
    "Each county's shape is stored in the *geometry* column.\n",
    "Use this to **plot the boundaries of all US counties two times**, first using the default CRS and then using EPSG:5071.\n",
    "\n",
    "Next, create a new GeoDataFrame that combines (*dissolve*) all counties within each state (*by='STATEFP'*).\n",
    "Drop regions with the following STATEFP codes: 02, 15, 60, 66, 69, 72, 78.\n",
    "Plot the boundary of this GeoDataFrame to see an outline of the 48 contiguous states.\n",
    "Ensure a CRS of 5071."
   ]
  },
  {
   "cell_type": "code",
   "execution_count": null,
   "metadata": {
    "colab": {},
    "colab_type": "code",
    "id": "QrfBpqXqydm9"
   },
   "outputs": [],
   "source": []
  },
  {
   "cell_type": "markdown",
   "metadata": {
    "colab_type": "text",
    "id": "JlBqcl1EPyFA"
   },
   "source": [
    "## Problem 3\n",
    "\n",
    "Load in the file *nytimes.csv* as a Pandas DataFrame.\n",
    "This file includes county-level data for the cumulative cases and deaths of Covid-19 in the US, starting with the first case in Snohomish County, Washington, on January 21, 2020.\n",
    "\n",
    "Merge the county GeoDataFrame from *county_data.gpkg* with the *nytimes* DataFrame on the county *fips* codes (a FIPS code is a 5-digit unique identifier for geographic locations).\n",
    "Note that the *fips* column of the *nytimes* DataFrame stores entries as floats, but the county GeoDataFrame stores FIPS codes as strings, with the first two digits in the *STATEFP* column and the last three digits in the *COUNTYFP* column.\n",
    "Thus, you will need to add these two columns together and then convert them into floats so they can be merged with the *fips* column in the *nytimes* DataFrame.\n",
    "\n",
    "Drop the regions from the county GeoDataFrame with the same STATEFP codes as in Problem 2. Also, make sure to change the CRS of the county GeoDataFrame to EPSG:5071 *before* you merge the two DataFrames (this will make the code run much faster).\n",
    "\n",
    "**Plot the cases from March 21, 2020, and then plot your state outline map from Problem 2 on top of that (with a CRS of EPSG:5071). \n",
    "Include a colorbar using the arguments *legend=True* and *cmap='PuBu_r'* in the *plot* function.\n",
    "Finally, print out the name of the county with the most cases on March 21, 2020, along with its case count.**"
   ]
  },
  {
   "cell_type": "code",
   "execution_count": null,
   "metadata": {
    "colab": {},
    "colab_type": "code",
    "id": "K-uqSOSV13Z3"
   },
   "outputs": [],
   "source": []
  },
  {
   "cell_type": "markdown",
   "metadata": {
    "colab_type": "text",
    "id": "q03e2ANSPzlI"
   },
   "source": [
    "## Problem 4\n",
    "\n",
    "As in Problem 3, plot your state outline map from Problem 2 on top of a map of Covid-19 cases from March 21, 2020 (each with a CRS of EPSG:5071).\n",
    "This time, however, use a log scale.\n",
    "Pick a good colormap (the counties with the most cases should generally be darkest) and be sure to display a colorbar."
   ]
  },
  {
   "cell_type": "code",
   "execution_count": null,
   "metadata": {
    "colab": {},
    "colab_type": "code",
    "id": "NRyJ4klbZK1C"
   },
   "outputs": [],
   "source": []
  },
  {
   "cell_type": "markdown",
   "metadata": {
    "colab_type": "text",
    "id": "TwcaLc6xP1Hm"
   },
   "source": [
    "## Problem 5\n",
    "\n",
    "In this problem, you will create an animation of the spread of Covid-19 through US counties from January 21, 2020, through June 21, 2020.\n",
    "You will use the same GeoDataFrame you used in Problems 3 and 4 (with a CRS of EPSG:5071).\n",
    "Use a log scale and a good colormap, and be sure that you're using the same norm and colorbar for the whole animation.\n",
    "\n",
    "As a reminder, below is a summary of what you will need in order to animate this map.\n",
    "You may also find it helpful to refer to the animation section included with the Volume 4 lab manual. \n",
    "\n",
    "- Set up your figure and norm. Be sure to use the highest case count for your *vmax* so that the scale remains uniform.\n",
    "- Write your *update* function. This should plot the cases from a given day as well as the state boundaries.\n",
    "- Set up your colorbar. Do this outside the *update* function to avoid adding a new colorbar each day.\n",
    "- Create a *FuncAnimation* object. Check to make sure everything displays properly before you save it.\n",
    "- Save the animation to a file, and embed it into the notebook."
   ]
  },
  {
   "cell_type": "code",
   "execution_count": null,
   "metadata": {
    "colab": {},
    "colab_type": "code",
    "id": "l5ld8pKKZwwG"
   },
   "outputs": [],
   "source": [
    "plt.ioff()\n",
    "\n",
    "fig, ax = plt.subplots(1, figsize=(10,7))\n",
    "# Set up norm\n",
    "\n",
    "def update(date):\n",
    "    ax.clear()\n",
    "    # Plot the cases by county from the specified date\n",
    "    # Plot the state outlines\n",
    "    \n",
    "# Set up the colorbar\n",
    "\n",
    "# Create animation object\n",
    "ani = animation.FuncAnimation(fig, update, \n",
    "        frames=sorted(set(my_GeoDataFrame['date'])),\n",
    "        interval=1000*(1/30)) # Each frame is 1/30 of a second\n",
    "plt.close(fig)"
   ]
  },
  {
   "cell_type": "code",
   "execution_count": null,
   "metadata": {},
   "outputs": [],
   "source": [
    "animation.writer = animation.writers['ffmpeg']\n",
    "\n",
    "# Save / embed the animation\n",
    "\n",
    "# Run this line and the following Markdown cell\n",
    "# ani.save('covid_spread.mp4')\n",
    "# Don't forget to push the .mp4 file!"
   ]
  },
  {
   "cell_type": "markdown",
   "metadata": {},
   "source": [
    "<video src=\"covid_spread.mp4\" controls>"
   ]
  }
 ],
 "metadata": {
  "colab": {
   "name": "pandas4.ipynb",
   "provenance": [],
   "version": "0.3.2"
  },
  "kernelspec": {
   "display_name": "Python 3 (ipykernel)",
   "language": "python",
   "name": "python3"
  },
  "language_info": {
   "codemirror_mode": {
    "name": "ipython",
    "version": 3
   },
   "file_extension": ".py",
   "mimetype": "text/x-python",
   "name": "python",
   "nbconvert_exporter": "python",
   "pygments_lexer": "ipython3",
   "version": "3.7.4"
  }
 },
 "nbformat": 4,
 "nbformat_minor": 1
}
