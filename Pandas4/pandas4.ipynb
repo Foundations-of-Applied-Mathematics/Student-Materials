{
 "cells": [
  {
   "cell_type": "markdown",
   "metadata": {
    "colab_type": "text",
    "id": "tGl44nusP9Cy"
   },
   "source": [
    "# Data Science Essentials: GeoPandas\n",
    "    <Name>\n",
    "    <Class>\n",
    "    <Date>"
   ]
  },
  {
   "cell_type": "code",
   "execution_count": null,
   "metadata": {},
   "outputs": [],
   "source": [
    "import geopandas as gpd\n",
    "from matplotlib import pyplot as plt\n",
    "import numpy as np\n",
    "import pandas as pd\n",
    "from shapely.geometry import Point, Polygon\n",
    "from matplotlib.colors import LogNorm\n",
    "from matplotlib.cm import ScalarMappable\n",
    "from matplotlib import animation\n",
    "from IPython.display import HTML\n",
    "%matplotlib inline"
   ]
  },
  {
   "cell_type": "markdown",
   "metadata": {
    "colab_type": "text",
    "id": "civIOQkeyMI2"
   },
   "source": [
    "## Problem 1\n",
    "\n",
    "Read in the file *airports.csv* as a pandas dataframe.\n",
    "Create three convex hulls around the three sets of airports listed below.\n",
    "This can be done by passing in lists of the airports' coordinates to a *shapely.geometry.Polygon* object.\n",
    "\n",
    "1. Maio Airport, Scatsta Airport, Stokmarknes Skagen Airport, Bekily Airport, K. D. Matanzima Airport, RAF Ascension Island\n",
    "2. Oiapoque Airport, Maio Airport, Zhezkazgan Airport, Walton Airport, RAF Ascension Island, Usiminas Airport, Piloto Osvaldo Marques Dias Airport\n",
    "3. Zhezkazgan Airport, Khanty Mansiysk Airport, Novy Urengoy Airport, Kalay Airport, Biju Patnaik Airport, Walton Airport\n",
    "\t\n",
    "Create a new GeoDataFrame with these three Polygons as entries.\n",
    "Plot this GeoDataFrame on top of an outlined world map."
   ]
  },
  {
   "cell_type": "code",
   "execution_count": null,
   "metadata": {
    "colab": {},
    "colab_type": "code",
    "id": "34RGRyXmxoPQ"
   },
   "outputs": [],
   "source": [
    "first_set = ['Maio Airport', 'Scatsta Airport', 'Stokmarknes Skagen Airport',\n",
    "                 'Bekily Airport','K. D. Matanzima Airport', 'RAF Ascension Island']\n",
    "second_set = ['Oiapoque Airport','Maio Airport', 'Zhezkazgan Airport',\n",
    "                'Walton Airport','RAF Ascension Island','Usiminas Airport',\n",
    "                 'Piloto Osvaldo Marques Dias Airport']\n",
    "third_set = ['Zhezkazgan Airport','Khanty Mansiysk Airport','Novy Urengoy Airport',\n",
    "                 'Kalay Airport','Biju Patnaik Airport','Walton Airport']"
   ]
  },
  {
   "cell_type": "markdown",
   "metadata": {
    "colab_type": "text",
    "id": "7aa-B6ZjPwNb"
   },
   "source": [
    "## Problem 2\n",
    "Use the command *geopandas.read_file('county_data.gpkg')* to create a GeoDataFrame of information about US counties.\n",
    "Each county's shape is stored in the *geometry* column.\n",
    "Use this to **plot the outlines of all US counties two times**, first using the default CRS and then using EPSG:5071.\n",
    "\n",
    "Next, create a new GeoDataFrame that combines all counties within a single state.\n",
    "Drop states with the following STATEFP codes: 02, 15, 60, 66, 69, 72, 78.\n",
    "Plot this GeoDataFrame to see an outline of the 48 contiguous states.\n",
    "Ensure a CRS of 5071."
   ]
  },
  {
   "cell_type": "code",
   "execution_count": null,
   "metadata": {
    "colab": {},
    "colab_type": "code",
    "id": "QrfBpqXqydm9"
   },
   "outputs": [],
   "source": []
  },
  {
   "cell_type": "markdown",
   "metadata": {
    "colab_type": "text",
    "id": "JlBqcl1EPyFA"
   },
   "source": [
    "## Problem 3\n",
    "\n",
    "Load in the file *nytimes.csv* as a DataFrame.\n",
    "This file includes county-level data for the cumulative cases and deaths of Covid-19 in the US, starting with the first case in Snohomish County, Washington, on January 21, 2020.\n",
    "**First, convert the *date* column into a *DatetimeIndex*.**\n",
    "\n",
    "Next, use county FIPS codes to **merge your GeoDataFrame from the previous problem with the DataFrame you just created.**\n",
    "A FIPS code is a 5-digit unique identifier for geographic locations.\n",
    "For this lab, we will not use rows in the Covid-19 DataFrame with unknown FIPS codes.\n",
    "Also, we will just be examining data from the contiguous US, so **drop all data from Hawaii and Alaska and rows with unknown FIPS codes.**\n",
    "\n",
    "Note that the *fips* column of the Covid-19 DataFrame stores entries as floats, but the county GeoDataFrame stores FIPS codes as strings, with the first two digits in the *STATEFP* column and the last three in the *COUNTYFP* column.\n",
    "\n",
    "**Plot the cases from March 21, 2020 on top of your state outline map from the previous problem.\n",
    "Finally, print out the name of the county with the most cases on March 21, 2020 along with its case count.**"
   ]
  },
  {
   "cell_type": "code",
   "execution_count": null,
   "metadata": {
    "colab": {},
    "colab_type": "code",
    "id": "K-uqSOSV13Z3"
   },
   "outputs": [],
   "source": []
  },
  {
   "cell_type": "markdown",
   "metadata": {
    "colab_type": "text",
    "id": "q03e2ANSPzlI"
   },
   "source": [
    "## Problem 4\n",
    "\n",
    "As in Problem 3, plot your state outline map together with a map of Covid-19 cases from March 21, 2020.\n",
    "This time, use a log scale.\n",
    "Use EPSG:5071.\n",
    "Pick a good colormap and be sure to display a colorbar."
   ]
  },
  {
   "cell_type": "code",
   "execution_count": null,
   "metadata": {
    "colab": {},
    "colab_type": "code",
    "id": "NRyJ4klbZK1C"
   },
   "outputs": [],
   "source": []
  },
  {
   "cell_type": "markdown",
   "metadata": {
    "colab_type": "text",
    "id": "TwcaLc6xP1Hm"
   },
   "source": [
    "## Problem 5\n",
    "In this problem, you will create an animation of the spread of Covid-19 through US counties from January 21, 2020 to June 21, 2020.\n",
    "Use a log scale and a good colormap, and be sure that you're using the same norm and colorbar for the whole animation.\n",
    "Use EPSG:5071 for the CRS.\n",
    "\n",
    "As a reminder, below is a summary of what you will need in order to animate this map.\n",
    "You may also find it helpful to refer to the animation section included with the Volume 4 lab manual. \n",
    "\n",
    "- Set up your figure and norm. Be sure to use the highest case count for your vmax so that the scale remains uniform.\n",
    "- Write your update function. This should plot the cases from a given day.\n",
    "- Set up your colorbar. Do this outside the update function to avoid adding a new colorbar each day.\n",
    "- Create the animation and embed it."
   ]
  },
  {
   "cell_type": "code",
   "execution_count": null,
   "metadata": {
    "colab": {},
    "colab_type": "code",
    "id": "l5ld8pKKZwwG"
   },
   "outputs": [],
   "source": [
    "#Set up figure and norm\n",
    "\n",
    "def update(date):\n",
    "    #Plot the cases from a single day\n",
    "    pass\n",
    "    \n",
    "#Set up the colorbar\n",
    "\n",
    "#Create and embed the animation"
   ]
  }
 ],
 "metadata": {
  "colab": {
   "name": "pandas4.ipynb",
   "provenance": [],
   "version": "0.3.2"
  },
  "kernelspec": {
   "display_name": "Python 3",
   "language": "python",
   "name": "python3"
  },
  "language_info": {
   "codemirror_mode": {
    "name": "ipython",
    "version": 3
   },
   "file_extension": ".py",
   "mimetype": "text/x-python",
   "name": "python",
   "nbconvert_exporter": "python",
   "pygments_lexer": "ipython3",
   "version": "3.7.9"
  }
 },
 "nbformat": 4,
 "nbformat_minor": 1
}