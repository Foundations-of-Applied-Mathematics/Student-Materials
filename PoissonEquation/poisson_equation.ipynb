{
 "cells": [
  {
   "cell_type": "markdown",
   "metadata": {},
   "source": [
    "# Volume 4: Poisson's Equation\n",
    "    <Name>\n",
    "    <Class>\n",
    "    <Date>"
   ]
  },
  {
   "cell_type": "code",
   "execution_count": null,
   "metadata": {},
   "outputs": [],
   "source": [
    "import numpy as np\n",
    "import scipy.sparse as sp\n",
    "import scipy.sparse.linalg as spla\n",
    "from matplotlib import pyplot as plt, colors as mcolors\n",
    "from imageio.v3 import imread\n",
    "\n",
    "%matplotlib notebook"
   ]
  },
  {
   "cell_type": "markdown",
   "metadata": {},
   "source": [
    "# Problem 1\n",
    "\n",
    "Complete the function `poisson_square` by implementing the finite difference method given in the lab. Use `scipy.sparse.linalg.spsolve` to solve the linear system. Use your function to solve the boundary value problem:\n",
    "\n",
    "\\begin{align}\n",
    "\t\\Delta u = 0, &{}\\quad x \\in [0,1]\\times [0,1],\\\\\n",
    "\tu(x,y) = x^3, &{}\\quad (x,y) \\in \\partial ([0,1]\\times [0,1])\n",
    "\\end{align}\n",
    "\n",
    "Use $n=100$ subintervals for both $x$ and $y$. Plot the solution as a 3D surface."
   ]
  },
  {
   "cell_type": "code",
   "execution_count": null,
   "metadata": {},
   "outputs": [],
   "source": [
    "def poisson_square(a, b, c, d, f, g, n):\n",
    "    \"\"\"Computes the finite difference method for the Poisson equation boundary-value\n",
    "    problem on a square:\n",
    "        \n",
    "        u_xx + u_yy = f on R = [a,b]×[c,d]\n",
    "        u = g on ∂R\n",
    "    \n",
    "    where (b-a) = (d-c).\n",
    "        \n",
    "    Parameters:\n",
    "        a (float): left-hand boundary for x\n",
    "        b (float): right-hand boundary for x\n",
    "        c (float): lower boundary for y\n",
    "        d (float): uppder boundary for y\n",
    "        f (function): right-hand side of the PDE\n",
    "        g (function): boundary condition\n",
    "        n (int): number of subintervals\n",
    "    Returns:\n",
    "        U (ndarray of shape (n+1,n+1)): approximate solution\n",
    "    \"\"\"\n",
    "    pass"
   ]
  },
  {
   "cell_type": "code",
   "execution_count": null,
   "metadata": {},
   "outputs": [],
   "source": []
  },
  {
   "cell_type": "markdown",
   "metadata": {},
   "source": [
    "# Problem 2\n",
    "\n",
    "Solve \n",
    "\n",
    "\\begin{align}\n",
    "\t\\Delta V = -\\rho(x,y), &{}\\quad x \\in [-2,2]\\times [-2,2],\\\\\n",
    "\tu(x,y) = 0, &{}\\quad (x,y) \\in \\partial ([-2,2]\\times [-2,2]).\n",
    "\\end{align}\n",
    "\n",
    "for the electric potential $V.$ Use the source function defined above, such that $\\rho(x,y) = \\text{source}(x,y)$. Use $n=100$ subintervals for $x$ and $y$. Use the provided code to plot your solution."
   ]
  },
  {
   "cell_type": "code",
   "execution_count": null,
   "metadata": {},
   "outputs": [],
   "source": [
    "def source(X, Y):\n",
    "    \"\"\"\n",
    "    Takes arbitrary arrays of coordinates X and Y and returns an array of the same shape\n",
    "    representing the charge density of nested charged squares\n",
    "    \"\"\"\n",
    "    src = np.zeros(X.shape)\n",
    "\n",
    "    src[np.logical_or(np.logical_and(np.logical_or(abs(X - 1.5) < .1, abs(X + 1.5) < .1), abs(Y) < 1.6),\n",
    "        np.logical_and(np.logical_or(abs(Y - 1.5) < .1, abs(Y + 1.5) < .1), abs(X) < 1.6))] = 1\n",
    "    \n",
    "    src[np.logical_or(np.logical_and(np.logical_or(abs(X - 0.9) < .1, abs(X + 0.9) < .1), abs(Y) <  1),\n",
    "        np.logical_and(np.logical_or(abs(Y - 0.9) < .1, abs(Y + 0.9) < .1), abs(X) < 1))] = -1\n",
    "\n",
    "    return src\n",
    "    \n",
    "# Generate a color dictionary for use with LinearSegmentedColormap\n",
    "# that places red and blue at the min and max values of data\n",
    "# and white when data is zero.\n",
    "def genDict(data):\n",
    "    zero = 1 / (1 - np.max(data) / np.min(data))\n",
    "    cdict = {\n",
    "        'red':   [(0, 1, 1), (zero, 1, 1), (1, 0, 0)],\n",
    "        'green': [(0, 0, 0), (zero, 1, 1), (1, 0, 0)],\n",
    "        'blue':  [(0, 0, 0), (zero, 1, 1), (1, 1, 1)]\n",
    "    }\n",
    "    return cdict\n",
    "\n",
    "a1 = -2\n",
    "b1 = 2\n",
    "c1 = -2\n",
    "d1 = 2\n",
    "n = 100\n",
    "X = np.linspace(a1, b1, n)\n",
    "Y = np.linspace(c1, d1, n)\n",
    "X, Y = np.meshgrid(X, Y)\n",
    "\n",
    "plt.imshow(source(X, Y), cmap=mcolors.LinearSegmentedColormap('cmap', genDict(source(X, Y))))\n",
    "plt.colorbar(label=\"Relative Charge\")\n",
    "plt.show()"
   ]
  },
  {
   "cell_type": "markdown",
   "metadata": {
    "scrolled": false
   },
   "source": [
    "# Problem 3\n",
    "Using the data file dr_jarvis.jpg as the source image $v$ and mount_rushmore.jpg as the destination image $u_0$, put Dr. Jarvis' face on Mount Rushmore. Use the finite difference Laplacian operator to calculate $f$ from $v$ ."
   ]
  },
  {
   "cell_type": "code",
   "execution_count": null,
   "metadata": {},
   "outputs": [],
   "source": [
    "source_im = np.mean(imread('dr_jarvis.jpg'), axis=2).transpose() / 255\n",
    "dest_im = np.mean(imread('mount_rushmore.jpg'), axis=2).transpose() / 255\n",
    "\n",
    "# Width of space (number of pixels) to replace in destination image\n",
    "w = 130\n",
    "\n",
    "# Position in destination image\n",
    "x0 = 322\n",
    "y0 = 215\n",
    "\n",
    "# Position in source image\n",
    "x0s = 60 \n",
    "y0s = 84\n",
    "\n",
    "# Show original image\n",
    "plt.imshow(dest_im.transpose(), cmap='gray')\n",
    "plt.show()\n",
    "\n",
    "# Source image with a buffer of 1 pixel for the finite difference method.\n",
    "# The buffer will be excluded when inserting into the Mount Rushmore image.\n",
    "# The '*0.58' will make it look better when displayed.\n",
    "image = source_im[x0s-1: x0s+w+1, y0s-1: y0s+w+1] * 0.58\n",
    "\n",
    "# Calculate f(x, y)...\n",
    "\n",
    "# Calculate the solution U...\n",
    "\n",
    "# Paste Dr. Jarvis into the original image\n",
    "new_image = dest_im.copy()\n",
    "new_image[x0:x0+w, y0:y0+w] = U.reshape(w, w)\n",
    "\n",
    "plt.imshow(new_image.transpose(), cmap='gray')\n",
    "plt.show()"
   ]
  }
 ],
 "metadata": {
  "kernelspec": {
   "display_name": "Python 3 (ipykernel)",
   "language": "python",
   "name": "python3"
  },
  "language_info": {
   "codemirror_mode": {
    "name": "ipython",
    "version": 3
   },
   "file_extension": ".py",
   "mimetype": "text/x-python",
   "name": "python",
   "nbconvert_exporter": "python",
   "pygments_lexer": "ipython3",
   "version": "3.10.12"
  }
 },
 "nbformat": 4,
 "nbformat_minor": 2
}
