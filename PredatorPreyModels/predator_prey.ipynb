{
 "cells": [
  {
   "cell_type": "markdown",
   "metadata": {},
   "source": [
    "# Volume 4: Predator-Prey Models\n",
    "    <Name>\n",
    "    <Class>\n",
    "    <Date>"
   ]
  },
  {
   "cell_type": "code",
   "execution_count": null,
   "metadata": {},
   "outputs": [],
   "source": [
    "import numpy as np\n",
    "import matplotlib.pyplot as plt\n",
    "from scipy.integrate import solve_ivp"
   ]
  },
  {
   "cell_type": "markdown",
   "metadata": {},
   "source": [
    "# Problem 1\n",
    "\n",
    "The `solve_ivp` solver requires a callable function representing the right hand side of the IVP.\n",
    "\n",
    "Define the function `predator_prey()` that accepts the current $r(t)$ and $w(t)$ values as a 1d array $y$, the current time $t$, the parameters $\\alpha, \\beta, \\delta$, and $\\gamma$,\n",
    "and returns the right hand side of the ODE as a tuple."
   ]
  },
  {
   "cell_type": "code",
   "execution_count": null,
   "metadata": {},
   "outputs": [],
   "source": [
    "def predator_prey(t, y, alpha, beta, gamma, delta):\n",
    "    \"\"\"Compute right hand side of Predator-Prey model based on rabbit and\n",
    "    wolf populations at given time.\n",
    "    \n",
    "    Parameters:\n",
    "        y ((2, ) ndarray): A vector representing rabbit and wolf populations \n",
    "            at time t.\n",
    "        t (float): Current time.\n",
    "        \n",
    "    Returns:\n",
    "        (tuple): A tuple corresponding to right hand side of the Predator-\n",
    "            Prey model.\n",
    "    \"\"\"\n",
    "    pass"
   ]
  },
  {
   "cell_type": "markdown",
   "metadata": {},
   "source": [
    "# Problem 2\n",
    "\n",
    "Use solve_ivp to solve the predator-prey model ODE with initial conditions (r0 , w0 ) = (5, 3) and time ranging from 0 to 20 years. \n",
    "Use $\\alpha=1.0$, $\\beta=0.5$, $\\delta=0.75$, and $\\gamma=0.25$ as your growth parameters.\n",
    "Display the resulting rabbit and wolf populations over time (stored as columns in the output of solve_ivp) on the same plot."
   ]
  },
  {
   "cell_type": "code",
   "execution_count": null,
   "metadata": {},
   "outputs": [],
   "source": []
  },
  {
   "cell_type": "markdown",
   "metadata": {},
   "source": [
    "# Problem 3\n",
    "\n",
    "Similar to Problem 1, define a function `lotka_volterra()` that takes in the current time $t$, the current predator and prey populations as a 1d array $y$, and the growth parameter $\\eta$, and returns the right hand side of the nondimensional Lotka-Volterra system.\n",
    "\n",
    "Plot the phase portrait and several solutions of this ODE for $\\eta=1/3$.\n",
    "Using `solve_ivp`, solve the ODE with three different initial conditions $y_0 = (1/2, 1/3)$, $y_0=(1/2, 3/4)$, and $y_0=(1/16, 3/4)$ and time domain $t = [0,13]$. Plot these three solutions on the same graph as the phase portrait.\n",
    "Also plot the equilibria $(0,0)$ and $(1,1)$ as points.\n",
    "\n",
    "Since your solutions are being plotted with the phase portrait, plot the two populations against each other (instead of both individually against time). Compare your result with the example in the lab PDF."
   ]
  },
  {
   "cell_type": "code",
   "execution_count": null,
   "metadata": {
    "scrolled": true
   },
   "outputs": [],
   "source": [
    "def lotka_volterra(t, y, eta):\n",
    "    \"\"\"Compute right hand side of Lotka Volterra Predator-Prey model based \n",
    "    on rabbit and wolf populations at given time.\n",
    "    \n",
    "    Parameters:\n",
    "        y ((2, ) ndarray): A vector representing rabbit and wolf populations \n",
    "            at time t.\n",
    "        t (float): Current time.\n",
    "        eta (float): The model parameter.\n",
    "        \n",
    "    Returns:\n",
    "        (tuple): A tuple corresponding to right hand side of the Lotka \n",
    "            Volterra Predator-Prey model.\n",
    "    \"\"\"\n",
    "    pass"
   ]
  },
  {
   "cell_type": "code",
   "execution_count": null,
   "metadata": {},
   "outputs": [],
   "source": [
    "# Provided code for plotting phase portrait.\n",
    "Y1, Y2 = np.meshgrid(np.linspace(0,4.5,9), np.linspace(0,4.5,9))\n",
    "dU, dV = lotka_volterra(0, (Y1, Y2), eta)\n",
    "Q = plt.quiver(Y1,Y2,dU,dV)\n",
    "\n"
   ]
  },
  {
   "cell_type": "markdown",
   "metadata": {},
   "source": [
    "# Problem 4\n",
    "\n",
    "Define a new function `logistic_model()` that takes in the current time $t$, the current predator and prey populations $y$, the parameters $\\eta$ and $\\rho$, and returns the right hand side of the logistic model ODE as a tuple.\n",
    "\n",
    "Use `solve_ivp` to compute solutions $(U,V)$ of the ODE\n",
    "for initial conditions $(1/3, 1/3)$ and $(1/2, 1/5)$ with $(t_0,t_f)=(0,13)$.\n",
    "Do this for parameter values $\\eta=1$, $\\rho = 0.3$ and also for values $\\eta=1$, $\\rho = 1.1$.\n",
    "\n",
    "Create a phase portrait for the logistic equations for each set of parameter values.\n",
    "Plot the direction field, all equilibrium points, and both solution orbits on the same plot for each set of parameter values.\n",
    "\n",
    "Hint: there are three equilibrium points for each set of parameter values.\n",
    "However, you only need to plot the ones with nonnegative values of $U$ and $V$, as these are the only ones that correspond to physically-meaningful solutions."
   ]
  },
  {
   "cell_type": "code",
   "execution_count": null,
   "metadata": {},
   "outputs": [],
   "source": [
    "def logistic_model(t, y, eta, rho):\n",
    "    \"\"\"Compute right hand side of Logistic Predator-Prey model based on\n",
    "    rabbit and wolf populations at given time.\n",
    "    \n",
    "    Parameters:\n",
    "        y ((2, ) ndarray): A vector representing rabbit and wolf populations \n",
    "            at time t.\n",
    "        t (float): Current time.\n",
    "        eta, rho (floats): Parameters of the system.\n",
    "        \n",
    "    Returns:\n",
    "        (tuple): A tuple corresponding to right hand side of the Logistic \n",
    "            Predator-Prey model.\n",
    "    \"\"\"\n",
    "    pass"
   ]
  },
  {
   "cell_type": "code",
   "execution_count": null,
   "metadata": {},
   "outputs": [],
   "source": []
  },
  {
   "cell_type": "markdown",
   "metadata": {},
   "source": [
    "# Problem 5\n",
    "\n",
    "Define a new function `two_prey_species()` that takes in the current time $t$, the current prey and predator populations $y$, the parameters $\\alpha,\\beta,\\eta,\\xi$, and $\\rho$, and returns the right-hand-side of the two-prey-species model's ODE as a tuple.\n",
    "\n",
    "Use `solve_ivp` to compute solutions $(U,V,W)$ of this ODE using the initial condition $(1/3,1/3,1/3)$, $(1/2,1/3,1/5)$, and $(1,1/10,1/2)$, with $(t_0,t_f)=(0,25)$.\n",
    "Use parameter values $\\eta=1$, $\\rho=0.3$, $\\xi=0.5$, $\\alpha=0.2$, $\\beta=0.1$.\n",
    "Plot the numerical solutions for the populations as functions against time.\n",
    "\n",
    "Do the dynamics predicted by this model seem realistic?\n",
    "Write (in a markdown cell) your answer and reasoning behind it."
   ]
  },
  {
   "cell_type": "code",
   "execution_count": null,
   "metadata": {},
   "outputs": [],
   "source": [
    "def two_prey_species(t, y, alpha, beta, eta, xi, rho):\n",
    "    \"\"\"Compute right hand side of two-prey-species predator-prey model based on\n",
    "    rabbit, elk, and wolf populations at given time.\n",
    "    \n",
    "    Parameters:\n",
    "        y ((3,) ndarray): A vector representing rabbit, elk, and wolf populations \n",
    "            at time t.\n",
    "        t (float): Current time.\n",
    "        alpha, beta, eta, xi, rho (float): Parameters of the system.\n",
    "        \n",
    "    Returns:\n",
    "        (tuple): A tuple corresponding to right hand side of the model's ODE.\n",
    "    \"\"\"\n",
    "    pass"
   ]
  },
  {
   "cell_type": "code",
   "execution_count": null,
   "metadata": {},
   "outputs": [],
   "source": []
  },
  {
   "cell_type": "markdown",
   "metadata": {},
   "source": [
    "### Do the dynamics predicted by this model seem realistic?\n",
    "\n",
    "Write your answer here."
   ]
  }
 ],
 "metadata": {
  "kernelspec": {
   "display_name": "Python 3 (ipykernel)",
   "language": "python",
   "name": "python3"
  },
  "language_info": {
   "codemirror_mode": {
    "name": "ipython",
    "version": 3
   },
   "file_extension": ".py",
   "mimetype": "text/x-python",
   "name": "python",
   "nbconvert_exporter": "python",
   "pygments_lexer": "ipython3",
   "version": "3.9.12"
  }
 },
 "nbformat": 4,
 "nbformat_minor": 4
}
