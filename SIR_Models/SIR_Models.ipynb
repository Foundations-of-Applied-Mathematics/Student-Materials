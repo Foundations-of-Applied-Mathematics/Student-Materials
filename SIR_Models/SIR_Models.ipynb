{
 "cells": [
  {
   "cell_type": "markdown",
   "metadata": {},
   "source": [
    "# Volume 4: SIR Models\n",
    "    <Name>\n",
    "    <Class>\n",
    "    <Date>"
   ]
  },
  {
   "cell_type": "code",
   "execution_count": null,
   "metadata": {},
   "outputs": [],
   "source": [
    "import numpy as np\n",
    "import matplotlib.pyplot as plt\n",
    "from scipy.integrate import odeint, solve_ivp, solve_bvp\n",
    "from scipy.optimize import minimize"
   ]
  },
  {
   "attachments": {},
   "cell_type": "markdown",
   "metadata": {},
   "source": [
    "# Problem 1"
   ]
  },
  {
   "attachments": {},
   "cell_type": "markdown",
   "metadata": {},
   "source": [
    "Suppose that, in a city of approximately three million, five people have recently entered the city carrying a certain disease.\n",
    "Each infected individual has one contact each day that could spread the disease, and an average of three days is spent in the infectious state.\n",
    "\n",
    "Find the solution of the corresponding SIR equations using `solve_ivp` over a time period of fifty days, and plot your results.\n",
    "Compare your plot to the figure in the lab pdf.\n",
    "Use the percentages of each state, not the actual number of people in the state.\n",
    "\n",
    "At the peak of the infection, how many in the city will still be able to work (assume for simplicity that those who are in the infectious state either cannot go to work or are unproductive, etc.)?\n",
    "\n",
    "Hint: Use the `t_eval` argument of `solve_ivp` to specify the points in time that you want the solution's value at.\n",
    "This parameter accepts a linspace of time values.\n",
    "Specify enough points that your graph is smooth."
   ]
  },
  {
   "cell_type": "code",
   "execution_count": null,
   "metadata": {},
   "outputs": [],
   "source": [
    "def prob1():\n",
    "    '''\n",
    "    Using the SIR model, model the spread of a disease in a city\n",
    "    of 3 million people where there are initially 5 infected\n",
    "    people.\n",
    "\n",
    "    1. Plot the results\n",
    "    2. Find the number of people still able to work at peak infection\n",
    "    '''\n",
    "\n",
    "    raise NotImplementedError(\"Problem 1 Incomplete\")"
   ]
  },
  {
   "attachments": {},
   "cell_type": "markdown",
   "metadata": {},
   "source": [
    "# Problem 2"
   ]
  },
  {
   "attachments": {},
   "cell_type": "markdown",
   "metadata": {},
   "source": [
    "On March 11, 2020, New York City had 52 confirmed cases of COVID-19.\n",
    "On that day, New York started its lock-down measures.\n",
    "Using the following information, model what the spread of the virus could have been, using `solve_ivp()`, if New York did not implement any measures to curb the spread of the virus over the next 150 days:\n",
    "\n",
    "\n",
    " - There are approximately 8.399 million people in New York City.\n",
    " - The average case of COVID-19 lasts for 10 days.\n",
    " - Each infected person spreads the virus to 2.5 people on average over the whole time that they are sick.\n",
    "\n",
    "Plot your results for each day and compare to the figure in the lab pdf.\n",
    "Also answer the following questions:\n",
    " - At the projected peak, how many concurrent active cases are there?\n",
    " - Assuming that about 5% of COVID-19 cases require hospitalization, and using the fact that there are about 58,000 hospital beds in NYC, how many beds over capacity will the hospitals in NYC be at the projected peak?\n",
    "\n",
    "Hint: Recall that $\\beta$ is the average number of contacts an infected person makes per day that could spread the disease, and $\\gamma$ is the reciprocal of the average length of time spent in the infectious phase."
   ]
  },
  {
   "cell_type": "code",
   "execution_count": null,
   "metadata": {},
   "outputs": [],
   "source": [
    "def prob2():\n",
    "    '''\n",
    "    Implement the SIR model, plot a graph that models the\n",
    "    spread of COVID-19 in NYC, and answer these questions:\n",
    "      1. What is the number of concurrent cases at the projected peak?\n",
    "      2. How many hospital beds over capacity will NYC be at the projected peak?\n",
    "    Print your answers to the two questions questions.\n",
    "    '''\n",
    "    \n",
    "    raise NotImplementedError(\"Problem 2 Incomplete\")"
   ]
  },
  {
   "attachments": {},
   "cell_type": "markdown",
   "metadata": {},
   "source": [
    "# Problem 3"
   ]
  },
  {
   "attachments": {},
   "cell_type": "markdown",
   "metadata": {},
   "source": [
    "There are 7 billion people in the world.\n",
    "Influenza, or the flu, is one of those viruses that everyone can be susceptible to, even after recovering.\n",
    "The flu virus is able to change in order to evade our immune system, and we become susceptible once more, although technically it is now a different strain.\n",
    "\n",
    "Suppose the virus originates with 1000 people in Texas after Hurricane Harvey flooded Houston, and stagnant water allowed the virus to proliferate.\n",
    "Suppose the average person is contagious for 10 days before recovering.\n",
    "Also suppose that on average someone makes one contact every two days that could spread the flu.\n",
    "Since we can catch a new strain of the flu, suppose that a recovered individual becomes susceptible again with rate $f=1/50$.\n",
    "The flu is also known to be deadly, killing hundreds of thousands every year on top of the normal death rate.\n",
    "To assure a steady population, let the birth rate balance out the death rate, and let $\\mu=0.0001$.\n",
    "\n",
    "Using the SIRS model above, plot the proportion of population that is Susceptible, Infected, and Recovered over a one-year span (365 days).\n",
    "Compare your plot to the figure in the lab pdf."
   ]
  },
  {
   "cell_type": "code",
   "execution_count": null,
   "metadata": {},
   "outputs": [],
   "source": [
    "def prob3():\n",
    "    '''\n",
    "    Use the SIRS model to model the spread of flu over the course of a year,\n",
    "    and create a plot of your results.\n",
    "    '''\n",
    "    \n",
    "    raise NotImplementedError(\"Problem 3 Incomplete\")"
   ]
  },
  {
   "attachments": {},
   "cell_type": "markdown",
   "metadata": {},
   "source": [
    "# Problem 4"
   ]
  },
  {
   "attachments": {},
   "cell_type": "markdown",
   "metadata": {},
   "source": [
    "The file `new_york_cases.npy` contains daily case counts for COVID-19 beginning on March 11, 2020.\n",
    "These counts are the total number of people who have been sick at any time up to that point; that is, the sum of the number of people currently infected and the number of people who have recovered, corresponding to $I(t)+R(t)$.\n",
    "    \n",
    "Convert these counts to proportions of New York's population (recall that the total population is 8.399 million people).\n",
    "Fit the PGED model to the COVID-19 data by using `scipy.optimize.minimize` to find values of $\\alpha$ and $T_G$ that minimize the difference between the observed proportions and the model's prediction for $I(t)+R(t)$.\n",
    "Unlike the example above, in this problem our model is a system of ODEs rather than an explicit formula.\n",
    "So, to find `model_output` in the function you pass into `scipy.optimize.minimize`, you will need to use `solve_ivp` to solve the system of ODEs every time the function is called.\n",
    "    \n",
    "Plot the actual data alongside the values of $I(t)+R(t)$ predicted by your model.\n",
    "Print the values of $\\alpha$ and $T_G$ you found.\n",
    "\n",
    "Hint: Set $t_0=1$; the PEGD model requires to divide by $t$, so we must have $t\\ne0$.\n",
    "To pass the values of $\\alpha$ and $T_G$ into your ODE function, you can use the argument `args=(alpha, T_G)` inside `solve_ivp`.\n",
    "Use the `t_eval` argument to get the ODE solution values at the correct times."
   ]
  },
  {
   "cell_type": "code",
   "execution_count": null,
   "metadata": {},
   "outputs": [],
   "source": [
    "def prob4():\n",
    "    '''\n",
    "    Find the best parameters to fit the PEGD model\n",
    "    to the data provided in new_york_cases.npy\n",
    "\n",
    "    Plot the data against I(t)+R(t).\n",
    "    '''\n",
    "    \n",
    "    raise NotImplementedError(\"Problem 4 Incomplete\")"
   ]
  },
  {
   "attachments": {},
   "cell_type": "markdown",
   "metadata": {},
   "source": [
    "# Problem 5\n",
    "\n",
    "In this problem we will solve the BVP in the lab pdf modeling measles cases.\n",
    "\n",
    "Let the periodic function for our measles case be $\\beta(t) = \\beta_0(1 + \\beta_1 \\cos{2\\pi t})$.\n",
    "Use parameters $\\beta_1 = 1,$ $\\beta_0 = 1575,$ $\\eta = 0.01,$ $\\lambda = 0.0279,$ and $\\mu = 0.02.$\n",
    "With these parameter values, time is measured in years, so run the solution over the interval $[0, 1]$ to show a one-year cycle.\n",
    "The boundary conditions  are just saying that the year will begin and end in the same state.\n",
    "\n",
    "Create functions for the ODE and for the boundary conditions.\n",
    "Solve the BVP with the given parameters over a period of one year, and plot the values of $S$, $E$, and $I$.\n",
    "Compare your results with the figure in the lab pdf.\n",
    "\n",
    "Hint: Use the initial conditions from the figure as your initial guess. \n",
    "Remember that the initial infected proportion is small, not 0."
   ]
  },
  {
   "cell_type": "code",
   "execution_count": null,
   "metadata": {},
   "outputs": [],
   "source": [
    "def prob5():\n",
    "    '''\n",
    "    Use solve_bvp to model the measles boundary value problem.\n",
    "    '''\n",
    "    \n",
    "    raise NotImplementedError(\"Problem 5 Incomplete\")"
   ]
  }
 ],
 "metadata": {
  "kernelspec": {
   "display_name": "Python 3 (ipykernel)",
   "language": "python",
   "name": "python3"
  },
  "language_info": {
   "codemirror_mode": {
    "name": "ipython",
    "version": 3
   },
   "file_extension": ".py",
   "mimetype": "text/x-python",
   "name": "python",
   "nbconvert_exporter": "python",
   "pygments_lexer": "ipython3",
   "version": "3.9.12"
  }
 },
 "nbformat": 4,
 "nbformat_minor": 2
}
