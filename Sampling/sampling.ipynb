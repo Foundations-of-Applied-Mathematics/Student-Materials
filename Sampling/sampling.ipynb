{
 "cells": [
  {
   "cell_type": "code",
   "execution_count": 2,
   "metadata": {},
   "outputs": [],
   "source": [
    "import numpy as np\n",
    "import matplotlib.pyplot as plt\n",
    "from scipy.stats import bernoulli, binom, beta\n",
    "\n",
    "import pymc as pm\n",
    "import arviz as az"
   ]
  },
  {
   "attachments": {},
   "cell_type": "markdown",
   "metadata": {},
   "source": [
    "# Problem 1"
   ]
  },
  {
   "cell_type": "code",
   "execution_count": 3,
   "metadata": {},
   "outputs": [],
   "source": [
    "def bernoulli_sampling(p, n):\n",
    "    \"\"\"\n",
    "    Simulate n tosses of a coin which gives heads with probability \n",
    "    p. Then use that sample to calculate the posterior distribution on \n",
    "    p given a uniform prior.\n",
    "\n",
    "    Parameters:\n",
    "        p (float): probability of a successful bernoulli trial\n",
    "        n (int): number of bernoulli trials to simulate\n",
    "\n",
    "    Returns:\n",
    "        (float): The MAP estimate of p\n",
    "    \"\"\"\n",
    "    \n",
    "    raise NotImplementedError(\"Problem 1 not complete\")"
   ]
  },
  {
   "attachments": {},
   "cell_type": "markdown",
   "metadata": {},
   "source": [
    "# Problem 2"
   ]
  },
  {
   "cell_type": "code",
   "execution_count": 5,
   "metadata": {},
   "outputs": [],
   "source": [
    "def non_uniform_prior(p, n, prior):\n",
    "    \"\"\"\n",
    "    Generate a sample of size n that has a Bernoulli\n",
    "    distribution with a probability parameter p.\n",
    "    Use Bayes' theorem to compute the posterior distribution\n",
    "    for the given prior and the generated sample:\n",
    "    \n",
    "        P(t|x) = P(x|t) P(t) / P(x)\n",
    "    \n",
    "    Plot both prior and posterior distributions between [0, 1]\n",
    "\n",
    "    Parameters:\n",
    "        p (float): probability of a successful bernoulli trial\n",
    "        n (int): number of bernoulli trials to simulate\n",
    "        prior (scipy dist): the prior distribution on p\n",
    "\n",
    "    Returns:\n",
    "        (float): MAP estimate\n",
    "    \"\"\"\n",
    "    \n",
    "    raise NotImplementedError(\"Problem 2 not complete\")"
   ]
  },
  {
   "attachments": {},
   "cell_type": "markdown",
   "metadata": {},
   "source": [
    "# Problem 3"
   ]
  },
  {
   "cell_type": "code",
   "execution_count": 7,
   "metadata": {},
   "outputs": [],
   "source": [
    "def weather_forecast(transition_matrix, days=10):\n",
    "    \"\"\"\n",
    "    Given the above transition matrix and assuming the 0th day is sunny,\n",
    "    sample from the markov chain to give a possible forecast of the 10 following\n",
    "    days. Return a list of strings, not including the 0th day.\n",
    "    \"\"\"\n",
    "    \n",
    "    raise NotImplementedError(\"Problem 3 not complete\")"
   ]
  },
  {
   "cell_type": "code",
   "execution_count": null,
   "metadata": {},
   "outputs": [],
   "source": [
    "transition_matrix = np.array(\n",
    "  [\n",
    "    [0.6,0.1,0.3],\n",
    "    [0.2,0.6,0.2],\n",
    "    [0.3,0.4,0.3]\n",
    "  ]\n",
    ")"
   ]
  },
  {
   "attachments": {},
   "cell_type": "markdown",
   "metadata": {},
   "source": [
    "# Problem 4"
   ]
  },
  {
   "cell_type": "code",
   "execution_count": 23,
   "metadata": {},
   "outputs": [],
   "source": [
    "def posterior_sampling(data, n=1000):\n",
    "    \"\"\"\n",
    "    Given data that flips a coin 100 times, assume the data are distributed \n",
    "    as Bernoulli(p) for some unknown value of p, where p has a prior of \n",
    "    Beta(1,1). Set up a PyMC model for this situation and sample from the \n",
    "    poterior n times. Plot the trace plot and return the expected value of\n",
    "    the posterior.\n",
    "    \n",
    "    Parameters:\n",
    "        data (array): The coin flips\n",
    "        n (int): number of samples to take from the posterior\n",
    "        \n",
    "    Returns:\n",
    "        Mean (float): The average of the coin flips (expected value of p)\n",
    "    \"\"\"\n",
    "    \n",
    "    raise NotImplementedError(\"Problem 4 not complete\")\n"
   ]
  },
  {
   "cell_type": "code",
   "execution_count": null,
   "metadata": {},
   "outputs": [],
   "source": [
    "data = bernoulli.rvs(0.2, size=100)"
   ]
  },
  {
   "attachments": {},
   "cell_type": "markdown",
   "metadata": {},
   "source": [
    "# Problem 5"
   ]
  },
  {
   "cell_type": "code",
   "execution_count": 16,
   "metadata": {},
   "outputs": [],
   "source": [
    "def height_model(observed_heights,m=180,s=10,alpha=2,beta=10,n=1000):\n",
    "    \"\"\"\n",
    "    Given a dataset of the measured heights of 100 men, assume the data are\n",
    "    distributed as Normal(mu, 1/tau) where mu has a prior of Normal(m, s), \n",
    "    and tau has a prior of Gamma(alpha, beta). Set up a PyMC model for this \n",
    "    situation and sample from the posterior n times. Plot the trace plots for \n",
    "    mu and tau, and return the expected value of the posterior of mu.\n",
    "    \n",
    "    Parameters:\n",
    "        observed_heights (array): The measured heights of 100 men\n",
    "        m (int): the mean in the prior distribution of mu\n",
    "        s (int): the standard deviation in the prior distribution of mu\n",
    "        alpha (int): the first component in the prior distibution of tau\n",
    "        beta (int): the second component in the prior distribution of tau\n",
    "        n (int): number of samples from the posterior\n",
    "        \n",
    "    Returns:\n",
    "        mu_mean (float): the estimated value of mu\n",
    "    \"\"\"\n",
    "    \n",
    "    raise NotImplementedError(\"Problem 5 not complete\")"
   ]
  },
  {
   "cell_type": "code",
   "execution_count": null,
   "metadata": {},
   "outputs": [],
   "source": [
    "heights = np.random.normal(180,10,100)"
   ]
  }
 ],
 "metadata": {
  "interpreter": {
   "hash": "916dbcbb3f70747c44a77c7bcd40155683ae19c65e1c03b4aa3499c5328201f1"
  },
  "kernelspec": {
   "display_name": "Python 3 (ipykernel)",
   "language": "python",
   "name": "python3"
  },
  "language_info": {
   "codemirror_mode": {
    "name": "ipython",
    "version": 3
   },
   "file_extension": ".py",
   "mimetype": "text/x-python",
   "name": "python",
   "nbconvert_exporter": "python",
   "pygments_lexer": "ipython3",
   "version": "3.7.4"
  }
 },
 "nbformat": 4,
 "nbformat_minor": 5
}
