{
 "cells": [
  {
   "cell_type": "markdown",
   "metadata": {},
   "source": [
    "<h1 align=\"center\">Volume 4: Inverse Problems.</h1>\n",
    "\n",
    "    NAME\n",
    "    Section #\n",
    "    DATE"
   ]
  },
  {
   "cell_type": "code",
   "execution_count": null,
   "metadata": {},
   "outputs": [],
   "source": []
  },
  {
   "cell_type": "code",
   "execution_count": null,
   "metadata": {},
   "outputs": [],
   "source": [
    "def secant_method(h, s0, s1, max_iter=100, tol=1e-8):\n",
    "    \"\"\"\n",
    "    Finds a root of h(s)=0 using the secant method with the\n",
    "    initial guesses s0, s1.\n",
    "    \"\"\"\n",
    "    for i in range(max_iter):\n",
    "        # Get the residuals\n",
    "        h0 = h(s0)\n",
    "        h1 = h(s1)\n",
    "        # Update\n",
    "        s2 = s1 - h1 * (s1 - s0)/(h1 - h0)\n",
    "        s0, s1 = s1, s2\n",
    "        \n",
    "        # Check convergence\n",
    "        if abs(h1) < tol:\n",
    "            return s2\n",
    "    \n",
    "    print(\"Secant method did not converge\")\n",
    "    return s2"
   ]
  },
  {
   "cell_type": "markdown",
   "metadata": {},
   "source": [
    "# Problem 1\n",
    "\n",
    "Appropriately defined initial value problems will usually have a unique solution.\n",
    "Boundary value problems are not so straightforward; they may have no solution or they may have several, and you may have to determine which solutions are physically interesting.\n",
    "\n",
    "Use the secant method to solve the following BVP:\n",
    "\\begin{equation*}\n",
    "\\begin{split}\n",
    "y'' &= -e^{y-1}, \\quad x \\in [0,1],\\\\\n",
    "y(0) &=y(1) =1.\n",
    "\\end{split}\n",
    "\\end{equation*}\n",
    "This BVP has two solutions.\n",
    "Using the secant method, find both numerical solutions and their initial slopes.\n",
    "What initial values $s_0, s_1$ did you use to find them?"
   ]
  },
  {
   "cell_type": "code",
   "execution_count": null,
   "metadata": {},
   "outputs": [],
   "source": []
  },
  {
   "cell_type": "markdown",
   "metadata": {},
   "source": [
    "# Problem 2\n",
    "\n",
    "Use Newton's method to solve the BVP\n",
    "\\begin{align*}\n",
    "y'' &= 3 + \\frac{2y}{x^2}, \\,\\, x \\in [1,e],\\\\\n",
    "y(1) &= 6, \\\\\n",
    "y(e) &= e^2 + 6/e\n",
    "\\end{align*}\n",
    "Plot your solution."
   ]
  },
  {
   "cell_type": "code",
   "execution_count": null,
   "metadata": {},
   "outputs": [],
   "source": []
  },
  {
   "cell_type": "markdown",
   "metadata": {},
   "source": [
    "# Problem 3\n",
    "\n",
    "Suppose we have a cannon that fires a projectile at a velocity of $45\\text{ m/s}$, and the projectile has a mass of about $60$ kg, so that $\\mu = .0003$.\n",
    "At what angle $\\theta(0)$ should it be fired to land at a distance of $195\\text{ m}$?\n",
    "Use the secant method to find initial values for $\\theta$ that give solutions to the following BVP:\n",
    "\\begin{align}\n",
    "\t\\begin{split}\n",
    "\\frac{dy}{dx} &= \\tan {\\theta} ,\\\\\n",
    "\\frac{dv}{dx} &= -\\frac{g \\sin{\\theta} + \\mu v^2}{v \\cos{\\theta}},\\\\\n",
    "\\frac{d\\theta}{dx} &= -\\frac{g}{v^2},\\\\\n",
    "y(0)&= y(195) = 0,\\\\\n",
    "v(0) &= 45 \\text{ m/s}\n",
    "\t\\end{split}\n",
    "\\end{align}\n",
    "($g = 9.8067\\text{ m/s}^2$.)\n",
    "\n",
    "There are four initial angles $\\theta(0)$ that produce solutions for this BVP when $\\mu = 0.0003$.\n",
    "Find and plot at least two of them.\n",
    "Also find the two solutions when $\\mu = 0$ (no air resistance), and compare."
   ]
  },
  {
   "cell_type": "code",
   "execution_count": null,
   "metadata": {},
   "outputs": [],
   "source": []
  }
 ],
 "metadata": {
  "kernelspec": {
   "display_name": "Python 3",
   "language": "python",
   "name": "python3"
  },
  "language_info": {
   "codemirror_mode": {
    "name": "ipython",
    "version": 3
   },
   "file_extension": ".py",
   "mimetype": "text/x-python",
   "name": "python",
   "nbconvert_exporter": "python",
   "pygments_lexer": "ipython3",
   "version": "3.8.8"
  }
 },
 "nbformat": 4,
 "nbformat_minor": 4
}
