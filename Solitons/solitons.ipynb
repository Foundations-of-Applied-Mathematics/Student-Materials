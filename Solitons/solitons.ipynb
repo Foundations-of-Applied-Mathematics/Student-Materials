{
 "cells": [
  {
   "cell_type": "markdown",
   "id": "063e23e8",
   "metadata": {},
   "source": [
    "# Volume 4: Solitons"
   ]
  },
  {
   "cell_type": "code",
   "execution_count": null,
   "id": "8c2761ac",
   "metadata": {},
   "outputs": [],
   "source": [
    "import numpy as np\n",
    "from matplotlib import pyplot as plt\n",
    "from scipy.fft import fft, ifft"
   ]
  },
  {
   "cell_type": "code",
   "execution_count": null,
   "id": "33334a76",
   "metadata": {},
   "outputs": [],
   "source": [
    "%matplotlib notebook"
   ]
  },
  {
   "cell_type": "markdown",
   "id": "01d850c4",
   "metadata": {},
   "source": [
    "# Problem 1\n",
    "\n",
    "Write a function that accepts the time value $t$ (which won't be used here, but will be useful later) the vector $\\mathbf{y}=(y_0,y_1,\\ldots,y_n,y_{-n-1},\\ldots,y_{-1})$ and the vector of $k$ values and returns $\\mathbf{y}'$."
   ]
  },
  {
   "cell_type": "code",
   "execution_count": null,
   "id": "2eedab6f",
   "metadata": {},
   "outputs": [],
   "source": [
    "# Function for the ODE of the coefficients\n",
    "def kdv_pseudospectral_ode(t, y, k):\n",
    "    \"\"\"\n",
    "    Given the spectral coefficients y, calculates y'.\n",
    "    Parameters:\n",
    "        t (float): The current time\n",
    "        y ((2n+2,) array): The current spectral coefficients\n",
    "        k ((2n+2,) array): The vector of wavenumbers\n",
    "    \"\"\"\n",
    "    raise NotImplementedError(\"Problem 1 incomplete\")"
   ]
  },
  {
   "cell_type": "markdown",
   "id": "514c730e",
   "metadata": {},
   "source": [
    "# Problem 2\n",
    "\n",
    "Write a function that accepts an initial condition `u0`, a final time `T`, the timestep `dt`, an integer `n` for the number of coefficients to use, and another integer `skip`.\n",
    "Numerically solve for the coefficients $\\mathbf{y}(t)$ of a solution to the KdV equation.\n",
    "\n",
    "Next, convert the Fourier coefficients back into function values at the gridpoints using the inverse Fourier transform.\n",
    "However, only do this for every `skip`-th timestep; we will be using far more timesteps than we want to plot.\n",
    "Return the gridpoints, the timesteps, and the solution $u(x,t)$."
   ]
  },
  {
   "cell_type": "code",
   "execution_count": null,
   "id": "fb8fa3bc",
   "metadata": {},
   "outputs": [],
   "source": [
    "# Provided function for integration\n",
    "def RK4(f, y0, T, dt, k):\n",
    "    \"\"\"\n",
    "    Solves the ODE y'=f(t, y) using the Runge-Kutta 4 method with initial \n",
    "    condition y0 on the time interval [0,T] using a time step of dt.\n",
    "    The value of k is passed directly into the function f.\n",
    "    \n",
    "    Returns:\n",
    "        t ((n_t,) ndarray) - the time values\n",
    "        Y ((n_t, 2n+2) ndarray) - the solution values. The solution at the \n",
    "                i-th time step can be indexed as Y[i].\n",
    "    \"\"\"\n",
    "    # Set up matrices for the solution\n",
    "    ts = np.arange(0, T+dt, dt)\n",
    "    Y = np.empty((len(ts),len(k)), dtype=complex)\n",
    "    y = y0\n",
    "    Y[0] = y\n",
    "    for i in range(1, len(ts)):\n",
    "        # Use RK4\n",
    "        t = ts[i]\n",
    "        K1 = f(t, y, k)\n",
    "        K2 = f(t + dt/2, y + 0.5*dt*K1, k)\n",
    "        K3 = f(t + dt/2, y + 0.5*dt*K2, k)\n",
    "        K4 = f(t + dt, y + dt*K3, k)\n",
    "        y = y + (dt / 6.) * (K1 + 2*K2 + 2*K3 + K4)\n",
    "        Y[i] = y\n",
    "    return ts, Y"
   ]
  },
  {
   "cell_type": "code",
   "execution_count": null,
   "id": "2cbc16e4",
   "metadata": {},
   "outputs": [],
   "source": [
    "def solve_kdv(u0, T, dt, n, skip):\n",
    "    \"\"\"\n",
    "    Solve the KdV equation for x in [-pi, pi] and t in [0,T] with the given initial condition.\n",
    "    \n",
    "    Parameters:\n",
    "        u0 - the initial conditions\n",
    "        T (float) - the final time to solve until\n",
    "        dt - the time step\n",
    "        n - the number of points in space to use\n",
    "        skip - only return every skip-th time step\n",
    "    \n",
    "    Returns:\n",
    "        t ((n_t,) ndarray)\n",
    "        x ((2n+2,) ndarray)\n",
    "        u ((n_t, 2n+2) ndarray)\n",
    "    \"\"\"\n",
    "    raise NotImplementedError(\"Problem 2 incomplete\")\n",
    "    "
   ]
  },
  {
   "cell_type": "markdown",
   "id": "a17e240c",
   "metadata": {},
   "source": [
    "# Problem 3\n",
    "\n",
    "\n",
    "Numerically solve the KdV equation on $[−π, π]$ with $n=127$ with initial\n",
    "conditions\n",
    "$$\n",
    "u(x, t = 0) = 3s\\,\\mathrm{sech}^2\n",
    "\\left(\\frac{\\sqrt{s}}{2}(x + a)\\right),\n",
    "$$\n",
    "where $s = 25^2$, $a = 2$. Solve on the time domain $[0, 0.0075]$. \n",
    "Plot the solution.\n",
    "How small of a timestep did you need to use for the numerical integration to be stable?"
   ]
  },
  {
   "cell_type": "code",
   "execution_count": null,
   "id": "b59bef9f",
   "metadata": {},
   "outputs": [],
   "source": []
  },
  {
   "cell_type": "markdown",
   "id": "df3fc9ef",
   "metadata": {},
   "source": [
    "# Problem 4\n",
    "\n",
    "Numerically solve the KdV equation on $[−π, π]$. This time we define the initial\n",
    "condition to be the superposition of two solitons,\n",
    "$$\n",
    "u(x,t=0) \n",
    "= 3s_1\\mathrm{sech}^2\\left(\\frac{\\sqrt{s_1}}{2}(x+a_1)\\right) \n",
    "+ 3s_2\\mathrm{sech}^2\\left(\\frac{\\sqrt{s_2}}{2}(x+a_2)\\right),\n",
    "$$\n",
    "\n",
    "where $s_1 = 25^2$, $a_1 = 2$, and $s_2 = 16^2$, $a_2 = 1$.\n",
    "Solve on the time domain $[0, 0.0075]$. \n",
    "Plot the solution."
   ]
  },
  {
   "cell_type": "code",
   "execution_count": null,
   "id": "a7795ceb",
   "metadata": {},
   "outputs": [],
   "source": []
  },
  {
   "cell_type": "markdown",
   "id": "90e1b794",
   "metadata": {},
   "source": [
    "# Problem 5\n",
    "\n",
    "Consider again the ODE for the spectral coefficients.\n",
    "The linear term in this equation is $i\\mathbf{k}^3\\mathbf{y}$.\n",
    "This term contributes much of the exponential growth in the ODE, and contributes to how short the time step must be to ensure numerical stability.\n",
    "Make the substitution $z_k(t) = e^{-ik^3t}y_k(t)$ and find a similar ODE for $\\mathbf{z}$.\n",
    "This essentially allows the exponential growth to be scaled out (it's solved for analytically, replacing it with rotation in the complex plane).\n",
    "\n",
    "Use the resulting equation to solve the previous problem.\n",
    "How much larger of a timestep can you use while this method remains stable?"
   ]
  },
  {
   "cell_type": "code",
   "execution_count": null,
   "id": "c89a39dc",
   "metadata": {},
   "outputs": [],
   "source": []
  }
 ],
 "metadata": {
  "kernelspec": {
   "display_name": "Python 3 (ipykernel)",
   "language": "python",
   "name": "python3"
  },
  "language_info": {
   "codemirror_mode": {
    "name": "ipython",
    "version": 3
   },
   "file_extension": ".py",
   "mimetype": "text/x-python",
   "name": "python",
   "nbconvert_exporter": "python",
   "pygments_lexer": "ipython3",
   "version": "3.9.12"
  }
 },
 "nbformat": 4,
 "nbformat_minor": 5
}
