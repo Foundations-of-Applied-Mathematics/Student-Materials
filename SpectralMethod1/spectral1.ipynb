{
 "cells": [
  {
   "cell_type": "markdown",
   "metadata": {},
   "source": [
    "# Volume 4: Spectral 1\n",
    "    <Name>\n",
    "    <Class>\n",
    "    <Date>"
   ]
  },
  {
   "cell_type": "code",
   "execution_count": null,
   "metadata": {},
   "outputs": [],
   "source": [
    "import numpy as np\n",
    "from matplotlib import pyplot as plt\n",
    "from scipy.interpolate import barycentric_interpolate\n",
    "from numpy import linalg as la\n",
    "from scipy.optimize import root\n",
    "\n",
    "%matplotlib inline"
   ]
  },
  {
   "cell_type": "markdown",
   "metadata": {},
   "source": [
    "# Setup"
   ]
  },
  {
   "cell_type": "code",
   "execution_count": null,
   "metadata": {},
   "outputs": [],
   "source": [
    "def cheb(N):\n",
    "    x = np.cos((np.pi/N)*np.linspace(0, N, N+1))\n",
    "    x.shape = (N+1, 1)\n",
    "    lin = np.linspace(0, N, N+1)\n",
    "    lin.shape = (N+1, 1)\n",
    "    \n",
    "    c = np.ones((N+1, 1))\n",
    "    c[0], c[-1] = 2., 2.\n",
    "    c = c*(-1.)**lin\n",
    "    X = x*np.ones(N+1) # Broadcast along 2nd dimension (columns)\n",
    "    \n",
    "    dX = X - X.T\n",
    "    \n",
    "    D = (c*(1./c).T)/(dX + np.eye(N+1))\n",
    "    D = D - np.diag(np.sum(D.T, axis=0))\n",
    "    x.shape = (N+1,)\n",
    "    # Here we return the differentiation matrix and the Chebyshev points,\n",
    "    # numbered from x_0 = 1 to x_N = -1\n",
    "    return D[::-1, ::-1], x[::-1]"
   ]
  },
  {
   "cell_type": "markdown",
   "metadata": {},
   "source": [
    "# Problem 1\n",
    "\n",
    "Use the differentiation matrix to numerically approximate the derivative of u(x)) on a grid of N Chebychev points where N = 6, 8, and 10.\n",
    "Then use barycentric interpolation (scipy.interpolate.barycentric_interpolate) to\n",
    "approximate u0 on a grid of 100 evenly spaced points.\n",
    "Graphically compare your approximation to the exact derivative"
   ]
  },
  {
   "cell_type": "code",
   "execution_count": null,
   "metadata": {},
   "outputs": [],
   "source": []
  },
  {
   "cell_type": "markdown",
   "metadata": {},
   "source": [
    "# Problem 2\n",
    "\n",
    "Use the pseudospectral method to solve the boundary value problem.\n",
    "Use N = 8 in the cheb(N) method and use barycentric interpolation to approximate u on\n",
    "100 evenly spaced points. Compare your numerical solution with the exact solution."
   ]
  },
  {
   "cell_type": "code",
   "execution_count": null,
   "metadata": {},
   "outputs": [],
   "source": []
  },
  {
   "cell_type": "markdown",
   "metadata": {},
   "source": [
    "# Problem 3\n",
    "\n",
    "Use the pseudospectral method to solve the boundary value problem.\n",
    "Use N = 8 in the cheb(N) method and use barycentric interpolation to approximate u on\n",
    "100 evenly spaced points."
   ]
  },
  {
   "cell_type": "code",
   "execution_count": null,
   "metadata": {},
   "outputs": [],
   "source": []
  },
  {
   "cell_type": "markdown",
   "metadata": {},
   "source": [
    "# Problem 4\n",
    "\n",
    "Use the pseudospectral method to solve the boundary value problem\n",
    "for several values of λ: λ = 4, 8, 12. Begin by transforming this BVP onto the domain −1 <\n",
    "x < 1. Use N = 20 in the cheb(N) method and use barycentric interpolation to approximate\n",
    "u on 100 evenly spaced points"
   ]
  },
  {
   "cell_type": "code",
   "execution_count": null,
   "metadata": {},
   "outputs": [],
   "source": []
  },
  {
   "cell_type": "markdown",
   "metadata": {},
   "source": [
    "# Problem 5\n",
    "\n",
    "Find the function y(x) that satisies y(−1) = 1, y(1) = 7, and whose surface of\n",
    "revolution (about the x-axis) minimizes surface area. Compute the surface area, and plot the\n",
    "surface. Use N = 50 in the cheb(N) method and use barycentric interpolation to approximate\n",
    "u on 100 evenly spaced points.\n",
    "Below is sample code for creating the 3D wireframe figure."
   ]
  },
  {
   "cell_type": "code",
   "execution_count": null,
   "metadata": {},
   "outputs": [],
   "source": [
    "\n",
    "\n",
    "barycentric = None # This is the output of barycentric_interpolate() on 100 points\n",
    "\n",
    "lin = np.linspace(-1, 1, 100)\n",
    "theta = np.linspace(0, 2*np.pi, 401)\n",
    "X, T = np.meshgrid(lin, theta)\n",
    "Y, Z = barycentric*np.cos(T), barycentric*np.sin(T)\n",
    "fig = plt.figure()\n",
    "ax = fig.add_subplot(projection='3d')\n",
    "ax.plot_wireframe(X, Y, Z, color='b', rstride=10, cstride=10, lw=0.5)"
   ]
  }
 ],
 "metadata": {
  "kernelspec": {
   "display_name": "Python 3 (ipykernel)",
   "language": "python",
   "name": "python3"
  },
  "language_info": {
   "codemirror_mode": {
    "name": "ipython",
    "version": 3
   },
   "file_extension": ".py",
   "mimetype": "text/x-python",
   "name": "python",
   "nbconvert_exporter": "python",
   "pygments_lexer": "ipython3",
   "version": "3.7.4"
  }
 },
 "nbformat": 4,
 "nbformat_minor": 4
}
