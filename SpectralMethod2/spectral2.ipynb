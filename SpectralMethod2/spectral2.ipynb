{
 "cells": [
  {
   "cell_type": "markdown",
   "metadata": {},
   "source": [
    "<h1 align=\"center\">Volume 4: Spectral 2.</h1>\n",
    "\n",
    "    NAME\n",
    "    Section #\n",
    "    DATE"
   ]
  },
  {
   "cell_type": "code",
   "execution_count": null,
   "metadata": {},
   "outputs": [],
   "source": [
    "import numpy as np\n",
    "from scipy.fftpack import fft, ifft\n",
    "import matplotlib.pyplot as plt\n",
    "from scipy.integrate import solve_ivp"
   ]
  },
  {
   "cell_type": "markdown",
   "metadata": {},
   "source": [
    "# Sample Code"
   ]
  },
  {
   "cell_type": "code",
   "execution_count": null,
   "metadata": {},
   "outputs": [],
   "source": [
    "N=24\n",
    "x1 = (2.*np.pi/N)*np.arange(N)\n",
    "f = np.sin(x1)**2.*np.cos(x1) + np.exp(2.*np.sin(x1+1))\n",
    "\n",
    "k = np.concatenate(( np.arange(0,N/2) ,\n",
    "                    np.array([0]) , # Because hat{f}'(k) at k = N/2 is zero.\n",
    "                    np.arange(-N/2+1,0) ))\n",
    "\n",
    "# Approximates the derivative using the pseudospectral method\n",
    "f_hat = fft(f)\n",
    "fp_hat = ((1j*k)*f_hat)\n",
    "fp = np.real(ifft(fp_hat))\n",
    "\n",
    "# Calculates the derivative analytically\n",
    "x2 = np.linspace(0,2*np.pi,200)\n",
    "derivative = (2.*np.sin(x2)*np.cos(x2)**2. -\n",
    "              np.sin(x2)**3. +\n",
    "              2*np.cos(x2+1)*np.exp(2*np.sin(x2+1))\n",
    "             )\n",
    "\n",
    "plt.plot(x2,derivative,'-k',linewidth=2.)\n",
    "plt.plot(x1,fp,'*b')\n",
    "plt.show()"
   ]
  },
  {
   "cell_type": "markdown",
   "metadata": {},
   "source": [
    "# Problem 1\n",
    "\n",
    "Create a function\n",
    "that approximates 1/2u'' − u' on the Fourier grid points for N = 24."
   ]
  },
  {
   "cell_type": "code",
   "execution_count": null,
   "metadata": {},
   "outputs": [],
   "source": []
  },
  {
   "cell_type": "markdown",
   "metadata": {},
   "source": [
    "# Problem 2 \n",
    "Using a solve_ivp, solve the initial value problem. \n",
    "Plot your numerical solution from\n",
    "t = 0 to t = 8 over 250 time steps and 200 x steps. Note that the initial data is nearly zero\n",
    "near x = 0 and 2π, and so we can use the pseudospectral method. a Use the following code to\n",
    "help graph."
   ]
  },
  {
   "cell_type": "code",
   "execution_count": null,
   "metadata": {},
   "outputs": [],
   "source": [
    "t_steps = 250\n",
    "x_steps = 200\n",
    "\n",
    "'''\n",
    "Your code here to set things up\n",
    "'''\n",
    "\n",
    "sol = # use solve_ivp\n",
    "\n",
    "X,Y = np.meshgrid(x_domain, t_domain)\n",
    "fig = plt.figure()\n",
    "ax = fig.add_subplot(111, projection=\"3d\")\n",
    "surf = ax.plot_surface(X,Y,np.transpose(sol.y),cmap='coolwarm')\n",
    "ax.set_zlim(0,3)\n",
    "ax.view_init(elev=40, azim=280)\n",
    "ax.set_xlabel(r'$x$')\n",
    "ax.set_ylabel(r'$T$')\n",
    "ax.set_zlabel(r'$z$')\n",
    "plt.show()"
   ]
  },
  {
   "cell_type": "markdown",
   "metadata": {},
   "source": [
    "# Problem 3\n",
    "Using a solve_ivp, solve the initial value problem. \n",
    "Plot your numerical solution from\n",
    "t = 0 to t = 3 over 150 time steps and 100 x steps. Note that the initial data is nearly zero\n",
    "near x = 0 and 2π, and so we can use the pseudospectral method. a Use the following code to\n",
    "help graph."
   ]
  },
  {
   "cell_type": "code",
   "execution_count": null,
   "metadata": {},
   "outputs": [],
   "source": [
    "t_steps = 150\n",
    "x_steps = 100\n",
    "\n",
    "'''\n",
    "Your code here to set things up\n",
    "'''\n",
    "\n",
    "sol = # use solve_ivp\n",
    "\n",
    "X,Y = np.meshgrid(x_domain, t_domain)\n",
    "fig = plt.figure()\n",
    "ax = fig.add_subplot(111, projection=\"3d\")\n",
    "surf = ax.plot_surface(X,Y,np.transpose(sol.y),cmap='coolwarm')\n",
    "ax.set_zlim(0,3)\n",
    "ax.view_init(elev=40, azim=280)\n",
    "ax.set_xlabel(r'$x$')\n",
    "ax.set_ylabel(r'$T$')\n",
    "ax.set_zlabel(r'$z$')\n",
    "plt.show()"
   ]
  }
 ],
 "metadata": {
  "kernelspec": {
   "display_name": "Python 3 (ipykernel)",
   "language": "python",
   "name": "python3"
  },
  "language_info": {
   "codemirror_mode": {
    "name": "ipython",
    "version": 3
   },
   "file_extension": ".py",
   "mimetype": "text/x-python",
   "name": "python",
   "nbconvert_exporter": "python",
   "pygments_lexer": "ipython3",
   "version": "3.7.4"
  }
 },
 "nbformat": 4,
 "nbformat_minor": 4
}
