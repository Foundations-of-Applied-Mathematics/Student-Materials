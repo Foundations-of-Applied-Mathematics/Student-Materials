{
 "cells": [
  {
   "cell_type": "markdown",
   "metadata": {
    "collapsed": true
   },
   "source": [
    "# Wave Equation\n",
    "\n",
    "## Name\n",
    "\n",
    "## Class\n",
    "\n",
    "## Date"
   ]
  },
  {
   "cell_type": "code",
   "execution_count": null,
   "metadata": {},
   "outputs": [],
   "source": [
    "import numpy as np\n",
    "import matplotlib.pyplot as plt\n",
    "from matplotlib import animation as ani\n",
    "from scipy.linalg import toeplitz\n",
    "import scipy.optimize"
   ]
  },
  {
   "cell_type": "markdown",
   "metadata": {},
   "source": [
    "# Problem 1\n",
    "Numerically approximate the solution to the following BVP\n",
    "\n",
    "$$\n",
    "u_{tt} = u_{xx} \\\\\n",
    "u(0,t) = u(1,t) = 0, \\\\\n",
    "u(x,0) = \\sin(2\\pi x), \\\\\n",
    "u_t(x,0) = 0. \n",
    "$$\n",
    "\n",
    "Numerically approximate the solution $u(x,t)$ for $t\\in[0,0.5]$. Use $J=50$ subintervals in the $x$ dimension and $M=50$ subintervals in the $t$ dimension. Animate the results. Compare you results with the analytic solution $u(x,t) = \\sin(2\\pi x)\\cos(2\\pi t).$ This function is know as a standing wave."
   ]
  },
  {
   "cell_type": "code",
   "execution_count": null,
   "metadata": {
    "collapsed": true
   },
   "outputs": [],
   "source": []
  },
  {
   "cell_type": "markdown",
   "metadata": {},
   "source": [
    "# Problem 2\n",
    "\n",
    "Consider the boundary value problem \n",
    "\n",
    "$$\n",
    "u_{tt} = u_{xx}, \\\\\n",
    "u(0,t) = u(1,t) = 0, \\\\\n",
    "u(x,0) = 0.2e^{-m^2(x-1/2)^2} \\\\\n",
    "y_t(x,0) = 0.4m^2(x-\\frac{1}{2})e^{-m^2(x-1/2)^2}.\n",
    "$$\n",
    "\n",
    "The solution of this problem is ta Gaussian pulse. It travels to the right at a constant speed. This solution models, for example, a wave pulse in a stretched string. Note that the fixed boundart conditions reflect the pulse back when it meets the boundary.\n",
    "\n",
    "Numerically approximate the solution $u(x,t)$ for $t\\in[0,1]$. Set $m=20$. Use 200 subintervals in space and 220 in time, and animate your results. Then use 200 subintervals in space and 180 in time, and animate your results. Note that the stability condition is not satisfied for the second mesh."
   ]
  },
  {
   "cell_type": "code",
   "execution_count": null,
   "metadata": {
    "collapsed": true
   },
   "outputs": [],
   "source": []
  },
  {
   "cell_type": "markdown",
   "metadata": {},
   "source": [
    "# Problem 3\n",
    "\n",
    "Consider the initial boundary value problem\n",
    "$$\n",
    "\tu_{tt} = u_{xx}, \\\\\n",
    "\tu(0,t) = u(1,t) = 0, \\\\\n",
    "\tu(x,0) = 0.2e^{-m^2(x-1/2)^2}\\\\\n",
    "\tu_t(x,0) = 0.\n",
    "$$\n",
    "The initial condition separates into two smaller, slower-moving pulses, one travelling to the right and the other to the left.\n",
    "This solution models, for example, a plucked guitar string\n",
    "\n",
    "Numerically approximate the solution $u(x,t)$ for $t \\in \\left[0,2\\right]$.\n",
    "Set $m=20$.\n",
    "Use 200 subintervals in space and 440 in time, and animate your results.\n",
    "It is rather easy to see that the solution to this problem is the sum of two travelling waves, one travelling to the left and the other to the right, as described earlier."
   ]
  },
  {
   "cell_type": "code",
   "execution_count": null,
   "metadata": {
    "collapsed": true
   },
   "outputs": [],
   "source": []
  },
  {
   "cell_type": "markdown",
   "metadata": {},
   "source": [
    "# Problem 4\n",
    "\n",
    "Consider the initial boundary value problem\n",
    "\n",
    "$$\n",
    "\tu_{tt} = u_{xx}, \\\\\n",
    "\tu(0,t) = u(1,t) = 0, \\\\\n",
    "\tu(x,0) = \\begin{cases} 1/3 & \\text{if } 5/11 < x < 6/11,\\\\\n",
    "\t0 & \\text{otherwise}\n",
    "\t\\end{cases}\\\\\n",
    "\tu_t(x,0) = 0.\n",
    "$$\n",
    "\n",
    "Numerically approximate the solution $u(x,t)$ for $t \\in \\left[0, 2\\right]$.\n",
    "Use 200 subintervals in space and 440 in time, and animate your results.\n",
    "Even though the method is second order and stable for this discretization, since the initial condition is discontinuous there are large dispersive errors."
   ]
  },
  {
   "cell_type": "code",
   "execution_count": null,
   "metadata": {},
   "outputs": [],
   "source": []
  },
  {
   "cell_type": "markdown",
   "metadata": {},
   "source": [
    "# Problem 5\n",
    "\n",
    "\n",
    "Numerically solve the initial value problem\n",
    "\n",
    "$$\n",
    "\tu_t -su_x + uu_x = u_{xx}, \\quad x \\in (-\\infty,\\infty),\\\\\n",
    "\tu(x,0) = v(x),\n",
    "$$\n",
    "\n",
    "for $t \\in [0,1]$.\n",
    "Let the perturbation $v(x)$ be given by\n",
    "\n",
    "$$\n",
    "v(x) = 3.5(\\sin{(3x)} + 1)\\frac{1}{\\sqrt{2\\pi}} \\exp{(-x^2/2)}\n",
    "$$\n",
    "\n",
    "And let the initial condition be $u(x, 0) = \\hat{u}(x) + v(x)$\n",
    "Approximate the $x$ domain,$(-\\infty, \\infty)$, numerically by the finite interval $[-20,20]$, and fix $u(-20) = u_-$, $u(20) = u_+$. Let $u_- = 5$, $u_+ = 1$.\n",
    "Use 150 intervals in space and 350 steps in time.\n",
    "Animate your results.\n",
    "You should see the solution converge to a translate of the travelling wave $\\hat{u}$.\n",
    "\n",
    "Hint: This difference scheme is no longer a linear equation.\n",
    "We have a nonlinear equation in $U^{n+1}$.\n",
    "We can still solve this function using Newton's method or some other similar solver.\n",
    "In this case, use `scipy.optimize.fsolve`."
   ]
  },
  {
   "cell_type": "code",
   "execution_count": null,
   "metadata": {
    "collapsed": true
   },
   "outputs": [],
   "source": []
  }
 ],
 "metadata": {
  "kernelspec": {
   "display_name": "Python 3 (ipykernel)",
   "language": "python",
   "name": "python3"
  },
  "language_info": {
   "codemirror_mode": {
    "name": "ipython",
    "version": 3
   },
   "file_extension": ".py",
   "mimetype": "text/x-python",
   "name": "python",
   "nbconvert_exporter": "python",
   "pygments_lexer": "ipython3",
   "version": "3.11.3"
  }
 },
 "nbformat": 4,
 "nbformat_minor": 1
}
